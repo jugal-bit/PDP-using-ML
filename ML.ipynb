{
 "cells": [
  {
   "cell_type": "code",
   "execution_count": 1,
   "metadata": {},
   "outputs": [],
   "source": [
    "import pandas as pd\n",
    "import numpy as np\n",
    "import warnings\n",
    "warnings.filterwarnings(\"ignore\")\n",
    "pd. set_option('display.max_columns', 500) # or 1000.\n",
    "pd. set_option('display.max_rows', 500) # or 1000."
   ]
  },
  {
   "cell_type": "code",
   "execution_count": 2,
   "metadata": {},
   "outputs": [
    {
     "data": {
      "text/plain": [
       "(50000, 19)"
      ]
     },
     "execution_count": 2,
     "metadata": {},
     "output_type": "execute_result"
    }
   ],
   "source": [
    "#importing the document from folder\n",
    "hr=pd.read_csv(r'C:\\Users\\##Jugal##\\Desktop\\HighRadius\\H2HBABBA2576.csv')\n",
    "hr.shape"
   ]
  },
  {
   "cell_type": "markdown",
   "metadata": {},
   "source": [
    "# Displaying first five datas\n",
    "#getting output upto first five rows using head()\n",
    "hr.head()"
   ]
  },
  {
   "cell_type": "code",
   "execution_count": 3,
   "metadata": {},
   "outputs": [
    {
     "data": {
      "text/html": [
       "<div>\n",
       "<style scoped>\n",
       "    .dataframe tbody tr th:only-of-type {\n",
       "        vertical-align: middle;\n",
       "    }\n",
       "\n",
       "    .dataframe tbody tr th {\n",
       "        vertical-align: top;\n",
       "    }\n",
       "\n",
       "    .dataframe thead th {\n",
       "        text-align: right;\n",
       "    }\n",
       "</style>\n",
       "<table border=\"1\" class=\"dataframe\">\n",
       "  <thead>\n",
       "    <tr style=\"text-align: right;\">\n",
       "      <th></th>\n",
       "      <th>business_code</th>\n",
       "      <th>cust_number</th>\n",
       "      <th>name_customer</th>\n",
       "      <th>clear_date</th>\n",
       "      <th>buisness_year</th>\n",
       "      <th>doc_id</th>\n",
       "      <th>posting_date</th>\n",
       "      <th>document_create_date</th>\n",
       "      <th>document_create_date.1</th>\n",
       "      <th>due_in_date</th>\n",
       "      <th>invoice_currency</th>\n",
       "      <th>document type</th>\n",
       "      <th>posting_id</th>\n",
       "      <th>area_business</th>\n",
       "      <th>total_open_amount</th>\n",
       "      <th>baseline_create_date</th>\n",
       "      <th>cust_payment_terms</th>\n",
       "      <th>invoice_id</th>\n",
       "      <th>isOpen</th>\n",
       "    </tr>\n",
       "  </thead>\n",
       "  <tbody>\n",
       "    <tr>\n",
       "      <td>0</td>\n",
       "      <td>U001</td>\n",
       "      <td>0200936373</td>\n",
       "      <td>SUPE systems</td>\n",
       "      <td>2019-10-02 00:00:00</td>\n",
       "      <td>2019.0</td>\n",
       "      <td>1.929880e+09</td>\n",
       "      <td>2019-09-17</td>\n",
       "      <td>20190916</td>\n",
       "      <td>20190917</td>\n",
       "      <td>20191002.0</td>\n",
       "      <td>USD</td>\n",
       "      <td>RV</td>\n",
       "      <td>1.0</td>\n",
       "      <td>NaN</td>\n",
       "      <td>26250.31</td>\n",
       "      <td>20190917.0</td>\n",
       "      <td>NAA8</td>\n",
       "      <td>1.929880e+09</td>\n",
       "      <td>0</td>\n",
       "    </tr>\n",
       "    <tr>\n",
       "      <td>1</td>\n",
       "      <td>U001</td>\n",
       "      <td>0200769623</td>\n",
       "      <td>WAL-MAR corporation</td>\n",
       "      <td>NaN</td>\n",
       "      <td>2020.0</td>\n",
       "      <td>1.930598e+09</td>\n",
       "      <td>2020-03-04</td>\n",
       "      <td>20200303</td>\n",
       "      <td>20200304</td>\n",
       "      <td>20200319.0</td>\n",
       "      <td>USD</td>\n",
       "      <td>RV</td>\n",
       "      <td>1.0</td>\n",
       "      <td>NaN</td>\n",
       "      <td>57938.76</td>\n",
       "      <td>20200304.0</td>\n",
       "      <td>NAH4</td>\n",
       "      <td>1.930598e+09</td>\n",
       "      <td>1</td>\n",
       "    </tr>\n",
       "    <tr>\n",
       "      <td>2</td>\n",
       "      <td>U001</td>\n",
       "      <td>0200769623</td>\n",
       "      <td>WAL-MAR co</td>\n",
       "      <td>2019-02-04 00:00:00</td>\n",
       "      <td>2019.0</td>\n",
       "      <td>1.928661e+09</td>\n",
       "      <td>2019-01-23</td>\n",
       "      <td>20190122</td>\n",
       "      <td>20190123</td>\n",
       "      <td>20190207.0</td>\n",
       "      <td>USD</td>\n",
       "      <td>RV</td>\n",
       "      <td>1.0</td>\n",
       "      <td>NaN</td>\n",
       "      <td>16646.86</td>\n",
       "      <td>20190123.0</td>\n",
       "      <td>NAH4</td>\n",
       "      <td>1.928661e+09</td>\n",
       "      <td>0</td>\n",
       "    </tr>\n",
       "    <tr>\n",
       "      <td>3</td>\n",
       "      <td>U001</td>\n",
       "      <td>0200780383</td>\n",
       "      <td>MEIJ corporation</td>\n",
       "      <td>NaN</td>\n",
       "      <td>2020.0</td>\n",
       "      <td>1.930862e+09</td>\n",
       "      <td>2020-05-06</td>\n",
       "      <td>20200506</td>\n",
       "      <td>20200506</td>\n",
       "      <td>20200521.0</td>\n",
       "      <td>USD</td>\n",
       "      <td>RV</td>\n",
       "      <td>1.0</td>\n",
       "      <td>NaN</td>\n",
       "      <td>860.30</td>\n",
       "      <td>20200506.0</td>\n",
       "      <td>NAA8</td>\n",
       "      <td>1.930862e+09</td>\n",
       "      <td>1</td>\n",
       "    </tr>\n",
       "    <tr>\n",
       "      <td>4</td>\n",
       "      <td>U001</td>\n",
       "      <td>0200965912</td>\n",
       "      <td>C&amp;S W llc</td>\n",
       "      <td>2020-03-04 00:00:00</td>\n",
       "      <td>2020.0</td>\n",
       "      <td>1.930541e+09</td>\n",
       "      <td>2020-02-18</td>\n",
       "      <td>20200218</td>\n",
       "      <td>20200218</td>\n",
       "      <td>20200304.0</td>\n",
       "      <td>USD</td>\n",
       "      <td>RV</td>\n",
       "      <td>1.0</td>\n",
       "      <td>NaN</td>\n",
       "      <td>90493.26</td>\n",
       "      <td>20200218.0</td>\n",
       "      <td>NAC6</td>\n",
       "      <td>1.930541e+09</td>\n",
       "      <td>0</td>\n",
       "    </tr>\n",
       "  </tbody>\n",
       "</table>\n",
       "</div>"
      ],
      "text/plain": [
       "  business_code cust_number        name_customer           clear_date  \\\n",
       "0          U001  0200936373         SUPE systems  2019-10-02 00:00:00   \n",
       "1          U001  0200769623  WAL-MAR corporation                  NaN   \n",
       "2          U001  0200769623           WAL-MAR co  2019-02-04 00:00:00   \n",
       "3          U001  0200780383     MEIJ corporation                  NaN   \n",
       "4          U001  0200965912            C&S W llc  2020-03-04 00:00:00   \n",
       "\n",
       "   buisness_year        doc_id posting_date  document_create_date  \\\n",
       "0         2019.0  1.929880e+09   2019-09-17              20190916   \n",
       "1         2020.0  1.930598e+09   2020-03-04              20200303   \n",
       "2         2019.0  1.928661e+09   2019-01-23              20190122   \n",
       "3         2020.0  1.930862e+09   2020-05-06              20200506   \n",
       "4         2020.0  1.930541e+09   2020-02-18              20200218   \n",
       "\n",
       "   document_create_date.1  due_in_date invoice_currency document type  \\\n",
       "0                20190917   20191002.0              USD            RV   \n",
       "1                20200304   20200319.0              USD            RV   \n",
       "2                20190123   20190207.0              USD            RV   \n",
       "3                20200506   20200521.0              USD            RV   \n",
       "4                20200218   20200304.0              USD            RV   \n",
       "\n",
       "   posting_id  area_business  total_open_amount  baseline_create_date  \\\n",
       "0         1.0            NaN           26250.31            20190917.0   \n",
       "1         1.0            NaN           57938.76            20200304.0   \n",
       "2         1.0            NaN           16646.86            20190123.0   \n",
       "3         1.0            NaN             860.30            20200506.0   \n",
       "4         1.0            NaN           90493.26            20200218.0   \n",
       "\n",
       "  cust_payment_terms    invoice_id  isOpen  \n",
       "0               NAA8  1.929880e+09       0  \n",
       "1               NAH4  1.930598e+09       1  \n",
       "2               NAH4  1.928661e+09       0  \n",
       "3               NAA8  1.930862e+09       1  \n",
       "4               NAC6  1.930541e+09       0  "
      ]
     },
     "execution_count": 3,
     "metadata": {},
     "output_type": "execute_result"
    }
   ],
   "source": [
    "hr.head()"
   ]
  },
  {
   "cell_type": "code",
   "execution_count": 4,
   "metadata": {},
   "outputs": [
    {
     "name": "stdout",
     "output_type": "stream",
     "text": [
      "<class 'pandas.core.frame.DataFrame'>\n",
      "RangeIndex: 50000 entries, 0 to 49999\n",
      "Data columns (total 19 columns):\n",
      "business_code             50000 non-null object\n",
      "cust_number               50000 non-null object\n",
      "name_customer             50000 non-null object\n",
      "clear_date                40000 non-null object\n",
      "buisness_year             50000 non-null float64\n",
      "doc_id                    50000 non-null float64\n",
      "posting_date              50000 non-null object\n",
      "document_create_date      50000 non-null int64\n",
      "document_create_date.1    50000 non-null int64\n",
      "due_in_date               50000 non-null float64\n",
      "invoice_currency          50000 non-null object\n",
      "document type             50000 non-null object\n",
      "posting_id                50000 non-null float64\n",
      "area_business             0 non-null float64\n",
      "total_open_amount         50000 non-null float64\n",
      "baseline_create_date      50000 non-null float64\n",
      "cust_payment_terms        50000 non-null object\n",
      "invoice_id                49999 non-null float64\n",
      "isOpen                    50000 non-null int64\n",
      "dtypes: float64(8), int64(3), object(8)\n",
      "memory usage: 7.2+ MB\n"
     ]
    }
   ],
   "source": [
    "hr.info()"
   ]
  },
  {
   "cell_type": "markdown",
   "metadata": {},
   "source": [
    "# null count"
   ]
  },
  {
   "cell_type": "code",
   "execution_count": 5,
   "metadata": {},
   "outputs": [
    {
     "data": {
      "text/plain": [
       "business_code                 0\n",
       "cust_number                   0\n",
       "name_customer                 0\n",
       "clear_date                10000\n",
       "buisness_year                 0\n",
       "doc_id                        0\n",
       "posting_date                  0\n",
       "document_create_date          0\n",
       "document_create_date.1        0\n",
       "due_in_date                   0\n",
       "invoice_currency              0\n",
       "document type                 0\n",
       "posting_id                    0\n",
       "area_business             50000\n",
       "total_open_amount             0\n",
       "baseline_create_date          0\n",
       "cust_payment_terms            0\n",
       "invoice_id                    1\n",
       "isOpen                        0\n",
       "dtype: int64"
      ]
     },
     "execution_count": 5,
     "metadata": {},
     "output_type": "execute_result"
    }
   ],
   "source": [
    "#total number of null count from each column using isnull()\n",
    "hr.isnull().sum()"
   ]
  },
  {
   "cell_type": "markdown",
   "metadata": {},
   "source": [
    "# Number of rows and column"
   ]
  },
  {
   "cell_type": "code",
   "execution_count": 6,
   "metadata": {},
   "outputs": [
    {
     "data": {
      "text/plain": [
       "(50000, 19)"
      ]
     },
     "execution_count": 6,
     "metadata": {},
     "output_type": "execute_result"
    }
   ],
   "source": [
    "#shape is used to count the number of rows and column n any dataset\n",
    "hr.shape"
   ]
  },
  {
   "cell_type": "markdown",
   "metadata": {},
   "source": [
    "# Preprocessing"
   ]
  },
  {
   "cell_type": "code",
   "execution_count": 7,
   "metadata": {},
   "outputs": [
    {
     "name": "stdout",
     "output_type": "stream",
     "text": [
      "['posting_id']\n"
     ]
    }
   ],
   "source": [
    "#checking constant columns\n",
    "unique_cols =  [x for x in hr.columns if hr[x].nunique()==1] \n",
    "print(unique_cols)\n"
   ]
  },
  {
   "cell_type": "code",
   "execution_count": 8,
   "metadata": {},
   "outputs": [],
   "source": [
    "\n",
    "hr.drop(unique_cols,axis=1,inplace=True)\n"
   ]
  },
  {
   "cell_type": "code",
   "execution_count": 9,
   "metadata": {},
   "outputs": [
    {
     "data": {
      "text/plain": [
       "Index(['business_code', 'cust_number', 'name_customer', 'clear_date',\n",
       "       'buisness_year', 'doc_id', 'posting_date', 'document_create_date',\n",
       "       'document_create_date.1', 'due_in_date', 'invoice_currency',\n",
       "       'document type', 'area_business', 'total_open_amount',\n",
       "       'baseline_create_date', 'cust_payment_terms', 'invoice_id', 'isOpen'],\n",
       "      dtype='object')"
      ]
     },
     "execution_count": 9,
     "metadata": {},
     "output_type": "execute_result"
    }
   ],
   "source": [
    "hr.columns"
   ]
  },
  {
   "cell_type": "markdown",
   "metadata": {},
   "source": [
    "# null count\n",
    "\n"
   ]
  },
  {
   "cell_type": "code",
   "execution_count": 10,
   "metadata": {},
   "outputs": [
    {
     "data": {
      "text/plain": [
       "business_code                 0\n",
       "cust_number                   0\n",
       "name_customer                 0\n",
       "clear_date                10000\n",
       "buisness_year                 0\n",
       "doc_id                        0\n",
       "posting_date                  0\n",
       "document_create_date          0\n",
       "document_create_date.1        0\n",
       "due_in_date                   0\n",
       "invoice_currency              0\n",
       "document type                 0\n",
       "area_business             50000\n",
       "total_open_amount             0\n",
       "baseline_create_date          0\n",
       "cust_payment_terms            0\n",
       "invoice_id                    1\n",
       "isOpen                        0\n",
       "dtype: int64"
      ]
     },
     "execution_count": 10,
     "metadata": {},
     "output_type": "execute_result"
    }
   ],
   "source": [
    "#total number of null count from each column using isnull()\n",
    "hr.isnull().sum()"
   ]
  },
  {
   "cell_type": "markdown",
   "metadata": {},
   "source": [
    "# Number of rows and column\n"
   ]
  },
  {
   "cell_type": "code",
   "execution_count": 11,
   "metadata": {},
   "outputs": [
    {
     "data": {
      "text/plain": [
       "(50000, 18)"
      ]
     },
     "execution_count": 11,
     "metadata": {},
     "output_type": "execute_result"
    }
   ],
   "source": [
    "#shape is used to count the number of rows and column n any dataset\n",
    "hr.shape"
   ]
  },
  {
   "cell_type": "markdown",
   "metadata": {},
   "source": [
    "# removing of null rows"
   ]
  },
  {
   "cell_type": "code",
   "execution_count": 12,
   "metadata": {},
   "outputs": [
    {
     "data": {
      "text/plain": [
       "(50000, 18)"
      ]
     },
     "execution_count": 12,
     "metadata": {},
     "output_type": "execute_result"
    }
   ],
   "source": [
    "#dropna is used to drop any row or column with how=all will drop where all values in row is null \n",
    "#how=any will drop all row even single value in row is nan\n",
    "hr.dropna(how='all').shape"
   ]
  },
  {
   "cell_type": "code",
   "execution_count": 13,
   "metadata": {},
   "outputs": [
    {
     "data": {
      "text/plain": [
       "(50000, 17)"
      ]
     },
     "execution_count": 13,
     "metadata": {},
     "output_type": "execute_result"
    }
   ],
   "source": [
    "hr.dropna(axis=1,how='all',inplace=True)\n",
    "hr.shape"
   ]
  },
  {
   "cell_type": "markdown",
   "metadata": {},
   "source": [
    "We dropped area_business"
   ]
  },
  {
   "cell_type": "code",
   "execution_count": 14,
   "metadata": {},
   "outputs": [
    {
     "data": {
      "text/plain": [
       "RV    49999\n",
       "X2        1\n",
       "Name: document type, dtype: int64"
      ]
     },
     "execution_count": 14,
     "metadata": {},
     "output_type": "execute_result"
    }
   ],
   "source": [
    "hr[\"document type\"].value_counts()"
   ]
  },
  {
   "cell_type": "markdown",
   "metadata": {},
   "source": [
    "We see that where the invoice id is missing the document type is X2 and posting date is different from document create date. Since their are only 1 values and invoice_id needs to be unique we can drop these rows"
   ]
  },
  {
   "cell_type": "code",
   "execution_count": 15,
   "metadata": {},
   "outputs": [
    {
     "data": {
      "text/html": [
       "<div>\n",
       "<style scoped>\n",
       "    .dataframe tbody tr th:only-of-type {\n",
       "        vertical-align: middle;\n",
       "    }\n",
       "\n",
       "    .dataframe tbody tr th {\n",
       "        vertical-align: top;\n",
       "    }\n",
       "\n",
       "    .dataframe thead th {\n",
       "        text-align: right;\n",
       "    }\n",
       "</style>\n",
       "<table border=\"1\" class=\"dataframe\">\n",
       "  <thead>\n",
       "    <tr style=\"text-align: right;\">\n",
       "      <th></th>\n",
       "      <th>business_code</th>\n",
       "      <th>cust_number</th>\n",
       "      <th>name_customer</th>\n",
       "      <th>clear_date</th>\n",
       "      <th>buisness_year</th>\n",
       "      <th>doc_id</th>\n",
       "      <th>posting_date</th>\n",
       "      <th>document_create_date</th>\n",
       "      <th>document_create_date.1</th>\n",
       "      <th>due_in_date</th>\n",
       "      <th>invoice_currency</th>\n",
       "      <th>document type</th>\n",
       "      <th>total_open_amount</th>\n",
       "      <th>baseline_create_date</th>\n",
       "      <th>cust_payment_terms</th>\n",
       "      <th>invoice_id</th>\n",
       "      <th>isOpen</th>\n",
       "    </tr>\n",
       "  </thead>\n",
       "  <tbody>\n",
       "    <tr>\n",
       "      <td>0</td>\n",
       "      <td>U001</td>\n",
       "      <td>0200936373</td>\n",
       "      <td>SUPE systems</td>\n",
       "      <td>2019-10-02 00:00:00</td>\n",
       "      <td>2019.0</td>\n",
       "      <td>1.929880e+09</td>\n",
       "      <td>2019-09-17</td>\n",
       "      <td>20190916</td>\n",
       "      <td>20190917</td>\n",
       "      <td>20191002.0</td>\n",
       "      <td>USD</td>\n",
       "      <td>RV</td>\n",
       "      <td>26250.31</td>\n",
       "      <td>20190917.0</td>\n",
       "      <td>NAA8</td>\n",
       "      <td>1.929880e+09</td>\n",
       "      <td>0</td>\n",
       "    </tr>\n",
       "    <tr>\n",
       "      <td>1</td>\n",
       "      <td>U001</td>\n",
       "      <td>0200769623</td>\n",
       "      <td>WAL-MAR corporation</td>\n",
       "      <td>NaN</td>\n",
       "      <td>2020.0</td>\n",
       "      <td>1.930598e+09</td>\n",
       "      <td>2020-03-04</td>\n",
       "      <td>20200303</td>\n",
       "      <td>20200304</td>\n",
       "      <td>20200319.0</td>\n",
       "      <td>USD</td>\n",
       "      <td>RV</td>\n",
       "      <td>57938.76</td>\n",
       "      <td>20200304.0</td>\n",
       "      <td>NAH4</td>\n",
       "      <td>1.930598e+09</td>\n",
       "      <td>1</td>\n",
       "    </tr>\n",
       "    <tr>\n",
       "      <td>2</td>\n",
       "      <td>U001</td>\n",
       "      <td>0200769623</td>\n",
       "      <td>WAL-MAR co</td>\n",
       "      <td>2019-02-04 00:00:00</td>\n",
       "      <td>2019.0</td>\n",
       "      <td>1.928661e+09</td>\n",
       "      <td>2019-01-23</td>\n",
       "      <td>20190122</td>\n",
       "      <td>20190123</td>\n",
       "      <td>20190207.0</td>\n",
       "      <td>USD</td>\n",
       "      <td>RV</td>\n",
       "      <td>16646.86</td>\n",
       "      <td>20190123.0</td>\n",
       "      <td>NAH4</td>\n",
       "      <td>1.928661e+09</td>\n",
       "      <td>0</td>\n",
       "    </tr>\n",
       "    <tr>\n",
       "      <td>3</td>\n",
       "      <td>U001</td>\n",
       "      <td>0200780383</td>\n",
       "      <td>MEIJ corporation</td>\n",
       "      <td>NaN</td>\n",
       "      <td>2020.0</td>\n",
       "      <td>1.930862e+09</td>\n",
       "      <td>2020-05-06</td>\n",
       "      <td>20200506</td>\n",
       "      <td>20200506</td>\n",
       "      <td>20200521.0</td>\n",
       "      <td>USD</td>\n",
       "      <td>RV</td>\n",
       "      <td>860.30</td>\n",
       "      <td>20200506.0</td>\n",
       "      <td>NAA8</td>\n",
       "      <td>1.930862e+09</td>\n",
       "      <td>1</td>\n",
       "    </tr>\n",
       "    <tr>\n",
       "      <td>4</td>\n",
       "      <td>U001</td>\n",
       "      <td>0200965912</td>\n",
       "      <td>C&amp;S W llc</td>\n",
       "      <td>2020-03-04 00:00:00</td>\n",
       "      <td>2020.0</td>\n",
       "      <td>1.930541e+09</td>\n",
       "      <td>2020-02-18</td>\n",
       "      <td>20200218</td>\n",
       "      <td>20200218</td>\n",
       "      <td>20200304.0</td>\n",
       "      <td>USD</td>\n",
       "      <td>RV</td>\n",
       "      <td>90493.26</td>\n",
       "      <td>20200218.0</td>\n",
       "      <td>NAC6</td>\n",
       "      <td>1.930541e+09</td>\n",
       "      <td>0</td>\n",
       "    </tr>\n",
       "    <tr>\n",
       "      <td>...</td>\n",
       "      <td>...</td>\n",
       "      <td>...</td>\n",
       "      <td>...</td>\n",
       "      <td>...</td>\n",
       "      <td>...</td>\n",
       "      <td>...</td>\n",
       "      <td>...</td>\n",
       "      <td>...</td>\n",
       "      <td>...</td>\n",
       "      <td>...</td>\n",
       "      <td>...</td>\n",
       "      <td>...</td>\n",
       "      <td>...</td>\n",
       "      <td>...</td>\n",
       "      <td>...</td>\n",
       "      <td>...</td>\n",
       "      <td>...</td>\n",
       "    </tr>\n",
       "    <tr>\n",
       "      <td>49994</td>\n",
       "      <td>U001</td>\n",
       "      <td>0200788848</td>\n",
       "      <td>DAIRY systems</td>\n",
       "      <td>2019-04-24 00:00:00</td>\n",
       "      <td>2019.0</td>\n",
       "      <td>1.929099e+09</td>\n",
       "      <td>2019-04-08</td>\n",
       "      <td>20190406</td>\n",
       "      <td>20190408</td>\n",
       "      <td>20190423.0</td>\n",
       "      <td>USD</td>\n",
       "      <td>RV</td>\n",
       "      <td>57621.96</td>\n",
       "      <td>20190408.0</td>\n",
       "      <td>NAA8</td>\n",
       "      <td>1.929099e+09</td>\n",
       "      <td>0</td>\n",
       "    </tr>\n",
       "    <tr>\n",
       "      <td>49995</td>\n",
       "      <td>U001</td>\n",
       "      <td>0200726979</td>\n",
       "      <td>BJ'S  in</td>\n",
       "      <td>2019-03-26 00:00:00</td>\n",
       "      <td>2019.0</td>\n",
       "      <td>1.928934e+09</td>\n",
       "      <td>2019-03-11</td>\n",
       "      <td>20190309</td>\n",
       "      <td>20190311</td>\n",
       "      <td>20190326.0</td>\n",
       "      <td>USD</td>\n",
       "      <td>RV</td>\n",
       "      <td>275.13</td>\n",
       "      <td>20190311.0</td>\n",
       "      <td>NAA8</td>\n",
       "      <td>1.928934e+09</td>\n",
       "      <td>0</td>\n",
       "    </tr>\n",
       "    <tr>\n",
       "      <td>49996</td>\n",
       "      <td>U001</td>\n",
       "      <td>0200955827</td>\n",
       "      <td>KE co</td>\n",
       "      <td>2019-10-28 00:00:00</td>\n",
       "      <td>2019.0</td>\n",
       "      <td>1.929933e+09</td>\n",
       "      <td>2019-09-26</td>\n",
       "      <td>20190926</td>\n",
       "      <td>20190926</td>\n",
       "      <td>20191011.0</td>\n",
       "      <td>USD</td>\n",
       "      <td>RV</td>\n",
       "      <td>15999.19</td>\n",
       "      <td>20190926.0</td>\n",
       "      <td>NAA8</td>\n",
       "      <td>1.929933e+09</td>\n",
       "      <td>0</td>\n",
       "    </tr>\n",
       "    <tr>\n",
       "      <td>49997</td>\n",
       "      <td>U001</td>\n",
       "      <td>0200769623</td>\n",
       "      <td>WAL-MAR in</td>\n",
       "      <td>2019-04-09 00:00:00</td>\n",
       "      <td>2019.0</td>\n",
       "      <td>1.929052e+09</td>\n",
       "      <td>2019-03-30</td>\n",
       "      <td>20190329</td>\n",
       "      <td>20190330</td>\n",
       "      <td>20190415.0</td>\n",
       "      <td>USD</td>\n",
       "      <td>RV</td>\n",
       "      <td>58773.98</td>\n",
       "      <td>20190331.0</td>\n",
       "      <td>NAH4</td>\n",
       "      <td>1.929052e+09</td>\n",
       "      <td>0</td>\n",
       "    </tr>\n",
       "    <tr>\n",
       "      <td>49998</td>\n",
       "      <td>U001</td>\n",
       "      <td>0100016691</td>\n",
       "      <td>BAY  associates</td>\n",
       "      <td>NaN</td>\n",
       "      <td>2020.0</td>\n",
       "      <td>1.930601e+09</td>\n",
       "      <td>2020-03-04</td>\n",
       "      <td>20200304</td>\n",
       "      <td>20200304</td>\n",
       "      <td>20200403.0</td>\n",
       "      <td>USD</td>\n",
       "      <td>RV</td>\n",
       "      <td>16114.29</td>\n",
       "      <td>20200304.0</td>\n",
       "      <td>NAD5</td>\n",
       "      <td>1.930601e+09</td>\n",
       "      <td>1</td>\n",
       "    </tr>\n",
       "  </tbody>\n",
       "</table>\n",
       "<p>49999 rows × 17 columns</p>\n",
       "</div>"
      ],
      "text/plain": [
       "      business_code cust_number        name_customer           clear_date  \\\n",
       "0              U001  0200936373         SUPE systems  2019-10-02 00:00:00   \n",
       "1              U001  0200769623  WAL-MAR corporation                  NaN   \n",
       "2              U001  0200769623           WAL-MAR co  2019-02-04 00:00:00   \n",
       "3              U001  0200780383     MEIJ corporation                  NaN   \n",
       "4              U001  0200965912            C&S W llc  2020-03-04 00:00:00   \n",
       "...             ...         ...                  ...                  ...   \n",
       "49994          U001  0200788848        DAIRY systems  2019-04-24 00:00:00   \n",
       "49995          U001  0200726979             BJ'S  in  2019-03-26 00:00:00   \n",
       "49996          U001  0200955827                KE co  2019-10-28 00:00:00   \n",
       "49997          U001  0200769623           WAL-MAR in  2019-04-09 00:00:00   \n",
       "49998          U001  0100016691      BAY  associates                  NaN   \n",
       "\n",
       "       buisness_year        doc_id posting_date  document_create_date  \\\n",
       "0             2019.0  1.929880e+09   2019-09-17              20190916   \n",
       "1             2020.0  1.930598e+09   2020-03-04              20200303   \n",
       "2             2019.0  1.928661e+09   2019-01-23              20190122   \n",
       "3             2020.0  1.930862e+09   2020-05-06              20200506   \n",
       "4             2020.0  1.930541e+09   2020-02-18              20200218   \n",
       "...              ...           ...          ...                   ...   \n",
       "49994         2019.0  1.929099e+09   2019-04-08              20190406   \n",
       "49995         2019.0  1.928934e+09   2019-03-11              20190309   \n",
       "49996         2019.0  1.929933e+09   2019-09-26              20190926   \n",
       "49997         2019.0  1.929052e+09   2019-03-30              20190329   \n",
       "49998         2020.0  1.930601e+09   2020-03-04              20200304   \n",
       "\n",
       "       document_create_date.1  due_in_date invoice_currency document type  \\\n",
       "0                    20190917   20191002.0              USD            RV   \n",
       "1                    20200304   20200319.0              USD            RV   \n",
       "2                    20190123   20190207.0              USD            RV   \n",
       "3                    20200506   20200521.0              USD            RV   \n",
       "4                    20200218   20200304.0              USD            RV   \n",
       "...                       ...          ...              ...           ...   \n",
       "49994                20190408   20190423.0              USD            RV   \n",
       "49995                20190311   20190326.0              USD            RV   \n",
       "49996                20190926   20191011.0              USD            RV   \n",
       "49997                20190330   20190415.0              USD            RV   \n",
       "49998                20200304   20200403.0              USD            RV   \n",
       "\n",
       "       total_open_amount  baseline_create_date cust_payment_terms  \\\n",
       "0               26250.31            20190917.0               NAA8   \n",
       "1               57938.76            20200304.0               NAH4   \n",
       "2               16646.86            20190123.0               NAH4   \n",
       "3                 860.30            20200506.0               NAA8   \n",
       "4               90493.26            20200218.0               NAC6   \n",
       "...                  ...                   ...                ...   \n",
       "49994           57621.96            20190408.0               NAA8   \n",
       "49995             275.13            20190311.0               NAA8   \n",
       "49996           15999.19            20190926.0               NAA8   \n",
       "49997           58773.98            20190331.0               NAH4   \n",
       "49998           16114.29            20200304.0               NAD5   \n",
       "\n",
       "         invoice_id  isOpen  \n",
       "0      1.929880e+09       0  \n",
       "1      1.930598e+09       1  \n",
       "2      1.928661e+09       0  \n",
       "3      1.930862e+09       1  \n",
       "4      1.930541e+09       0  \n",
       "...             ...     ...  \n",
       "49994  1.929099e+09       0  \n",
       "49995  1.928934e+09       0  \n",
       "49996  1.929933e+09       0  \n",
       "49997  1.929052e+09       0  \n",
       "49998  1.930601e+09       1  \n",
       "\n",
       "[49999 rows x 17 columns]"
      ]
     },
     "execution_count": 15,
     "metadata": {},
     "output_type": "execute_result"
    }
   ],
   "source": [
    "hr.dropna(axis=0,subset=['invoice_id'],inplace=True)\n",
    "hr.reset_index(drop=True,inplace=True)\n",
    "hr.shape\n",
    "hr"
   ]
  },
  {
   "cell_type": "markdown",
   "metadata": {},
   "source": [
    "### Checking for unique values in each column"
   ]
  },
  {
   "cell_type": "code",
   "execution_count": 16,
   "metadata": {},
   "outputs": [
    {
     "name": "stdout",
     "output_type": "stream",
     "text": [
      "business_code - 6\n",
      "cust_number - 1377\n",
      "name_customer - 4140\n",
      "clear_date - 396\n",
      "buisness_year - 2\n",
      "doc_id - 48844\n",
      "posting_date - 504\n",
      "document_create_date - 508\n",
      "document_create_date.1 - 504\n",
      "due_in_date - 548\n",
      "invoice_currency - 2\n",
      "document type - 1\n",
      "total_open_amount - 44121\n",
      "baseline_create_date - 506\n",
      "cust_payment_terms - 75\n",
      "invoice_id - 48844\n",
      "isOpen - 2\n"
     ]
    }
   ],
   "source": [
    "for cols in hr.columns:   \n",
    "    print(f\"{cols} - {hr[f'{cols}'].nunique()}\")"
   ]
  },
  {
   "cell_type": "markdown",
   "metadata": {},
   "source": [
    "There is only 1 unique value in document type. We can drop it."
   ]
  },
  {
   "cell_type": "code",
   "execution_count": 17,
   "metadata": {},
   "outputs": [
    {
     "name": "stdout",
     "output_type": "stream",
     "text": [
      "['document type']\n"
     ]
    },
    {
     "data": {
      "text/plain": [
       "Index(['business_code', 'cust_number', 'name_customer', 'clear_date',\n",
       "       'buisness_year', 'doc_id', 'posting_date', 'document_create_date',\n",
       "       'document_create_date.1', 'due_in_date', 'invoice_currency',\n",
       "       'total_open_amount', 'baseline_create_date', 'cust_payment_terms',\n",
       "       'invoice_id', 'isOpen'],\n",
       "      dtype='object')"
      ]
     },
     "execution_count": 17,
     "metadata": {},
     "output_type": "execute_result"
    }
   ],
   "source": [
    "unique_cols =  [x for x in hr.columns if hr[x].nunique()==1] \n",
    "print(unique_cols)\n",
    "hr.drop(unique_cols,axis=1,inplace=True)\n",
    "hr.columns"
   ]
  },
  {
   "cell_type": "markdown",
   "metadata": {},
   "source": [
    "#### Now let's check for NULL values again."
   ]
  },
  {
   "cell_type": "code",
   "execution_count": 18,
   "metadata": {},
   "outputs": [
    {
     "data": {
      "text/plain": [
       "business_code             False\n",
       "cust_number               False\n",
       "name_customer             False\n",
       "clear_date                 True\n",
       "buisness_year             False\n",
       "doc_id                    False\n",
       "posting_date              False\n",
       "document_create_date      False\n",
       "document_create_date.1    False\n",
       "due_in_date               False\n",
       "invoice_currency          False\n",
       "total_open_amount         False\n",
       "baseline_create_date      False\n",
       "cust_payment_terms        False\n",
       "invoice_id                False\n",
       "isOpen                    False\n",
       "dtype: bool"
      ]
     },
     "execution_count": 18,
     "metadata": {},
     "output_type": "execute_result"
    }
   ],
   "source": [
    "hr.isnull().any()"
   ]
  },
  {
   "cell_type": "markdown",
   "metadata": {},
   "source": [
    "### Duplicate column removal"
   ]
  },
  {
   "cell_type": "code",
   "execution_count": 19,
   "metadata": {},
   "outputs": [],
   "source": [
    "# function to find duplicate columns\n",
    "def findDuplicateColumns(hr):\n",
    "    duplicatecolumns=set()\n",
    "    for x in range(hr.shape[1]):\n",
    "        col1=hr.iloc[:,x]\n",
    "        for y in range(x+1,hr.shape[1]):\n",
    "            col2=hr.iloc[:,y]\n",
    "            if col1.equals(col2):\n",
    "                duplicatecolumns.add(hr.columns.values[x])\n",
    "    return list(duplicatecolumns)"
   ]
  },
  {
   "cell_type": "markdown",
   "metadata": {},
   "source": [
    "Using user-defined function as the in-built function was computationally expensive."
   ]
  },
  {
   "cell_type": "code",
   "execution_count": 20,
   "metadata": {},
   "outputs": [
    {
     "data": {
      "text/plain": [
       "['doc_id']"
      ]
     },
     "execution_count": 20,
     "metadata": {},
     "output_type": "execute_result"
    }
   ],
   "source": [
    "dr=findDuplicateColumns(hr)\n",
    "dr"
   ]
  },
  {
   "cell_type": "code",
   "execution_count": 21,
   "metadata": {},
   "outputs": [],
   "source": [
    "hr.drop(columns=dr,inplace=True)"
   ]
  },
  {
   "cell_type": "markdown",
   "metadata": {},
   "source": [
    "We dropped doc_id.\n",
    "\n",
    "Now, to avoid discrepancy between document_create_date and document_create_date.1 we drop document_create_date and instead use document_create_date.1"
   ]
  },
  {
   "cell_type": "code",
   "execution_count": 22,
   "metadata": {},
   "outputs": [],
   "source": [
    "hr.drop(columns=['document_create_date'],inplace=True)"
   ]
  },
  {
   "cell_type": "markdown",
   "metadata": {},
   "source": [
    "# duplicate data in invoice_id\n"
   ]
  },
  {
   "cell_type": "code",
   "execution_count": 23,
   "metadata": {},
   "outputs": [
    {
     "data": {
      "text/html": [
       "<div>\n",
       "<style scoped>\n",
       "    .dataframe tbody tr th:only-of-type {\n",
       "        vertical-align: middle;\n",
       "    }\n",
       "\n",
       "    .dataframe tbody tr th {\n",
       "        vertical-align: top;\n",
       "    }\n",
       "\n",
       "    .dataframe thead th {\n",
       "        text-align: right;\n",
       "    }\n",
       "</style>\n",
       "<table border=\"1\" class=\"dataframe\">\n",
       "  <thead>\n",
       "    <tr style=\"text-align: right;\">\n",
       "      <th></th>\n",
       "      <th>business_code</th>\n",
       "      <th>cust_number</th>\n",
       "      <th>name_customer</th>\n",
       "      <th>clear_date</th>\n",
       "      <th>buisness_year</th>\n",
       "      <th>posting_date</th>\n",
       "      <th>document_create_date.1</th>\n",
       "      <th>due_in_date</th>\n",
       "      <th>invoice_currency</th>\n",
       "      <th>total_open_amount</th>\n",
       "      <th>baseline_create_date</th>\n",
       "      <th>cust_payment_terms</th>\n",
       "      <th>invoice_id</th>\n",
       "      <th>isOpen</th>\n",
       "    </tr>\n",
       "  </thead>\n",
       "  <tbody>\n",
       "    <tr>\n",
       "      <td>2417</td>\n",
       "      <td>U001</td>\n",
       "      <td>0200769623</td>\n",
       "      <td>WAL-MAR trust</td>\n",
       "      <td>2019-08-15 00:00:00</td>\n",
       "      <td>2019.0</td>\n",
       "      <td>2019-08-05</td>\n",
       "      <td>20190805</td>\n",
       "      <td>20190820.0</td>\n",
       "      <td>USD</td>\n",
       "      <td>73003.44</td>\n",
       "      <td>20190805.0</td>\n",
       "      <td>NAH4</td>\n",
       "      <td>1.929701e+09</td>\n",
       "      <td>0</td>\n",
       "    </tr>\n",
       "    <tr>\n",
       "      <td>2823</td>\n",
       "      <td>U001</td>\n",
       "      <td>0200706844</td>\n",
       "      <td>WINC co</td>\n",
       "      <td>2019-10-15 00:00:00</td>\n",
       "      <td>2019.0</td>\n",
       "      <td>2019-09-27</td>\n",
       "      <td>20190927</td>\n",
       "      <td>20191012.0</td>\n",
       "      <td>USD</td>\n",
       "      <td>27317.82</td>\n",
       "      <td>20190927.0</td>\n",
       "      <td>NAA8</td>\n",
       "      <td>1.929922e+09</td>\n",
       "      <td>0</td>\n",
       "    </tr>\n",
       "    <tr>\n",
       "      <td>3049</td>\n",
       "      <td>U001</td>\n",
       "      <td>0200777735</td>\n",
       "      <td>NASH</td>\n",
       "      <td>2019-11-19 00:00:00</td>\n",
       "      <td>2019.0</td>\n",
       "      <td>2019-11-05</td>\n",
       "      <td>20191105</td>\n",
       "      <td>20191120.0</td>\n",
       "      <td>USD</td>\n",
       "      <td>94584.35</td>\n",
       "      <td>20191105.0</td>\n",
       "      <td>NAA8</td>\n",
       "      <td>1.930100e+09</td>\n",
       "      <td>0</td>\n",
       "    </tr>\n",
       "    <tr>\n",
       "      <td>3396</td>\n",
       "      <td>U001</td>\n",
       "      <td>0200722444</td>\n",
       "      <td>PERFOR llc</td>\n",
       "      <td>2019-09-17 00:00:00</td>\n",
       "      <td>2019.0</td>\n",
       "      <td>2019-09-04</td>\n",
       "      <td>20190904</td>\n",
       "      <td>20191006.0</td>\n",
       "      <td>USD</td>\n",
       "      <td>4894.74</td>\n",
       "      <td>20190904.0</td>\n",
       "      <td>NA32</td>\n",
       "      <td>1.929827e+09</td>\n",
       "      <td>0</td>\n",
       "    </tr>\n",
       "    <tr>\n",
       "      <td>3533</td>\n",
       "      <td>U001</td>\n",
       "      <td>0200762301</td>\n",
       "      <td>C&amp;S WH systems</td>\n",
       "      <td>NaN</td>\n",
       "      <td>2020.0</td>\n",
       "      <td>2020-04-22</td>\n",
       "      <td>20200422</td>\n",
       "      <td>20200507.0</td>\n",
       "      <td>USD</td>\n",
       "      <td>99685.29</td>\n",
       "      <td>20200422.0</td>\n",
       "      <td>NAC6</td>\n",
       "      <td>1.930809e+09</td>\n",
       "      <td>1</td>\n",
       "    </tr>\n",
       "    <tr>\n",
       "      <td>...</td>\n",
       "      <td>...</td>\n",
       "      <td>...</td>\n",
       "      <td>...</td>\n",
       "      <td>...</td>\n",
       "      <td>...</td>\n",
       "      <td>...</td>\n",
       "      <td>...</td>\n",
       "      <td>...</td>\n",
       "      <td>...</td>\n",
       "      <td>...</td>\n",
       "      <td>...</td>\n",
       "      <td>...</td>\n",
       "      <td>...</td>\n",
       "      <td>...</td>\n",
       "    </tr>\n",
       "    <tr>\n",
       "      <td>49920</td>\n",
       "      <td>U001</td>\n",
       "      <td>0200152991</td>\n",
       "      <td>JET in</td>\n",
       "      <td>2019-10-11 00:00:00</td>\n",
       "      <td>2019.0</td>\n",
       "      <td>2019-09-26</td>\n",
       "      <td>20190926</td>\n",
       "      <td>20191011.0</td>\n",
       "      <td>USD</td>\n",
       "      <td>8564.02</td>\n",
       "      <td>20190926.0</td>\n",
       "      <td>NAA8</td>\n",
       "      <td>1.929927e+09</td>\n",
       "      <td>0</td>\n",
       "    </tr>\n",
       "    <tr>\n",
       "      <td>49945</td>\n",
       "      <td>U001</td>\n",
       "      <td>0200571849</td>\n",
       "      <td>US  systems</td>\n",
       "      <td>2019-12-06 00:00:00</td>\n",
       "      <td>2019.0</td>\n",
       "      <td>2019-11-19</td>\n",
       "      <td>20191119</td>\n",
       "      <td>20191204.0</td>\n",
       "      <td>USD</td>\n",
       "      <td>18332.93</td>\n",
       "      <td>20191119.0</td>\n",
       "      <td>NAA8</td>\n",
       "      <td>1.930169e+09</td>\n",
       "      <td>0</td>\n",
       "    </tr>\n",
       "    <tr>\n",
       "      <td>49950</td>\n",
       "      <td>U001</td>\n",
       "      <td>0200759082</td>\n",
       "      <td>INGL corp</td>\n",
       "      <td>NaN</td>\n",
       "      <td>2020.0</td>\n",
       "      <td>2020-04-05</td>\n",
       "      <td>20200405</td>\n",
       "      <td>20200420.0</td>\n",
       "      <td>USD</td>\n",
       "      <td>45394.98</td>\n",
       "      <td>20200405.0</td>\n",
       "      <td>NAA8</td>\n",
       "      <td>1.930751e+09</td>\n",
       "      <td>1</td>\n",
       "    </tr>\n",
       "    <tr>\n",
       "      <td>49961</td>\n",
       "      <td>CA02</td>\n",
       "      <td>0140105686</td>\n",
       "      <td>SYSC associates</td>\n",
       "      <td>2019-06-03 00:00:00</td>\n",
       "      <td>2019.0</td>\n",
       "      <td>2019-01-15</td>\n",
       "      <td>20190115</td>\n",
       "      <td>20190203.0</td>\n",
       "      <td>CAD</td>\n",
       "      <td>22278.69</td>\n",
       "      <td>20190124.0</td>\n",
       "      <td>CA10</td>\n",
       "      <td>2.960522e+09</td>\n",
       "      <td>0</td>\n",
       "    </tr>\n",
       "    <tr>\n",
       "      <td>49965</td>\n",
       "      <td>U001</td>\n",
       "      <td>0200526831</td>\n",
       "      <td>PERISH corp</td>\n",
       "      <td>2020-02-06 00:00:00</td>\n",
       "      <td>2020.0</td>\n",
       "      <td>2020-01-24</td>\n",
       "      <td>20200124</td>\n",
       "      <td>20200208.0</td>\n",
       "      <td>USD</td>\n",
       "      <td>108322.54</td>\n",
       "      <td>20200124.0</td>\n",
       "      <td>NAA8</td>\n",
       "      <td>1.930435e+09</td>\n",
       "      <td>0</td>\n",
       "    </tr>\n",
       "  </tbody>\n",
       "</table>\n",
       "<p>1155 rows × 14 columns</p>\n",
       "</div>"
      ],
      "text/plain": [
       "      business_code cust_number    name_customer           clear_date  \\\n",
       "2417           U001  0200769623    WAL-MAR trust  2019-08-15 00:00:00   \n",
       "2823           U001  0200706844          WINC co  2019-10-15 00:00:00   \n",
       "3049           U001  0200777735           NASH    2019-11-19 00:00:00   \n",
       "3396           U001  0200722444       PERFOR llc  2019-09-17 00:00:00   \n",
       "3533           U001  0200762301   C&S WH systems                  NaN   \n",
       "...             ...         ...              ...                  ...   \n",
       "49920          U001  0200152991           JET in  2019-10-11 00:00:00   \n",
       "49945          U001  0200571849      US  systems  2019-12-06 00:00:00   \n",
       "49950          U001  0200759082        INGL corp                  NaN   \n",
       "49961          CA02  0140105686  SYSC associates  2019-06-03 00:00:00   \n",
       "49965          U001  0200526831      PERISH corp  2020-02-06 00:00:00   \n",
       "\n",
       "       buisness_year posting_date  document_create_date.1  due_in_date  \\\n",
       "2417          2019.0   2019-08-05                20190805   20190820.0   \n",
       "2823          2019.0   2019-09-27                20190927   20191012.0   \n",
       "3049          2019.0   2019-11-05                20191105   20191120.0   \n",
       "3396          2019.0   2019-09-04                20190904   20191006.0   \n",
       "3533          2020.0   2020-04-22                20200422   20200507.0   \n",
       "...              ...          ...                     ...          ...   \n",
       "49920         2019.0   2019-09-26                20190926   20191011.0   \n",
       "49945         2019.0   2019-11-19                20191119   20191204.0   \n",
       "49950         2020.0   2020-04-05                20200405   20200420.0   \n",
       "49961         2019.0   2019-01-15                20190115   20190203.0   \n",
       "49965         2020.0   2020-01-24                20200124   20200208.0   \n",
       "\n",
       "      invoice_currency  total_open_amount  baseline_create_date  \\\n",
       "2417               USD           73003.44            20190805.0   \n",
       "2823               USD           27317.82            20190927.0   \n",
       "3049               USD           94584.35            20191105.0   \n",
       "3396               USD            4894.74            20190904.0   \n",
       "3533               USD           99685.29            20200422.0   \n",
       "...                ...                ...                   ...   \n",
       "49920              USD            8564.02            20190926.0   \n",
       "49945              USD           18332.93            20191119.0   \n",
       "49950              USD           45394.98            20200405.0   \n",
       "49961              CAD           22278.69            20190124.0   \n",
       "49965              USD          108322.54            20200124.0   \n",
       "\n",
       "      cust_payment_terms    invoice_id  isOpen  \n",
       "2417                NAH4  1.929701e+09       0  \n",
       "2823                NAA8  1.929922e+09       0  \n",
       "3049                NAA8  1.930100e+09       0  \n",
       "3396                NA32  1.929827e+09       0  \n",
       "3533                NAC6  1.930809e+09       1  \n",
       "...                  ...           ...     ...  \n",
       "49920               NAA8  1.929927e+09       0  \n",
       "49945               NAA8  1.930169e+09       0  \n",
       "49950               NAA8  1.930751e+09       1  \n",
       "49961               CA10  2.960522e+09       0  \n",
       "49965               NAA8  1.930435e+09       0  \n",
       "\n",
       "[1155 rows x 14 columns]"
      ]
     },
     "execution_count": 23,
     "metadata": {},
     "output_type": "execute_result"
    }
   ],
   "source": [
    "#since invoice_id is unique for a single transaction so we can check the duplication in datas according to it\n",
    "hr.loc[hr.duplicated('invoice_id'),:]"
   ]
  },
  {
   "cell_type": "markdown",
   "metadata": {},
   "source": [
    "# removing duplicate rows"
   ]
  },
  {
   "cell_type": "code",
   "execution_count": 24,
   "metadata": {},
   "outputs": [],
   "source": [
    "#dropping the duplicates column so as to decrease the noise in data\n",
    "hr.drop_duplicates(keep='first',inplace=True)"
   ]
  },
  {
   "cell_type": "markdown",
   "metadata": {},
   "source": [
    "# Getting details of dataframe"
   ]
  },
  {
   "cell_type": "code",
   "execution_count": 25,
   "metadata": {},
   "outputs": [
    {
     "name": "stdout",
     "output_type": "stream",
     "text": [
      "<class 'pandas.core.frame.DataFrame'>\n",
      "Int64Index: 48844 entries, 0 to 49998\n",
      "Data columns (total 14 columns):\n",
      "business_code             48844 non-null object\n",
      "cust_number               48844 non-null object\n",
      "name_customer             48844 non-null object\n",
      "clear_date                39131 non-null object\n",
      "buisness_year             48844 non-null float64\n",
      "posting_date              48844 non-null object\n",
      "document_create_date.1    48844 non-null int64\n",
      "due_in_date               48844 non-null float64\n",
      "invoice_currency          48844 non-null object\n",
      "total_open_amount         48844 non-null float64\n",
      "baseline_create_date      48844 non-null float64\n",
      "cust_payment_terms        48844 non-null object\n",
      "invoice_id                48844 non-null float64\n",
      "isOpen                    48844 non-null int64\n",
      "dtypes: float64(5), int64(2), object(7)\n",
      "memory usage: 5.6+ MB\n"
     ]
    }
   ],
   "source": [
    "#it will give the entire information about the dates with data type and count of non-null values\n",
    "hr.info()"
   ]
  },
  {
   "cell_type": "code",
   "execution_count": 26,
   "metadata": {},
   "outputs": [
    {
     "data": {
      "text/plain": [
       "48844"
      ]
     },
     "execution_count": 26,
     "metadata": {},
     "output_type": "execute_result"
    }
   ],
   "source": [
    "hr['invoice_id'].nunique()"
   ]
  },
  {
   "cell_type": "markdown",
   "metadata": {},
   "source": [
    "Also, invoice id is unique for each transaction and don't affect the sales, so we drop it."
   ]
  },
  {
   "cell_type": "code",
   "execution_count": 27,
   "metadata": {},
   "outputs": [
    {
     "data": {
      "text/html": [
       "<div>\n",
       "<style scoped>\n",
       "    .dataframe tbody tr th:only-of-type {\n",
       "        vertical-align: middle;\n",
       "    }\n",
       "\n",
       "    .dataframe tbody tr th {\n",
       "        vertical-align: top;\n",
       "    }\n",
       "\n",
       "    .dataframe thead th {\n",
       "        text-align: right;\n",
       "    }\n",
       "</style>\n",
       "<table border=\"1\" class=\"dataframe\">\n",
       "  <thead>\n",
       "    <tr style=\"text-align: right;\">\n",
       "      <th></th>\n",
       "      <th>business_code</th>\n",
       "      <th>cust_number</th>\n",
       "      <th>name_customer</th>\n",
       "      <th>clear_date</th>\n",
       "      <th>buisness_year</th>\n",
       "      <th>posting_date</th>\n",
       "      <th>document_create_date.1</th>\n",
       "      <th>due_in_date</th>\n",
       "      <th>invoice_currency</th>\n",
       "      <th>total_open_amount</th>\n",
       "      <th>baseline_create_date</th>\n",
       "      <th>cust_payment_terms</th>\n",
       "      <th>isOpen</th>\n",
       "    </tr>\n",
       "  </thead>\n",
       "  <tbody>\n",
       "    <tr>\n",
       "      <td>0</td>\n",
       "      <td>U001</td>\n",
       "      <td>0200936373</td>\n",
       "      <td>SUPE systems</td>\n",
       "      <td>2019-10-02 00:00:00</td>\n",
       "      <td>2019.0</td>\n",
       "      <td>2019-09-17</td>\n",
       "      <td>20190917</td>\n",
       "      <td>20191002.0</td>\n",
       "      <td>USD</td>\n",
       "      <td>26250.31</td>\n",
       "      <td>20190917.0</td>\n",
       "      <td>NAA8</td>\n",
       "      <td>0</td>\n",
       "    </tr>\n",
       "    <tr>\n",
       "      <td>1</td>\n",
       "      <td>U001</td>\n",
       "      <td>0200769623</td>\n",
       "      <td>WAL-MAR corporation</td>\n",
       "      <td>NaN</td>\n",
       "      <td>2020.0</td>\n",
       "      <td>2020-03-04</td>\n",
       "      <td>20200304</td>\n",
       "      <td>20200319.0</td>\n",
       "      <td>USD</td>\n",
       "      <td>57938.76</td>\n",
       "      <td>20200304.0</td>\n",
       "      <td>NAH4</td>\n",
       "      <td>1</td>\n",
       "    </tr>\n",
       "    <tr>\n",
       "      <td>2</td>\n",
       "      <td>U001</td>\n",
       "      <td>0200769623</td>\n",
       "      <td>WAL-MAR co</td>\n",
       "      <td>2019-02-04 00:00:00</td>\n",
       "      <td>2019.0</td>\n",
       "      <td>2019-01-23</td>\n",
       "      <td>20190123</td>\n",
       "      <td>20190207.0</td>\n",
       "      <td>USD</td>\n",
       "      <td>16646.86</td>\n",
       "      <td>20190123.0</td>\n",
       "      <td>NAH4</td>\n",
       "      <td>0</td>\n",
       "    </tr>\n",
       "    <tr>\n",
       "      <td>3</td>\n",
       "      <td>U001</td>\n",
       "      <td>0200780383</td>\n",
       "      <td>MEIJ corporation</td>\n",
       "      <td>NaN</td>\n",
       "      <td>2020.0</td>\n",
       "      <td>2020-05-06</td>\n",
       "      <td>20200506</td>\n",
       "      <td>20200521.0</td>\n",
       "      <td>USD</td>\n",
       "      <td>860.30</td>\n",
       "      <td>20200506.0</td>\n",
       "      <td>NAA8</td>\n",
       "      <td>1</td>\n",
       "    </tr>\n",
       "    <tr>\n",
       "      <td>4</td>\n",
       "      <td>U001</td>\n",
       "      <td>0200965912</td>\n",
       "      <td>C&amp;S W llc</td>\n",
       "      <td>2020-03-04 00:00:00</td>\n",
       "      <td>2020.0</td>\n",
       "      <td>2020-02-18</td>\n",
       "      <td>20200218</td>\n",
       "      <td>20200304.0</td>\n",
       "      <td>USD</td>\n",
       "      <td>90493.26</td>\n",
       "      <td>20200218.0</td>\n",
       "      <td>NAC6</td>\n",
       "      <td>0</td>\n",
       "    </tr>\n",
       "    <tr>\n",
       "      <td>...</td>\n",
       "      <td>...</td>\n",
       "      <td>...</td>\n",
       "      <td>...</td>\n",
       "      <td>...</td>\n",
       "      <td>...</td>\n",
       "      <td>...</td>\n",
       "      <td>...</td>\n",
       "      <td>...</td>\n",
       "      <td>...</td>\n",
       "      <td>...</td>\n",
       "      <td>...</td>\n",
       "      <td>...</td>\n",
       "      <td>...</td>\n",
       "    </tr>\n",
       "    <tr>\n",
       "      <td>49994</td>\n",
       "      <td>U001</td>\n",
       "      <td>0200788848</td>\n",
       "      <td>DAIRY systems</td>\n",
       "      <td>2019-04-24 00:00:00</td>\n",
       "      <td>2019.0</td>\n",
       "      <td>2019-04-08</td>\n",
       "      <td>20190408</td>\n",
       "      <td>20190423.0</td>\n",
       "      <td>USD</td>\n",
       "      <td>57621.96</td>\n",
       "      <td>20190408.0</td>\n",
       "      <td>NAA8</td>\n",
       "      <td>0</td>\n",
       "    </tr>\n",
       "    <tr>\n",
       "      <td>49995</td>\n",
       "      <td>U001</td>\n",
       "      <td>0200726979</td>\n",
       "      <td>BJ'S  in</td>\n",
       "      <td>2019-03-26 00:00:00</td>\n",
       "      <td>2019.0</td>\n",
       "      <td>2019-03-11</td>\n",
       "      <td>20190311</td>\n",
       "      <td>20190326.0</td>\n",
       "      <td>USD</td>\n",
       "      <td>275.13</td>\n",
       "      <td>20190311.0</td>\n",
       "      <td>NAA8</td>\n",
       "      <td>0</td>\n",
       "    </tr>\n",
       "    <tr>\n",
       "      <td>49996</td>\n",
       "      <td>U001</td>\n",
       "      <td>0200955827</td>\n",
       "      <td>KE co</td>\n",
       "      <td>2019-10-28 00:00:00</td>\n",
       "      <td>2019.0</td>\n",
       "      <td>2019-09-26</td>\n",
       "      <td>20190926</td>\n",
       "      <td>20191011.0</td>\n",
       "      <td>USD</td>\n",
       "      <td>15999.19</td>\n",
       "      <td>20190926.0</td>\n",
       "      <td>NAA8</td>\n",
       "      <td>0</td>\n",
       "    </tr>\n",
       "    <tr>\n",
       "      <td>49997</td>\n",
       "      <td>U001</td>\n",
       "      <td>0200769623</td>\n",
       "      <td>WAL-MAR in</td>\n",
       "      <td>2019-04-09 00:00:00</td>\n",
       "      <td>2019.0</td>\n",
       "      <td>2019-03-30</td>\n",
       "      <td>20190330</td>\n",
       "      <td>20190415.0</td>\n",
       "      <td>USD</td>\n",
       "      <td>58773.98</td>\n",
       "      <td>20190331.0</td>\n",
       "      <td>NAH4</td>\n",
       "      <td>0</td>\n",
       "    </tr>\n",
       "    <tr>\n",
       "      <td>49998</td>\n",
       "      <td>U001</td>\n",
       "      <td>0100016691</td>\n",
       "      <td>BAY  associates</td>\n",
       "      <td>NaN</td>\n",
       "      <td>2020.0</td>\n",
       "      <td>2020-03-04</td>\n",
       "      <td>20200304</td>\n",
       "      <td>20200403.0</td>\n",
       "      <td>USD</td>\n",
       "      <td>16114.29</td>\n",
       "      <td>20200304.0</td>\n",
       "      <td>NAD5</td>\n",
       "      <td>1</td>\n",
       "    </tr>\n",
       "  </tbody>\n",
       "</table>\n",
       "<p>48844 rows × 13 columns</p>\n",
       "</div>"
      ],
      "text/plain": [
       "      business_code cust_number        name_customer           clear_date  \\\n",
       "0              U001  0200936373         SUPE systems  2019-10-02 00:00:00   \n",
       "1              U001  0200769623  WAL-MAR corporation                  NaN   \n",
       "2              U001  0200769623           WAL-MAR co  2019-02-04 00:00:00   \n",
       "3              U001  0200780383     MEIJ corporation                  NaN   \n",
       "4              U001  0200965912            C&S W llc  2020-03-04 00:00:00   \n",
       "...             ...         ...                  ...                  ...   \n",
       "49994          U001  0200788848        DAIRY systems  2019-04-24 00:00:00   \n",
       "49995          U001  0200726979             BJ'S  in  2019-03-26 00:00:00   \n",
       "49996          U001  0200955827                KE co  2019-10-28 00:00:00   \n",
       "49997          U001  0200769623           WAL-MAR in  2019-04-09 00:00:00   \n",
       "49998          U001  0100016691      BAY  associates                  NaN   \n",
       "\n",
       "       buisness_year posting_date  document_create_date.1  due_in_date  \\\n",
       "0             2019.0   2019-09-17                20190917   20191002.0   \n",
       "1             2020.0   2020-03-04                20200304   20200319.0   \n",
       "2             2019.0   2019-01-23                20190123   20190207.0   \n",
       "3             2020.0   2020-05-06                20200506   20200521.0   \n",
       "4             2020.0   2020-02-18                20200218   20200304.0   \n",
       "...              ...          ...                     ...          ...   \n",
       "49994         2019.0   2019-04-08                20190408   20190423.0   \n",
       "49995         2019.0   2019-03-11                20190311   20190326.0   \n",
       "49996         2019.0   2019-09-26                20190926   20191011.0   \n",
       "49997         2019.0   2019-03-30                20190330   20190415.0   \n",
       "49998         2020.0   2020-03-04                20200304   20200403.0   \n",
       "\n",
       "      invoice_currency  total_open_amount  baseline_create_date  \\\n",
       "0                  USD           26250.31            20190917.0   \n",
       "1                  USD           57938.76            20200304.0   \n",
       "2                  USD           16646.86            20190123.0   \n",
       "3                  USD             860.30            20200506.0   \n",
       "4                  USD           90493.26            20200218.0   \n",
       "...                ...                ...                   ...   \n",
       "49994              USD           57621.96            20190408.0   \n",
       "49995              USD             275.13            20190311.0   \n",
       "49996              USD           15999.19            20190926.0   \n",
       "49997              USD           58773.98            20190331.0   \n",
       "49998              USD           16114.29            20200304.0   \n",
       "\n",
       "      cust_payment_terms  isOpen  \n",
       "0                   NAA8       0  \n",
       "1                   NAH4       1  \n",
       "2                   NAH4       0  \n",
       "3                   NAA8       1  \n",
       "4                   NAC6       0  \n",
       "...                  ...     ...  \n",
       "49994               NAA8       0  \n",
       "49995               NAA8       0  \n",
       "49996               NAA8       0  \n",
       "49997               NAH4       0  \n",
       "49998               NAD5       1  \n",
       "\n",
       "[48844 rows x 13 columns]"
      ]
     },
     "execution_count": 27,
     "metadata": {},
     "output_type": "execute_result"
    }
   ],
   "source": [
    "hr.drop(columns=['invoice_id'],inplace=True) \n",
    "hr"
   ]
  },
  {
   "cell_type": "markdown",
   "metadata": {},
   "source": [
    "# Checking columns and rows"
   ]
  },
  {
   "cell_type": "code",
   "execution_count": 28,
   "metadata": {},
   "outputs": [
    {
     "data": {
      "text/plain": [
       "(48844, 13)"
      ]
     },
     "execution_count": 28,
     "metadata": {},
     "output_type": "execute_result"
    }
   ],
   "source": [
    "#after removing the duplicate rows checking the number of columns and rows\n",
    "hr.shape"
   ]
  },
  {
   "cell_type": "markdown",
   "metadata": {},
   "source": [
    "# Checking equal columns"
   ]
  },
  {
   "cell_type": "code",
   "execution_count": 29,
   "metadata": {},
   "outputs": [
    {
     "data": {
      "text/plain": [
       "False"
      ]
     },
     "execution_count": 29,
     "metadata": {},
     "output_type": "execute_result"
    }
   ],
   "source": [
    "#checking whether all the values of posting_date matches with document_create_date.1\n",
    "hr['posting_date'].equals(hr['document_create_date.1'])"
   ]
  },
  {
   "cell_type": "markdown",
   "metadata": {},
   "source": [
    "# Checking datatypes"
   ]
  },
  {
   "cell_type": "code",
   "execution_count": 30,
   "metadata": {},
   "outputs": [
    {
     "data": {
      "text/plain": [
       "business_code              object\n",
       "cust_number                object\n",
       "name_customer              object\n",
       "clear_date                 object\n",
       "buisness_year             float64\n",
       "posting_date               object\n",
       "document_create_date.1      int64\n",
       "due_in_date               float64\n",
       "invoice_currency           object\n",
       "total_open_amount         float64\n",
       "baseline_create_date      float64\n",
       "cust_payment_terms         object\n",
       "isOpen                      int64\n",
       "dtype: object"
      ]
     },
     "execution_count": 30,
     "metadata": {},
     "output_type": "execute_result"
    }
   ],
   "source": [
    "#checking the datatypes of each column\n",
    "hr.dtypes"
   ]
  },
  {
   "cell_type": "markdown",
   "metadata": {},
   "source": [
    "# Converting the datatype"
   ]
  },
  {
   "cell_type": "code",
   "execution_count": 31,
   "metadata": {},
   "outputs": [],
   "source": [
    "#converting the datatype of dates into datetime format with advantage\n",
    "#find day of the week\n",
    "#find day of the year\n"
   ]
  },
  {
   "cell_type": "code",
   "execution_count": 32,
   "metadata": {},
   "outputs": [],
   "source": [
    "hr['baseline_create_date'] = pd.to_datetime(hr['baseline_create_date'],format='%Y%m%d')"
   ]
  },
  {
   "cell_type": "code",
   "execution_count": 33,
   "metadata": {},
   "outputs": [],
   "source": [
    "hr['due_in_date'] = pd.to_datetime(hr['due_in_date'],format='%Y%m%d')"
   ]
  },
  {
   "cell_type": "code",
   "execution_count": 34,
   "metadata": {
    "scrolled": true
   },
   "outputs": [],
   "source": [
    "hr['clear_date'] = pd.to_datetime(hr['clear_date'],format='%Y %m %d')"
   ]
  },
  {
   "cell_type": "code",
   "execution_count": 35,
   "metadata": {},
   "outputs": [],
   "source": [
    "hr['document_create_date.1'] = pd.to_datetime(hr['document_create_date.1'],format='%Y%m%d')"
   ]
  },
  {
   "cell_type": "code",
   "execution_count": 36,
   "metadata": {},
   "outputs": [],
   "source": [
    "hr['posting_date'] = pd.to_datetime(hr['posting_date'],format='%Y %m %d')"
   ]
  },
  {
   "cell_type": "code",
   "execution_count": 37,
   "metadata": {},
   "outputs": [
    {
     "data": {
      "text/html": [
       "<div>\n",
       "<style scoped>\n",
       "    .dataframe tbody tr th:only-of-type {\n",
       "        vertical-align: middle;\n",
       "    }\n",
       "\n",
       "    .dataframe tbody tr th {\n",
       "        vertical-align: top;\n",
       "    }\n",
       "\n",
       "    .dataframe thead th {\n",
       "        text-align: right;\n",
       "    }\n",
       "</style>\n",
       "<table border=\"1\" class=\"dataframe\">\n",
       "  <thead>\n",
       "    <tr style=\"text-align: right;\">\n",
       "      <th></th>\n",
       "      <th>business_code</th>\n",
       "      <th>cust_number</th>\n",
       "      <th>name_customer</th>\n",
       "      <th>clear_date</th>\n",
       "      <th>buisness_year</th>\n",
       "      <th>posting_date</th>\n",
       "      <th>document_create_date.1</th>\n",
       "      <th>due_in_date</th>\n",
       "      <th>invoice_currency</th>\n",
       "      <th>total_open_amount</th>\n",
       "      <th>baseline_create_date</th>\n",
       "      <th>cust_payment_terms</th>\n",
       "      <th>isOpen</th>\n",
       "    </tr>\n",
       "  </thead>\n",
       "  <tbody>\n",
       "    <tr>\n",
       "      <td>0</td>\n",
       "      <td>U001</td>\n",
       "      <td>0200936373</td>\n",
       "      <td>SUPE systems</td>\n",
       "      <td>2019-10-02</td>\n",
       "      <td>2019.0</td>\n",
       "      <td>2019-09-17</td>\n",
       "      <td>2019-09-17</td>\n",
       "      <td>2019-10-02</td>\n",
       "      <td>USD</td>\n",
       "      <td>26250.31</td>\n",
       "      <td>2019-09-17</td>\n",
       "      <td>NAA8</td>\n",
       "      <td>0</td>\n",
       "    </tr>\n",
       "    <tr>\n",
       "      <td>1</td>\n",
       "      <td>U001</td>\n",
       "      <td>0200769623</td>\n",
       "      <td>WAL-MAR corporation</td>\n",
       "      <td>NaT</td>\n",
       "      <td>2020.0</td>\n",
       "      <td>2020-03-04</td>\n",
       "      <td>2020-03-04</td>\n",
       "      <td>2020-03-19</td>\n",
       "      <td>USD</td>\n",
       "      <td>57938.76</td>\n",
       "      <td>2020-03-04</td>\n",
       "      <td>NAH4</td>\n",
       "      <td>1</td>\n",
       "    </tr>\n",
       "    <tr>\n",
       "      <td>2</td>\n",
       "      <td>U001</td>\n",
       "      <td>0200769623</td>\n",
       "      <td>WAL-MAR co</td>\n",
       "      <td>2019-02-04</td>\n",
       "      <td>2019.0</td>\n",
       "      <td>2019-01-23</td>\n",
       "      <td>2019-01-23</td>\n",
       "      <td>2019-02-07</td>\n",
       "      <td>USD</td>\n",
       "      <td>16646.86</td>\n",
       "      <td>2019-01-23</td>\n",
       "      <td>NAH4</td>\n",
       "      <td>0</td>\n",
       "    </tr>\n",
       "    <tr>\n",
       "      <td>3</td>\n",
       "      <td>U001</td>\n",
       "      <td>0200780383</td>\n",
       "      <td>MEIJ corporation</td>\n",
       "      <td>NaT</td>\n",
       "      <td>2020.0</td>\n",
       "      <td>2020-05-06</td>\n",
       "      <td>2020-05-06</td>\n",
       "      <td>2020-05-21</td>\n",
       "      <td>USD</td>\n",
       "      <td>860.30</td>\n",
       "      <td>2020-05-06</td>\n",
       "      <td>NAA8</td>\n",
       "      <td>1</td>\n",
       "    </tr>\n",
       "    <tr>\n",
       "      <td>4</td>\n",
       "      <td>U001</td>\n",
       "      <td>0200965912</td>\n",
       "      <td>C&amp;S W llc</td>\n",
       "      <td>2020-03-04</td>\n",
       "      <td>2020.0</td>\n",
       "      <td>2020-02-18</td>\n",
       "      <td>2020-02-18</td>\n",
       "      <td>2020-03-04</td>\n",
       "      <td>USD</td>\n",
       "      <td>90493.26</td>\n",
       "      <td>2020-02-18</td>\n",
       "      <td>NAC6</td>\n",
       "      <td>0</td>\n",
       "    </tr>\n",
       "    <tr>\n",
       "      <td>...</td>\n",
       "      <td>...</td>\n",
       "      <td>...</td>\n",
       "      <td>...</td>\n",
       "      <td>...</td>\n",
       "      <td>...</td>\n",
       "      <td>...</td>\n",
       "      <td>...</td>\n",
       "      <td>...</td>\n",
       "      <td>...</td>\n",
       "      <td>...</td>\n",
       "      <td>...</td>\n",
       "      <td>...</td>\n",
       "      <td>...</td>\n",
       "    </tr>\n",
       "    <tr>\n",
       "      <td>49994</td>\n",
       "      <td>U001</td>\n",
       "      <td>0200788848</td>\n",
       "      <td>DAIRY systems</td>\n",
       "      <td>2019-04-24</td>\n",
       "      <td>2019.0</td>\n",
       "      <td>2019-04-08</td>\n",
       "      <td>2019-04-08</td>\n",
       "      <td>2019-04-23</td>\n",
       "      <td>USD</td>\n",
       "      <td>57621.96</td>\n",
       "      <td>2019-04-08</td>\n",
       "      <td>NAA8</td>\n",
       "      <td>0</td>\n",
       "    </tr>\n",
       "    <tr>\n",
       "      <td>49995</td>\n",
       "      <td>U001</td>\n",
       "      <td>0200726979</td>\n",
       "      <td>BJ'S  in</td>\n",
       "      <td>2019-03-26</td>\n",
       "      <td>2019.0</td>\n",
       "      <td>2019-03-11</td>\n",
       "      <td>2019-03-11</td>\n",
       "      <td>2019-03-26</td>\n",
       "      <td>USD</td>\n",
       "      <td>275.13</td>\n",
       "      <td>2019-03-11</td>\n",
       "      <td>NAA8</td>\n",
       "      <td>0</td>\n",
       "    </tr>\n",
       "    <tr>\n",
       "      <td>49996</td>\n",
       "      <td>U001</td>\n",
       "      <td>0200955827</td>\n",
       "      <td>KE co</td>\n",
       "      <td>2019-10-28</td>\n",
       "      <td>2019.0</td>\n",
       "      <td>2019-09-26</td>\n",
       "      <td>2019-09-26</td>\n",
       "      <td>2019-10-11</td>\n",
       "      <td>USD</td>\n",
       "      <td>15999.19</td>\n",
       "      <td>2019-09-26</td>\n",
       "      <td>NAA8</td>\n",
       "      <td>0</td>\n",
       "    </tr>\n",
       "    <tr>\n",
       "      <td>49997</td>\n",
       "      <td>U001</td>\n",
       "      <td>0200769623</td>\n",
       "      <td>WAL-MAR in</td>\n",
       "      <td>2019-04-09</td>\n",
       "      <td>2019.0</td>\n",
       "      <td>2019-03-30</td>\n",
       "      <td>2019-03-30</td>\n",
       "      <td>2019-04-15</td>\n",
       "      <td>USD</td>\n",
       "      <td>58773.98</td>\n",
       "      <td>2019-03-31</td>\n",
       "      <td>NAH4</td>\n",
       "      <td>0</td>\n",
       "    </tr>\n",
       "    <tr>\n",
       "      <td>49998</td>\n",
       "      <td>U001</td>\n",
       "      <td>0100016691</td>\n",
       "      <td>BAY  associates</td>\n",
       "      <td>NaT</td>\n",
       "      <td>2020.0</td>\n",
       "      <td>2020-03-04</td>\n",
       "      <td>2020-03-04</td>\n",
       "      <td>2020-04-03</td>\n",
       "      <td>USD</td>\n",
       "      <td>16114.29</td>\n",
       "      <td>2020-03-04</td>\n",
       "      <td>NAD5</td>\n",
       "      <td>1</td>\n",
       "    </tr>\n",
       "  </tbody>\n",
       "</table>\n",
       "<p>48844 rows × 13 columns</p>\n",
       "</div>"
      ],
      "text/plain": [
       "      business_code cust_number        name_customer clear_date  \\\n",
       "0              U001  0200936373         SUPE systems 2019-10-02   \n",
       "1              U001  0200769623  WAL-MAR corporation        NaT   \n",
       "2              U001  0200769623           WAL-MAR co 2019-02-04   \n",
       "3              U001  0200780383     MEIJ corporation        NaT   \n",
       "4              U001  0200965912            C&S W llc 2020-03-04   \n",
       "...             ...         ...                  ...        ...   \n",
       "49994          U001  0200788848        DAIRY systems 2019-04-24   \n",
       "49995          U001  0200726979             BJ'S  in 2019-03-26   \n",
       "49996          U001  0200955827                KE co 2019-10-28   \n",
       "49997          U001  0200769623           WAL-MAR in 2019-04-09   \n",
       "49998          U001  0100016691      BAY  associates        NaT   \n",
       "\n",
       "       buisness_year posting_date document_create_date.1 due_in_date  \\\n",
       "0             2019.0   2019-09-17             2019-09-17  2019-10-02   \n",
       "1             2020.0   2020-03-04             2020-03-04  2020-03-19   \n",
       "2             2019.0   2019-01-23             2019-01-23  2019-02-07   \n",
       "3             2020.0   2020-05-06             2020-05-06  2020-05-21   \n",
       "4             2020.0   2020-02-18             2020-02-18  2020-03-04   \n",
       "...              ...          ...                    ...         ...   \n",
       "49994         2019.0   2019-04-08             2019-04-08  2019-04-23   \n",
       "49995         2019.0   2019-03-11             2019-03-11  2019-03-26   \n",
       "49996         2019.0   2019-09-26             2019-09-26  2019-10-11   \n",
       "49997         2019.0   2019-03-30             2019-03-30  2019-04-15   \n",
       "49998         2020.0   2020-03-04             2020-03-04  2020-04-03   \n",
       "\n",
       "      invoice_currency  total_open_amount baseline_create_date  \\\n",
       "0                  USD           26250.31           2019-09-17   \n",
       "1                  USD           57938.76           2020-03-04   \n",
       "2                  USD           16646.86           2019-01-23   \n",
       "3                  USD             860.30           2020-05-06   \n",
       "4                  USD           90493.26           2020-02-18   \n",
       "...                ...                ...                  ...   \n",
       "49994              USD           57621.96           2019-04-08   \n",
       "49995              USD             275.13           2019-03-11   \n",
       "49996              USD           15999.19           2019-09-26   \n",
       "49997              USD           58773.98           2019-03-31   \n",
       "49998              USD           16114.29           2020-03-04   \n",
       "\n",
       "      cust_payment_terms  isOpen  \n",
       "0                   NAA8       0  \n",
       "1                   NAH4       1  \n",
       "2                   NAH4       0  \n",
       "3                   NAA8       1  \n",
       "4                   NAC6       0  \n",
       "...                  ...     ...  \n",
       "49994               NAA8       0  \n",
       "49995               NAA8       0  \n",
       "49996               NAA8       0  \n",
       "49997               NAH4       0  \n",
       "49998               NAD5       1  \n",
       "\n",
       "[48844 rows x 13 columns]"
      ]
     },
     "execution_count": 37,
     "metadata": {},
     "output_type": "execute_result"
    }
   ],
   "source": [
    "hr"
   ]
  },
  {
   "cell_type": "markdown",
   "metadata": {},
   "source": [
    "# Checking datatypes"
   ]
  },
  {
   "cell_type": "code",
   "execution_count": 38,
   "metadata": {},
   "outputs": [
    {
     "data": {
      "text/plain": [
       "business_code                     object\n",
       "cust_number                       object\n",
       "name_customer                     object\n",
       "clear_date                datetime64[ns]\n",
       "buisness_year                    float64\n",
       "posting_date              datetime64[ns]\n",
       "document_create_date.1    datetime64[ns]\n",
       "due_in_date               datetime64[ns]\n",
       "invoice_currency                  object\n",
       "total_open_amount                float64\n",
       "baseline_create_date      datetime64[ns]\n",
       "cust_payment_terms                object\n",
       "isOpen                             int64\n",
       "dtype: object"
      ]
     },
     "execution_count": 38,
     "metadata": {},
     "output_type": "execute_result"
    }
   ],
   "source": [
    "#after necessery conversion of datetime format checking again\n",
    "hr.dtypes"
   ]
  },
  {
   "cell_type": "markdown",
   "metadata": {},
   "source": [
    "# Checking null "
   ]
  },
  {
   "cell_type": "code",
   "execution_count": 39,
   "metadata": {},
   "outputs": [
    {
     "data": {
      "text/plain": [
       "business_code                0\n",
       "cust_number                  0\n",
       "name_customer                0\n",
       "clear_date                9713\n",
       "buisness_year                0\n",
       "posting_date                 0\n",
       "document_create_date.1       0\n",
       "due_in_date                  0\n",
       "invoice_currency             0\n",
       "total_open_amount            0\n",
       "baseline_create_date         0\n",
       "cust_payment_terms           0\n",
       "isOpen                       0\n",
       "dtype: int64"
      ]
     },
     "execution_count": 39,
     "metadata": {},
     "output_type": "execute_result"
    }
   ],
   "source": [
    "#counting the number of null values in each column using isnull() and adding up using sum()\n",
    "hr.isnull().sum()"
   ]
  },
  {
   "cell_type": "markdown",
   "metadata": {},
   "source": [
    "# TARGET VARIABLE AND SORT"
   ]
  },
  {
   "cell_type": "markdown",
   "metadata": {},
   "source": [
    "Our model cant take in dates for prediction so our target column will not be clear_date. Instead it will be the delay column as delay will be in int format which our model can predict.\n",
    "\n",
    "clear_date - due_date will tell us how much delay was there in paying.\n",
    "\n",
    "\"-\" indicates it has been paid off before due date. \"+\" indicates it has been paid off after the due date"
   ]
  },
  {
   "cell_type": "code",
   "execution_count": 40,
   "metadata": {},
   "outputs": [],
   "source": [
    "hr['delay']=(hr['clear_date']-hr['due_in_date']).dt.days"
   ]
  },
  {
   "cell_type": "markdown",
   "metadata": {},
   "source": [
    "Sorting in ascending order by posting_date"
   ]
  },
  {
   "cell_type": "code",
   "execution_count": 41,
   "metadata": {},
   "outputs": [
    {
     "data": {
      "text/html": [
       "<div>\n",
       "<style scoped>\n",
       "    .dataframe tbody tr th:only-of-type {\n",
       "        vertical-align: middle;\n",
       "    }\n",
       "\n",
       "    .dataframe tbody tr th {\n",
       "        vertical-align: top;\n",
       "    }\n",
       "\n",
       "    .dataframe thead th {\n",
       "        text-align: right;\n",
       "    }\n",
       "</style>\n",
       "<table border=\"1\" class=\"dataframe\">\n",
       "  <thead>\n",
       "    <tr style=\"text-align: right;\">\n",
       "      <th></th>\n",
       "      <th>business_code</th>\n",
       "      <th>cust_number</th>\n",
       "      <th>name_customer</th>\n",
       "      <th>clear_date</th>\n",
       "      <th>buisness_year</th>\n",
       "      <th>posting_date</th>\n",
       "      <th>document_create_date.1</th>\n",
       "      <th>due_in_date</th>\n",
       "      <th>invoice_currency</th>\n",
       "      <th>total_open_amount</th>\n",
       "      <th>baseline_create_date</th>\n",
       "      <th>cust_payment_terms</th>\n",
       "      <th>isOpen</th>\n",
       "      <th>delay</th>\n",
       "    </tr>\n",
       "  </thead>\n",
       "  <tbody>\n",
       "    <tr>\n",
       "      <td>33107</td>\n",
       "      <td>U001</td>\n",
       "      <td>0200769623</td>\n",
       "      <td>WAL-MAR us</td>\n",
       "      <td>2019-01-09</td>\n",
       "      <td>2019.0</td>\n",
       "      <td>2018-12-30</td>\n",
       "      <td>2018-12-30</td>\n",
       "      <td>2019-01-14</td>\n",
       "      <td>USD</td>\n",
       "      <td>3794.88</td>\n",
       "      <td>2018-12-30</td>\n",
       "      <td>NAH4</td>\n",
       "      <td>0</td>\n",
       "      <td>-5.0</td>\n",
       "    </tr>\n",
       "    <tr>\n",
       "      <td>42500</td>\n",
       "      <td>U001</td>\n",
       "      <td>0200769623</td>\n",
       "      <td>WAL-MAR co</td>\n",
       "      <td>2019-01-09</td>\n",
       "      <td>2019.0</td>\n",
       "      <td>2018-12-30</td>\n",
       "      <td>2018-12-30</td>\n",
       "      <td>2019-01-14</td>\n",
       "      <td>USD</td>\n",
       "      <td>1445.64</td>\n",
       "      <td>2018-12-30</td>\n",
       "      <td>NAH4</td>\n",
       "      <td>0</td>\n",
       "      <td>-5.0</td>\n",
       "    </tr>\n",
       "    <tr>\n",
       "      <td>6153</td>\n",
       "      <td>U001</td>\n",
       "      <td>0200769623</td>\n",
       "      <td>WAL-MAR corp</td>\n",
       "      <td>2019-01-09</td>\n",
       "      <td>2019.0</td>\n",
       "      <td>2018-12-30</td>\n",
       "      <td>2018-12-30</td>\n",
       "      <td>2019-01-14</td>\n",
       "      <td>USD</td>\n",
       "      <td>1764.66</td>\n",
       "      <td>2018-12-30</td>\n",
       "      <td>NAH4</td>\n",
       "      <td>0</td>\n",
       "      <td>-5.0</td>\n",
       "    </tr>\n",
       "    <tr>\n",
       "      <td>36955</td>\n",
       "      <td>U013</td>\n",
       "      <td>0140103335</td>\n",
       "      <td>PARAM associates</td>\n",
       "      <td>2019-01-23</td>\n",
       "      <td>2019.0</td>\n",
       "      <td>2018-12-30</td>\n",
       "      <td>2018-12-30</td>\n",
       "      <td>2019-01-29</td>\n",
       "      <td>USD</td>\n",
       "      <td>13230.19</td>\n",
       "      <td>2018-12-30</td>\n",
       "      <td>NAVE</td>\n",
       "      <td>0</td>\n",
       "      <td>-6.0</td>\n",
       "    </tr>\n",
       "    <tr>\n",
       "      <td>49758</td>\n",
       "      <td>U001</td>\n",
       "      <td>0200769623</td>\n",
       "      <td>WAL-MAR us</td>\n",
       "      <td>2019-01-10</td>\n",
       "      <td>2019.0</td>\n",
       "      <td>2018-12-30</td>\n",
       "      <td>2018-12-30</td>\n",
       "      <td>2019-01-14</td>\n",
       "      <td>USD</td>\n",
       "      <td>53577.79</td>\n",
       "      <td>2018-12-30</td>\n",
       "      <td>NAH4</td>\n",
       "      <td>0</td>\n",
       "      <td>-4.0</td>\n",
       "    </tr>\n",
       "    <tr>\n",
       "      <td>...</td>\n",
       "      <td>...</td>\n",
       "      <td>...</td>\n",
       "      <td>...</td>\n",
       "      <td>...</td>\n",
       "      <td>...</td>\n",
       "      <td>...</td>\n",
       "      <td>...</td>\n",
       "      <td>...</td>\n",
       "      <td>...</td>\n",
       "      <td>...</td>\n",
       "      <td>...</td>\n",
       "      <td>...</td>\n",
       "      <td>...</td>\n",
       "      <td>...</td>\n",
       "    </tr>\n",
       "    <tr>\n",
       "      <td>21763</td>\n",
       "      <td>U001</td>\n",
       "      <td>0200457993</td>\n",
       "      <td>SHAM co</td>\n",
       "      <td>NaT</td>\n",
       "      <td>2020.0</td>\n",
       "      <td>2020-05-15</td>\n",
       "      <td>2020-05-15</td>\n",
       "      <td>2020-05-30</td>\n",
       "      <td>USD</td>\n",
       "      <td>19798.67</td>\n",
       "      <td>2020-05-15</td>\n",
       "      <td>NAA8</td>\n",
       "      <td>1</td>\n",
       "      <td>NaN</td>\n",
       "    </tr>\n",
       "    <tr>\n",
       "      <td>4909</td>\n",
       "      <td>U001</td>\n",
       "      <td>0200763229</td>\n",
       "      <td>MAINES us</td>\n",
       "      <td>NaT</td>\n",
       "      <td>2020.0</td>\n",
       "      <td>2020-05-15</td>\n",
       "      <td>2020-05-15</td>\n",
       "      <td>2020-05-30</td>\n",
       "      <td>USD</td>\n",
       "      <td>17140.86</td>\n",
       "      <td>2020-05-15</td>\n",
       "      <td>NAA8</td>\n",
       "      <td>1</td>\n",
       "      <td>NaN</td>\n",
       "    </tr>\n",
       "    <tr>\n",
       "      <td>39833</td>\n",
       "      <td>CA02</td>\n",
       "      <td>0100027744</td>\n",
       "      <td>OMEGA AD corp</td>\n",
       "      <td>NaT</td>\n",
       "      <td>2020.0</td>\n",
       "      <td>2020-05-16</td>\n",
       "      <td>2020-05-16</td>\n",
       "      <td>2020-05-16</td>\n",
       "      <td>CAD</td>\n",
       "      <td>20550.40</td>\n",
       "      <td>2020-05-16</td>\n",
       "      <td>CAB1</td>\n",
       "      <td>1</td>\n",
       "      <td>NaN</td>\n",
       "    </tr>\n",
       "    <tr>\n",
       "      <td>5239</td>\n",
       "      <td>CA02</td>\n",
       "      <td>0140105785</td>\n",
       "      <td>SHOPPE in</td>\n",
       "      <td>NaT</td>\n",
       "      <td>2020.0</td>\n",
       "      <td>2020-05-19</td>\n",
       "      <td>2020-05-19</td>\n",
       "      <td>2020-05-29</td>\n",
       "      <td>CAD</td>\n",
       "      <td>1373.60</td>\n",
       "      <td>2020-05-19</td>\n",
       "      <td>CA10</td>\n",
       "      <td>1</td>\n",
       "      <td>NaN</td>\n",
       "    </tr>\n",
       "    <tr>\n",
       "      <td>22461</td>\n",
       "      <td>U001</td>\n",
       "      <td>0200756072</td>\n",
       "      <td>REINHA in</td>\n",
       "      <td>NaT</td>\n",
       "      <td>2020.0</td>\n",
       "      <td>2020-05-21</td>\n",
       "      <td>2020-05-21</td>\n",
       "      <td>2020-06-20</td>\n",
       "      <td>USD</td>\n",
       "      <td>8.00</td>\n",
       "      <td>2020-05-21</td>\n",
       "      <td>NAD5</td>\n",
       "      <td>1</td>\n",
       "      <td>NaN</td>\n",
       "    </tr>\n",
       "  </tbody>\n",
       "</table>\n",
       "<p>48844 rows × 14 columns</p>\n",
       "</div>"
      ],
      "text/plain": [
       "      business_code cust_number     name_customer clear_date  buisness_year  \\\n",
       "33107          U001  0200769623        WAL-MAR us 2019-01-09         2019.0   \n",
       "42500          U001  0200769623        WAL-MAR co 2019-01-09         2019.0   \n",
       "6153           U001  0200769623      WAL-MAR corp 2019-01-09         2019.0   \n",
       "36955          U013  0140103335  PARAM associates 2019-01-23         2019.0   \n",
       "49758          U001  0200769623        WAL-MAR us 2019-01-10         2019.0   \n",
       "...             ...         ...               ...        ...            ...   \n",
       "21763          U001  0200457993           SHAM co        NaT         2020.0   \n",
       "4909           U001  0200763229         MAINES us        NaT         2020.0   \n",
       "39833          CA02  0100027744     OMEGA AD corp        NaT         2020.0   \n",
       "5239           CA02  0140105785         SHOPPE in        NaT         2020.0   \n",
       "22461          U001  0200756072         REINHA in        NaT         2020.0   \n",
       "\n",
       "      posting_date document_create_date.1 due_in_date invoice_currency  \\\n",
       "33107   2018-12-30             2018-12-30  2019-01-14              USD   \n",
       "42500   2018-12-30             2018-12-30  2019-01-14              USD   \n",
       "6153    2018-12-30             2018-12-30  2019-01-14              USD   \n",
       "36955   2018-12-30             2018-12-30  2019-01-29              USD   \n",
       "49758   2018-12-30             2018-12-30  2019-01-14              USD   \n",
       "...            ...                    ...         ...              ...   \n",
       "21763   2020-05-15             2020-05-15  2020-05-30              USD   \n",
       "4909    2020-05-15             2020-05-15  2020-05-30              USD   \n",
       "39833   2020-05-16             2020-05-16  2020-05-16              CAD   \n",
       "5239    2020-05-19             2020-05-19  2020-05-29              CAD   \n",
       "22461   2020-05-21             2020-05-21  2020-06-20              USD   \n",
       "\n",
       "       total_open_amount baseline_create_date cust_payment_terms  isOpen  \\\n",
       "33107            3794.88           2018-12-30               NAH4       0   \n",
       "42500            1445.64           2018-12-30               NAH4       0   \n",
       "6153             1764.66           2018-12-30               NAH4       0   \n",
       "36955           13230.19           2018-12-30               NAVE       0   \n",
       "49758           53577.79           2018-12-30               NAH4       0   \n",
       "...                  ...                  ...                ...     ...   \n",
       "21763           19798.67           2020-05-15               NAA8       1   \n",
       "4909            17140.86           2020-05-15               NAA8       1   \n",
       "39833           20550.40           2020-05-16               CAB1       1   \n",
       "5239             1373.60           2020-05-19               CA10       1   \n",
       "22461               8.00           2020-05-21               NAD5       1   \n",
       "\n",
       "       delay  \n",
       "33107   -5.0  \n",
       "42500   -5.0  \n",
       "6153    -5.0  \n",
       "36955   -6.0  \n",
       "49758   -4.0  \n",
       "...      ...  \n",
       "21763    NaN  \n",
       "4909     NaN  \n",
       "39833    NaN  \n",
       "5239     NaN  \n",
       "22461    NaN  \n",
       "\n",
       "[48844 rows x 14 columns]"
      ]
     },
     "execution_count": 41,
     "metadata": {},
     "output_type": "execute_result"
    }
   ],
   "source": [
    "hr.sort_values(by='posting_date',inplace=True) # sorting in ascending order by document_create_date.1\n",
    "hr"
   ]
  },
  {
   "cell_type": "markdown",
   "metadata": {},
   "source": [
    "# Again checking total null values"
   ]
  },
  {
   "cell_type": "code",
   "execution_count": 42,
   "metadata": {},
   "outputs": [
    {
     "data": {
      "text/plain": [
       "business_code                0\n",
       "cust_number                  0\n",
       "name_customer                0\n",
       "clear_date                9713\n",
       "buisness_year                0\n",
       "posting_date                 0\n",
       "document_create_date.1       0\n",
       "due_in_date                  0\n",
       "invoice_currency             0\n",
       "total_open_amount            0\n",
       "baseline_create_date         0\n",
       "cust_payment_terms           0\n",
       "isOpen                       0\n",
       "delay                     9713\n",
       "dtype: int64"
      ]
     },
     "execution_count": 42,
     "metadata": {},
     "output_type": "execute_result"
    }
   ],
   "source": [
    "#after dropping the business_area column checking total null count\n",
    "hr.isnull().sum()"
   ]
  },
  {
   "cell_type": "markdown",
   "metadata": {},
   "source": [
    "# SPLITTING"
   ]
  },
  {
   "cell_type": "markdown",
   "metadata": {},
   "source": [
    "Creating test set on null clear_date"
   ]
  },
  {
   "cell_type": "code",
   "execution_count": 43,
   "metadata": {},
   "outputs": [
    {
     "data": {
      "text/html": [
       "<div>\n",
       "<style scoped>\n",
       "    .dataframe tbody tr th:only-of-type {\n",
       "        vertical-align: middle;\n",
       "    }\n",
       "\n",
       "    .dataframe tbody tr th {\n",
       "        vertical-align: top;\n",
       "    }\n",
       "\n",
       "    .dataframe thead th {\n",
       "        text-align: right;\n",
       "    }\n",
       "</style>\n",
       "<table border=\"1\" class=\"dataframe\">\n",
       "  <thead>\n",
       "    <tr style=\"text-align: right;\">\n",
       "      <th></th>\n",
       "      <th>business_code</th>\n",
       "      <th>cust_number</th>\n",
       "      <th>name_customer</th>\n",
       "      <th>clear_date</th>\n",
       "      <th>buisness_year</th>\n",
       "      <th>posting_date</th>\n",
       "      <th>document_create_date.1</th>\n",
       "      <th>due_in_date</th>\n",
       "      <th>invoice_currency</th>\n",
       "      <th>total_open_amount</th>\n",
       "      <th>baseline_create_date</th>\n",
       "      <th>cust_payment_terms</th>\n",
       "      <th>isOpen</th>\n",
       "      <th>delay</th>\n",
       "    </tr>\n",
       "  </thead>\n",
       "  <tbody>\n",
       "    <tr>\n",
       "      <td>0</td>\n",
       "      <td>U001</td>\n",
       "      <td>0200769623</td>\n",
       "      <td>WAL-MAR us</td>\n",
       "      <td>NaT</td>\n",
       "      <td>2020.0</td>\n",
       "      <td>2020-02-27</td>\n",
       "      <td>2020-02-27</td>\n",
       "      <td>2020-03-13</td>\n",
       "      <td>USD</td>\n",
       "      <td>69579.37</td>\n",
       "      <td>2020-02-27</td>\n",
       "      <td>NAH4</td>\n",
       "      <td>1</td>\n",
       "      <td>NaN</td>\n",
       "    </tr>\n",
       "    <tr>\n",
       "      <td>1</td>\n",
       "      <td>U001</td>\n",
       "      <td>0200705742</td>\n",
       "      <td>DOT in</td>\n",
       "      <td>NaT</td>\n",
       "      <td>2020.0</td>\n",
       "      <td>2020-02-27</td>\n",
       "      <td>2020-02-27</td>\n",
       "      <td>2020-03-13</td>\n",
       "      <td>USD</td>\n",
       "      <td>13764.30</td>\n",
       "      <td>2020-02-27</td>\n",
       "      <td>NAA8</td>\n",
       "      <td>1</td>\n",
       "      <td>NaN</td>\n",
       "    </tr>\n",
       "    <tr>\n",
       "      <td>2</td>\n",
       "      <td>U001</td>\n",
       "      <td>0200778870</td>\n",
       "      <td>C corp</td>\n",
       "      <td>NaT</td>\n",
       "      <td>2020.0</td>\n",
       "      <td>2020-02-27</td>\n",
       "      <td>2020-02-27</td>\n",
       "      <td>2020-03-13</td>\n",
       "      <td>USD</td>\n",
       "      <td>117550.74</td>\n",
       "      <td>2020-02-27</td>\n",
       "      <td>NAA8</td>\n",
       "      <td>1</td>\n",
       "      <td>NaN</td>\n",
       "    </tr>\n",
       "    <tr>\n",
       "      <td>3</td>\n",
       "      <td>U001</td>\n",
       "      <td>0200771157</td>\n",
       "      <td>WEIS trust</td>\n",
       "      <td>NaT</td>\n",
       "      <td>2020.0</td>\n",
       "      <td>2020-02-27</td>\n",
       "      <td>2020-02-27</td>\n",
       "      <td>2020-03-13</td>\n",
       "      <td>USD</td>\n",
       "      <td>57014.81</td>\n",
       "      <td>2020-02-27</td>\n",
       "      <td>NAA8</td>\n",
       "      <td>1</td>\n",
       "      <td>NaN</td>\n",
       "    </tr>\n",
       "    <tr>\n",
       "      <td>4</td>\n",
       "      <td>U001</td>\n",
       "      <td>0200762301</td>\n",
       "      <td>C&amp;S WH corporation</td>\n",
       "      <td>NaT</td>\n",
       "      <td>2020.0</td>\n",
       "      <td>2020-02-27</td>\n",
       "      <td>2020-02-27</td>\n",
       "      <td>2020-03-13</td>\n",
       "      <td>USD</td>\n",
       "      <td>84906.91</td>\n",
       "      <td>2020-02-27</td>\n",
       "      <td>NAC6</td>\n",
       "      <td>1</td>\n",
       "      <td>NaN</td>\n",
       "    </tr>\n",
       "    <tr>\n",
       "      <td>...</td>\n",
       "      <td>...</td>\n",
       "      <td>...</td>\n",
       "      <td>...</td>\n",
       "      <td>...</td>\n",
       "      <td>...</td>\n",
       "      <td>...</td>\n",
       "      <td>...</td>\n",
       "      <td>...</td>\n",
       "      <td>...</td>\n",
       "      <td>...</td>\n",
       "      <td>...</td>\n",
       "      <td>...</td>\n",
       "      <td>...</td>\n",
       "      <td>...</td>\n",
       "    </tr>\n",
       "    <tr>\n",
       "      <td>9708</td>\n",
       "      <td>U001</td>\n",
       "      <td>0200457993</td>\n",
       "      <td>SHAM co</td>\n",
       "      <td>NaT</td>\n",
       "      <td>2020.0</td>\n",
       "      <td>2020-05-15</td>\n",
       "      <td>2020-05-15</td>\n",
       "      <td>2020-05-30</td>\n",
       "      <td>USD</td>\n",
       "      <td>19798.67</td>\n",
       "      <td>2020-05-15</td>\n",
       "      <td>NAA8</td>\n",
       "      <td>1</td>\n",
       "      <td>NaN</td>\n",
       "    </tr>\n",
       "    <tr>\n",
       "      <td>9709</td>\n",
       "      <td>U001</td>\n",
       "      <td>0200763229</td>\n",
       "      <td>MAINES us</td>\n",
       "      <td>NaT</td>\n",
       "      <td>2020.0</td>\n",
       "      <td>2020-05-15</td>\n",
       "      <td>2020-05-15</td>\n",
       "      <td>2020-05-30</td>\n",
       "      <td>USD</td>\n",
       "      <td>17140.86</td>\n",
       "      <td>2020-05-15</td>\n",
       "      <td>NAA8</td>\n",
       "      <td>1</td>\n",
       "      <td>NaN</td>\n",
       "    </tr>\n",
       "    <tr>\n",
       "      <td>9710</td>\n",
       "      <td>CA02</td>\n",
       "      <td>0100027744</td>\n",
       "      <td>OMEGA AD corp</td>\n",
       "      <td>NaT</td>\n",
       "      <td>2020.0</td>\n",
       "      <td>2020-05-16</td>\n",
       "      <td>2020-05-16</td>\n",
       "      <td>2020-05-16</td>\n",
       "      <td>CAD</td>\n",
       "      <td>20550.40</td>\n",
       "      <td>2020-05-16</td>\n",
       "      <td>CAB1</td>\n",
       "      <td>1</td>\n",
       "      <td>NaN</td>\n",
       "    </tr>\n",
       "    <tr>\n",
       "      <td>9711</td>\n",
       "      <td>CA02</td>\n",
       "      <td>0140105785</td>\n",
       "      <td>SHOPPE in</td>\n",
       "      <td>NaT</td>\n",
       "      <td>2020.0</td>\n",
       "      <td>2020-05-19</td>\n",
       "      <td>2020-05-19</td>\n",
       "      <td>2020-05-29</td>\n",
       "      <td>CAD</td>\n",
       "      <td>1373.60</td>\n",
       "      <td>2020-05-19</td>\n",
       "      <td>CA10</td>\n",
       "      <td>1</td>\n",
       "      <td>NaN</td>\n",
       "    </tr>\n",
       "    <tr>\n",
       "      <td>9712</td>\n",
       "      <td>U001</td>\n",
       "      <td>0200756072</td>\n",
       "      <td>REINHA in</td>\n",
       "      <td>NaT</td>\n",
       "      <td>2020.0</td>\n",
       "      <td>2020-05-21</td>\n",
       "      <td>2020-05-21</td>\n",
       "      <td>2020-06-20</td>\n",
       "      <td>USD</td>\n",
       "      <td>8.00</td>\n",
       "      <td>2020-05-21</td>\n",
       "      <td>NAD5</td>\n",
       "      <td>1</td>\n",
       "      <td>NaN</td>\n",
       "    </tr>\n",
       "  </tbody>\n",
       "</table>\n",
       "<p>9713 rows × 14 columns</p>\n",
       "</div>"
      ],
      "text/plain": [
       "     business_code cust_number       name_customer clear_date  buisness_year  \\\n",
       "0             U001  0200769623          WAL-MAR us        NaT         2020.0   \n",
       "1             U001  0200705742              DOT in        NaT         2020.0   \n",
       "2             U001  0200778870              C corp        NaT         2020.0   \n",
       "3             U001  0200771157          WEIS trust        NaT         2020.0   \n",
       "4             U001  0200762301  C&S WH corporation        NaT         2020.0   \n",
       "...            ...         ...                 ...        ...            ...   \n",
       "9708          U001  0200457993             SHAM co        NaT         2020.0   \n",
       "9709          U001  0200763229           MAINES us        NaT         2020.0   \n",
       "9710          CA02  0100027744       OMEGA AD corp        NaT         2020.0   \n",
       "9711          CA02  0140105785           SHOPPE in        NaT         2020.0   \n",
       "9712          U001  0200756072           REINHA in        NaT         2020.0   \n",
       "\n",
       "     posting_date document_create_date.1 due_in_date invoice_currency  \\\n",
       "0      2020-02-27             2020-02-27  2020-03-13              USD   \n",
       "1      2020-02-27             2020-02-27  2020-03-13              USD   \n",
       "2      2020-02-27             2020-02-27  2020-03-13              USD   \n",
       "3      2020-02-27             2020-02-27  2020-03-13              USD   \n",
       "4      2020-02-27             2020-02-27  2020-03-13              USD   \n",
       "...           ...                    ...         ...              ...   \n",
       "9708   2020-05-15             2020-05-15  2020-05-30              USD   \n",
       "9709   2020-05-15             2020-05-15  2020-05-30              USD   \n",
       "9710   2020-05-16             2020-05-16  2020-05-16              CAD   \n",
       "9711   2020-05-19             2020-05-19  2020-05-29              CAD   \n",
       "9712   2020-05-21             2020-05-21  2020-06-20              USD   \n",
       "\n",
       "      total_open_amount baseline_create_date cust_payment_terms  isOpen  delay  \n",
       "0              69579.37           2020-02-27               NAH4       1    NaN  \n",
       "1              13764.30           2020-02-27               NAA8       1    NaN  \n",
       "2             117550.74           2020-02-27               NAA8       1    NaN  \n",
       "3              57014.81           2020-02-27               NAA8       1    NaN  \n",
       "4              84906.91           2020-02-27               NAC6       1    NaN  \n",
       "...                 ...                  ...                ...     ...    ...  \n",
       "9708           19798.67           2020-05-15               NAA8       1    NaN  \n",
       "9709           17140.86           2020-05-15               NAA8       1    NaN  \n",
       "9710           20550.40           2020-05-16               CAB1       1    NaN  \n",
       "9711            1373.60           2020-05-19               CA10       1    NaN  \n",
       "9712               8.00           2020-05-21               NAD5       1    NaN  \n",
       "\n",
       "[9713 rows x 14 columns]"
      ]
     },
     "execution_count": 43,
     "metadata": {},
     "output_type": "execute_result"
    }
   ],
   "source": [
    "test_data = hr[hr.clear_date.isnull()].reset_index()\n",
    "test_data.drop(columns=['index'],inplace=True)\n",
    "test_data"
   ]
  },
  {
   "cell_type": "code",
   "execution_count": 44,
   "metadata": {},
   "outputs": [],
   "source": [
    "ts = test_data.copy()"
   ]
  },
  {
   "cell_type": "markdown",
   "metadata": {},
   "source": [
    "Splitting test_set into x_test and y_test"
   ]
  },
  {
   "cell_type": "code",
   "execution_count": 45,
   "metadata": {},
   "outputs": [
    {
     "data": {
      "text/plain": [
       "0      NaN\n",
       "1      NaN\n",
       "2      NaN\n",
       "3      NaN\n",
       "4      NaN\n",
       "        ..\n",
       "9708   NaN\n",
       "9709   NaN\n",
       "9710   NaN\n",
       "9711   NaN\n",
       "9712   NaN\n",
       "Name: delay, Length: 9713, dtype: float64"
      ]
     },
     "execution_count": 45,
     "metadata": {},
     "output_type": "execute_result"
    }
   ],
   "source": [
    "y_test = test_data[\"delay\"]\n",
    "y_test"
   ]
  },
  {
   "cell_type": "code",
   "execution_count": 46,
   "metadata": {},
   "outputs": [
    {
     "data": {
      "text/html": [
       "<div>\n",
       "<style scoped>\n",
       "    .dataframe tbody tr th:only-of-type {\n",
       "        vertical-align: middle;\n",
       "    }\n",
       "\n",
       "    .dataframe tbody tr th {\n",
       "        vertical-align: top;\n",
       "    }\n",
       "\n",
       "    .dataframe thead th {\n",
       "        text-align: right;\n",
       "    }\n",
       "</style>\n",
       "<table border=\"1\" class=\"dataframe\">\n",
       "  <thead>\n",
       "    <tr style=\"text-align: right;\">\n",
       "      <th></th>\n",
       "      <th>business_code</th>\n",
       "      <th>cust_number</th>\n",
       "      <th>name_customer</th>\n",
       "      <th>clear_date</th>\n",
       "      <th>buisness_year</th>\n",
       "      <th>posting_date</th>\n",
       "      <th>document_create_date.1</th>\n",
       "      <th>due_in_date</th>\n",
       "      <th>invoice_currency</th>\n",
       "      <th>total_open_amount</th>\n",
       "      <th>baseline_create_date</th>\n",
       "      <th>cust_payment_terms</th>\n",
       "      <th>isOpen</th>\n",
       "    </tr>\n",
       "  </thead>\n",
       "  <tbody>\n",
       "    <tr>\n",
       "      <td>0</td>\n",
       "      <td>U001</td>\n",
       "      <td>0200769623</td>\n",
       "      <td>WAL-MAR us</td>\n",
       "      <td>NaT</td>\n",
       "      <td>2020.0</td>\n",
       "      <td>2020-02-27</td>\n",
       "      <td>2020-02-27</td>\n",
       "      <td>2020-03-13</td>\n",
       "      <td>USD</td>\n",
       "      <td>69579.37</td>\n",
       "      <td>2020-02-27</td>\n",
       "      <td>NAH4</td>\n",
       "      <td>1</td>\n",
       "    </tr>\n",
       "    <tr>\n",
       "      <td>1</td>\n",
       "      <td>U001</td>\n",
       "      <td>0200705742</td>\n",
       "      <td>DOT in</td>\n",
       "      <td>NaT</td>\n",
       "      <td>2020.0</td>\n",
       "      <td>2020-02-27</td>\n",
       "      <td>2020-02-27</td>\n",
       "      <td>2020-03-13</td>\n",
       "      <td>USD</td>\n",
       "      <td>13764.30</td>\n",
       "      <td>2020-02-27</td>\n",
       "      <td>NAA8</td>\n",
       "      <td>1</td>\n",
       "    </tr>\n",
       "    <tr>\n",
       "      <td>2</td>\n",
       "      <td>U001</td>\n",
       "      <td>0200778870</td>\n",
       "      <td>C corp</td>\n",
       "      <td>NaT</td>\n",
       "      <td>2020.0</td>\n",
       "      <td>2020-02-27</td>\n",
       "      <td>2020-02-27</td>\n",
       "      <td>2020-03-13</td>\n",
       "      <td>USD</td>\n",
       "      <td>117550.74</td>\n",
       "      <td>2020-02-27</td>\n",
       "      <td>NAA8</td>\n",
       "      <td>1</td>\n",
       "    </tr>\n",
       "    <tr>\n",
       "      <td>3</td>\n",
       "      <td>U001</td>\n",
       "      <td>0200771157</td>\n",
       "      <td>WEIS trust</td>\n",
       "      <td>NaT</td>\n",
       "      <td>2020.0</td>\n",
       "      <td>2020-02-27</td>\n",
       "      <td>2020-02-27</td>\n",
       "      <td>2020-03-13</td>\n",
       "      <td>USD</td>\n",
       "      <td>57014.81</td>\n",
       "      <td>2020-02-27</td>\n",
       "      <td>NAA8</td>\n",
       "      <td>1</td>\n",
       "    </tr>\n",
       "    <tr>\n",
       "      <td>4</td>\n",
       "      <td>U001</td>\n",
       "      <td>0200762301</td>\n",
       "      <td>C&amp;S WH corporation</td>\n",
       "      <td>NaT</td>\n",
       "      <td>2020.0</td>\n",
       "      <td>2020-02-27</td>\n",
       "      <td>2020-02-27</td>\n",
       "      <td>2020-03-13</td>\n",
       "      <td>USD</td>\n",
       "      <td>84906.91</td>\n",
       "      <td>2020-02-27</td>\n",
       "      <td>NAC6</td>\n",
       "      <td>1</td>\n",
       "    </tr>\n",
       "    <tr>\n",
       "      <td>...</td>\n",
       "      <td>...</td>\n",
       "      <td>...</td>\n",
       "      <td>...</td>\n",
       "      <td>...</td>\n",
       "      <td>...</td>\n",
       "      <td>...</td>\n",
       "      <td>...</td>\n",
       "      <td>...</td>\n",
       "      <td>...</td>\n",
       "      <td>...</td>\n",
       "      <td>...</td>\n",
       "      <td>...</td>\n",
       "      <td>...</td>\n",
       "    </tr>\n",
       "    <tr>\n",
       "      <td>9708</td>\n",
       "      <td>U001</td>\n",
       "      <td>0200457993</td>\n",
       "      <td>SHAM co</td>\n",
       "      <td>NaT</td>\n",
       "      <td>2020.0</td>\n",
       "      <td>2020-05-15</td>\n",
       "      <td>2020-05-15</td>\n",
       "      <td>2020-05-30</td>\n",
       "      <td>USD</td>\n",
       "      <td>19798.67</td>\n",
       "      <td>2020-05-15</td>\n",
       "      <td>NAA8</td>\n",
       "      <td>1</td>\n",
       "    </tr>\n",
       "    <tr>\n",
       "      <td>9709</td>\n",
       "      <td>U001</td>\n",
       "      <td>0200763229</td>\n",
       "      <td>MAINES us</td>\n",
       "      <td>NaT</td>\n",
       "      <td>2020.0</td>\n",
       "      <td>2020-05-15</td>\n",
       "      <td>2020-05-15</td>\n",
       "      <td>2020-05-30</td>\n",
       "      <td>USD</td>\n",
       "      <td>17140.86</td>\n",
       "      <td>2020-05-15</td>\n",
       "      <td>NAA8</td>\n",
       "      <td>1</td>\n",
       "    </tr>\n",
       "    <tr>\n",
       "      <td>9710</td>\n",
       "      <td>CA02</td>\n",
       "      <td>0100027744</td>\n",
       "      <td>OMEGA AD corp</td>\n",
       "      <td>NaT</td>\n",
       "      <td>2020.0</td>\n",
       "      <td>2020-05-16</td>\n",
       "      <td>2020-05-16</td>\n",
       "      <td>2020-05-16</td>\n",
       "      <td>CAD</td>\n",
       "      <td>20550.40</td>\n",
       "      <td>2020-05-16</td>\n",
       "      <td>CAB1</td>\n",
       "      <td>1</td>\n",
       "    </tr>\n",
       "    <tr>\n",
       "      <td>9711</td>\n",
       "      <td>CA02</td>\n",
       "      <td>0140105785</td>\n",
       "      <td>SHOPPE in</td>\n",
       "      <td>NaT</td>\n",
       "      <td>2020.0</td>\n",
       "      <td>2020-05-19</td>\n",
       "      <td>2020-05-19</td>\n",
       "      <td>2020-05-29</td>\n",
       "      <td>CAD</td>\n",
       "      <td>1373.60</td>\n",
       "      <td>2020-05-19</td>\n",
       "      <td>CA10</td>\n",
       "      <td>1</td>\n",
       "    </tr>\n",
       "    <tr>\n",
       "      <td>9712</td>\n",
       "      <td>U001</td>\n",
       "      <td>0200756072</td>\n",
       "      <td>REINHA in</td>\n",
       "      <td>NaT</td>\n",
       "      <td>2020.0</td>\n",
       "      <td>2020-05-21</td>\n",
       "      <td>2020-05-21</td>\n",
       "      <td>2020-06-20</td>\n",
       "      <td>USD</td>\n",
       "      <td>8.00</td>\n",
       "      <td>2020-05-21</td>\n",
       "      <td>NAD5</td>\n",
       "      <td>1</td>\n",
       "    </tr>\n",
       "  </tbody>\n",
       "</table>\n",
       "<p>9713 rows × 13 columns</p>\n",
       "</div>"
      ],
      "text/plain": [
       "     business_code cust_number       name_customer clear_date  buisness_year  \\\n",
       "0             U001  0200769623          WAL-MAR us        NaT         2020.0   \n",
       "1             U001  0200705742              DOT in        NaT         2020.0   \n",
       "2             U001  0200778870              C corp        NaT         2020.0   \n",
       "3             U001  0200771157          WEIS trust        NaT         2020.0   \n",
       "4             U001  0200762301  C&S WH corporation        NaT         2020.0   \n",
       "...            ...         ...                 ...        ...            ...   \n",
       "9708          U001  0200457993             SHAM co        NaT         2020.0   \n",
       "9709          U001  0200763229           MAINES us        NaT         2020.0   \n",
       "9710          CA02  0100027744       OMEGA AD corp        NaT         2020.0   \n",
       "9711          CA02  0140105785           SHOPPE in        NaT         2020.0   \n",
       "9712          U001  0200756072           REINHA in        NaT         2020.0   \n",
       "\n",
       "     posting_date document_create_date.1 due_in_date invoice_currency  \\\n",
       "0      2020-02-27             2020-02-27  2020-03-13              USD   \n",
       "1      2020-02-27             2020-02-27  2020-03-13              USD   \n",
       "2      2020-02-27             2020-02-27  2020-03-13              USD   \n",
       "3      2020-02-27             2020-02-27  2020-03-13              USD   \n",
       "4      2020-02-27             2020-02-27  2020-03-13              USD   \n",
       "...           ...                    ...         ...              ...   \n",
       "9708   2020-05-15             2020-05-15  2020-05-30              USD   \n",
       "9709   2020-05-15             2020-05-15  2020-05-30              USD   \n",
       "9710   2020-05-16             2020-05-16  2020-05-16              CAD   \n",
       "9711   2020-05-19             2020-05-19  2020-05-29              CAD   \n",
       "9712   2020-05-21             2020-05-21  2020-06-20              USD   \n",
       "\n",
       "      total_open_amount baseline_create_date cust_payment_terms  isOpen  \n",
       "0              69579.37           2020-02-27               NAH4       1  \n",
       "1              13764.30           2020-02-27               NAA8       1  \n",
       "2             117550.74           2020-02-27               NAA8       1  \n",
       "3              57014.81           2020-02-27               NAA8       1  \n",
       "4              84906.91           2020-02-27               NAC6       1  \n",
       "...                 ...                  ...                ...     ...  \n",
       "9708           19798.67           2020-05-15               NAA8       1  \n",
       "9709           17140.86           2020-05-15               NAA8       1  \n",
       "9710           20550.40           2020-05-16               CAB1       1  \n",
       "9711            1373.60           2020-05-19               CA10       1  \n",
       "9712               8.00           2020-05-21               NAD5       1  \n",
       "\n",
       "[9713 rows x 13 columns]"
      ]
     },
     "execution_count": 46,
     "metadata": {},
     "output_type": "execute_result"
    }
   ],
   "source": [
    "x_test = test_data.iloc[:,:-1].copy()\n",
    "x_test"
   ]
  },
  {
   "cell_type": "markdown",
   "metadata": {},
   "source": [
    "### Creating a seprate data frame out of which we will extract val1, val2 and final train set."
   ]
  },
  {
   "cell_type": "markdown",
   "metadata": {},
   "source": [
    "####  WHOLE DATA ---> [TRAIN_DATA + VALIDATION (2 MONTHS) + TEST(2 MONTHS)] + TEST_DATA\n",
    "\n"
   ]
  },
  {
   "cell_type": "code",
   "execution_count": 49,
   "metadata": {},
   "outputs": [],
   "source": [
    "# Splitting the initial dataframe into train and temp\n",
    "# Suppose the dataframe is from '2018-12-01' to '202020-02-28'\n",
    "# So in this case we can consider last 4 months for validation and test set.\n",
    "train_data=training_update2[training_update2['posting_date'] <= '2019-10-31'].copy()\n",
    "x_temp=training_update2[training_update2['posting_date'] > '2019-10-31'].copy()\n"
   ]
  },
  {
   "cell_type": "code",
   "execution_count": 50,
   "metadata": {},
   "outputs": [],
   "source": [
    "# Spliting the temp into validation and test set\n",
    "# Now we can take 2 month for validation and the remaining 2 month for test.\n",
    "val1=x_temp[x_temp['posting_date'] <= '2019-12-31'].copy()\n",
    "val2=x_temp[x_temp['posting_date'] > '2019-12-31'].copy()"
   ]
  },
  {
   "cell_type": "code",
   "execution_count": 47,
   "metadata": {},
   "outputs": [
    {
     "data": {
      "text/html": [
       "<div>\n",
       "<style scoped>\n",
       "    .dataframe tbody tr th:only-of-type {\n",
       "        vertical-align: middle;\n",
       "    }\n",
       "\n",
       "    .dataframe tbody tr th {\n",
       "        vertical-align: top;\n",
       "    }\n",
       "\n",
       "    .dataframe thead th {\n",
       "        text-align: right;\n",
       "    }\n",
       "</style>\n",
       "<table border=\"1\" class=\"dataframe\">\n",
       "  <thead>\n",
       "    <tr style=\"text-align: right;\">\n",
       "      <th></th>\n",
       "      <th>business_code</th>\n",
       "      <th>cust_number</th>\n",
       "      <th>name_customer</th>\n",
       "      <th>clear_date</th>\n",
       "      <th>buisness_year</th>\n",
       "      <th>posting_date</th>\n",
       "      <th>document_create_date.1</th>\n",
       "      <th>due_in_date</th>\n",
       "      <th>invoice_currency</th>\n",
       "      <th>total_open_amount</th>\n",
       "      <th>baseline_create_date</th>\n",
       "      <th>cust_payment_terms</th>\n",
       "      <th>isOpen</th>\n",
       "      <th>delay</th>\n",
       "    </tr>\n",
       "  </thead>\n",
       "  <tbody>\n",
       "    <tr>\n",
       "      <td>0</td>\n",
       "      <td>U001</td>\n",
       "      <td>0200769623</td>\n",
       "      <td>WAL-MAR us</td>\n",
       "      <td>2019-01-09</td>\n",
       "      <td>2019.0</td>\n",
       "      <td>2018-12-30</td>\n",
       "      <td>2018-12-30</td>\n",
       "      <td>2019-01-14</td>\n",
       "      <td>USD</td>\n",
       "      <td>3794.88</td>\n",
       "      <td>2018-12-30</td>\n",
       "      <td>NAH4</td>\n",
       "      <td>0</td>\n",
       "      <td>-5.0</td>\n",
       "    </tr>\n",
       "    <tr>\n",
       "      <td>1</td>\n",
       "      <td>U001</td>\n",
       "      <td>0200769623</td>\n",
       "      <td>WAL-MAR co</td>\n",
       "      <td>2019-01-09</td>\n",
       "      <td>2019.0</td>\n",
       "      <td>2018-12-30</td>\n",
       "      <td>2018-12-30</td>\n",
       "      <td>2019-01-14</td>\n",
       "      <td>USD</td>\n",
       "      <td>1445.64</td>\n",
       "      <td>2018-12-30</td>\n",
       "      <td>NAH4</td>\n",
       "      <td>0</td>\n",
       "      <td>-5.0</td>\n",
       "    </tr>\n",
       "    <tr>\n",
       "      <td>2</td>\n",
       "      <td>U001</td>\n",
       "      <td>0200769623</td>\n",
       "      <td>WAL-MAR corp</td>\n",
       "      <td>2019-01-09</td>\n",
       "      <td>2019.0</td>\n",
       "      <td>2018-12-30</td>\n",
       "      <td>2018-12-30</td>\n",
       "      <td>2019-01-14</td>\n",
       "      <td>USD</td>\n",
       "      <td>1764.66</td>\n",
       "      <td>2018-12-30</td>\n",
       "      <td>NAH4</td>\n",
       "      <td>0</td>\n",
       "      <td>-5.0</td>\n",
       "    </tr>\n",
       "    <tr>\n",
       "      <td>3</td>\n",
       "      <td>U013</td>\n",
       "      <td>0140103335</td>\n",
       "      <td>PARAM associates</td>\n",
       "      <td>2019-01-23</td>\n",
       "      <td>2019.0</td>\n",
       "      <td>2018-12-30</td>\n",
       "      <td>2018-12-30</td>\n",
       "      <td>2019-01-29</td>\n",
       "      <td>USD</td>\n",
       "      <td>13230.19</td>\n",
       "      <td>2018-12-30</td>\n",
       "      <td>NAVE</td>\n",
       "      <td>0</td>\n",
       "      <td>-6.0</td>\n",
       "    </tr>\n",
       "    <tr>\n",
       "      <td>4</td>\n",
       "      <td>U001</td>\n",
       "      <td>0200769623</td>\n",
       "      <td>WAL-MAR us</td>\n",
       "      <td>2019-01-10</td>\n",
       "      <td>2019.0</td>\n",
       "      <td>2018-12-30</td>\n",
       "      <td>2018-12-30</td>\n",
       "      <td>2019-01-14</td>\n",
       "      <td>USD</td>\n",
       "      <td>53577.79</td>\n",
       "      <td>2018-12-30</td>\n",
       "      <td>NAH4</td>\n",
       "      <td>0</td>\n",
       "      <td>-4.0</td>\n",
       "    </tr>\n",
       "    <tr>\n",
       "      <td>...</td>\n",
       "      <td>...</td>\n",
       "      <td>...</td>\n",
       "      <td>...</td>\n",
       "      <td>...</td>\n",
       "      <td>...</td>\n",
       "      <td>...</td>\n",
       "      <td>...</td>\n",
       "      <td>...</td>\n",
       "      <td>...</td>\n",
       "      <td>...</td>\n",
       "      <td>...</td>\n",
       "      <td>...</td>\n",
       "      <td>...</td>\n",
       "      <td>...</td>\n",
       "    </tr>\n",
       "    <tr>\n",
       "      <td>39126</td>\n",
       "      <td>U001</td>\n",
       "      <td>0200759878</td>\n",
       "      <td>SA associates</td>\n",
       "      <td>2020-03-13</td>\n",
       "      <td>2020.0</td>\n",
       "      <td>2020-02-26</td>\n",
       "      <td>2020-02-26</td>\n",
       "      <td>2020-03-12</td>\n",
       "      <td>USD</td>\n",
       "      <td>26756.71</td>\n",
       "      <td>2020-02-26</td>\n",
       "      <td>NAH4</td>\n",
       "      <td>0</td>\n",
       "      <td>1.0</td>\n",
       "    </tr>\n",
       "    <tr>\n",
       "      <td>39127</td>\n",
       "      <td>U001</td>\n",
       "      <td>0200794332</td>\n",
       "      <td>COST systems</td>\n",
       "      <td>2020-03-12</td>\n",
       "      <td>2020.0</td>\n",
       "      <td>2020-02-27</td>\n",
       "      <td>2020-02-27</td>\n",
       "      <td>2020-03-13</td>\n",
       "      <td>USD</td>\n",
       "      <td>30220.01</td>\n",
       "      <td>2020-02-27</td>\n",
       "      <td>NAAX</td>\n",
       "      <td>0</td>\n",
       "      <td>-1.0</td>\n",
       "    </tr>\n",
       "    <tr>\n",
       "      <td>39128</td>\n",
       "      <td>U001</td>\n",
       "      <td>0200721330</td>\n",
       "      <td>PARK corp</td>\n",
       "      <td>2020-03-12</td>\n",
       "      <td>2020.0</td>\n",
       "      <td>2020-02-27</td>\n",
       "      <td>2020-02-27</td>\n",
       "      <td>2020-03-08</td>\n",
       "      <td>USD</td>\n",
       "      <td>77434.89</td>\n",
       "      <td>2020-02-27</td>\n",
       "      <td>NA10</td>\n",
       "      <td>0</td>\n",
       "      <td>4.0</td>\n",
       "    </tr>\n",
       "    <tr>\n",
       "      <td>39129</td>\n",
       "      <td>U001</td>\n",
       "      <td>0200744707</td>\n",
       "      <td>PERFOR</td>\n",
       "      <td>2020-03-16</td>\n",
       "      <td>2020.0</td>\n",
       "      <td>2020-02-27</td>\n",
       "      <td>2020-02-27</td>\n",
       "      <td>2020-03-13</td>\n",
       "      <td>USD</td>\n",
       "      <td>39408.22</td>\n",
       "      <td>2020-02-27</td>\n",
       "      <td>NAA8</td>\n",
       "      <td>0</td>\n",
       "      <td>3.0</td>\n",
       "    </tr>\n",
       "    <tr>\n",
       "      <td>39130</td>\n",
       "      <td>U001</td>\n",
       "      <td>0200794332</td>\n",
       "      <td>COST corp</td>\n",
       "      <td>2020-03-12</td>\n",
       "      <td>2020.0</td>\n",
       "      <td>2020-02-27</td>\n",
       "      <td>2020-02-27</td>\n",
       "      <td>2020-03-13</td>\n",
       "      <td>USD</td>\n",
       "      <td>8793.09</td>\n",
       "      <td>2020-02-27</td>\n",
       "      <td>NAAX</td>\n",
       "      <td>0</td>\n",
       "      <td>-1.0</td>\n",
       "    </tr>\n",
       "  </tbody>\n",
       "</table>\n",
       "<p>39131 rows × 14 columns</p>\n",
       "</div>"
      ],
      "text/plain": [
       "      business_code cust_number     name_customer clear_date  buisness_year  \\\n",
       "0              U001  0200769623        WAL-MAR us 2019-01-09         2019.0   \n",
       "1              U001  0200769623        WAL-MAR co 2019-01-09         2019.0   \n",
       "2              U001  0200769623      WAL-MAR corp 2019-01-09         2019.0   \n",
       "3              U013  0140103335  PARAM associates 2019-01-23         2019.0   \n",
       "4              U001  0200769623        WAL-MAR us 2019-01-10         2019.0   \n",
       "...             ...         ...               ...        ...            ...   \n",
       "39126          U001  0200759878     SA associates 2020-03-13         2020.0   \n",
       "39127          U001  0200794332      COST systems 2020-03-12         2020.0   \n",
       "39128          U001  0200721330         PARK corp 2020-03-12         2020.0   \n",
       "39129          U001  0200744707           PERFOR  2020-03-16         2020.0   \n",
       "39130          U001  0200794332         COST corp 2020-03-12         2020.0   \n",
       "\n",
       "      posting_date document_create_date.1 due_in_date invoice_currency  \\\n",
       "0       2018-12-30             2018-12-30  2019-01-14              USD   \n",
       "1       2018-12-30             2018-12-30  2019-01-14              USD   \n",
       "2       2018-12-30             2018-12-30  2019-01-14              USD   \n",
       "3       2018-12-30             2018-12-30  2019-01-29              USD   \n",
       "4       2018-12-30             2018-12-30  2019-01-14              USD   \n",
       "...            ...                    ...         ...              ...   \n",
       "39126   2020-02-26             2020-02-26  2020-03-12              USD   \n",
       "39127   2020-02-27             2020-02-27  2020-03-13              USD   \n",
       "39128   2020-02-27             2020-02-27  2020-03-08              USD   \n",
       "39129   2020-02-27             2020-02-27  2020-03-13              USD   \n",
       "39130   2020-02-27             2020-02-27  2020-03-13              USD   \n",
       "\n",
       "       total_open_amount baseline_create_date cust_payment_terms  isOpen  \\\n",
       "0                3794.88           2018-12-30               NAH4       0   \n",
       "1                1445.64           2018-12-30               NAH4       0   \n",
       "2                1764.66           2018-12-30               NAH4       0   \n",
       "3               13230.19           2018-12-30               NAVE       0   \n",
       "4               53577.79           2018-12-30               NAH4       0   \n",
       "...                  ...                  ...                ...     ...   \n",
       "39126           26756.71           2020-02-26               NAH4       0   \n",
       "39127           30220.01           2020-02-27               NAAX       0   \n",
       "39128           77434.89           2020-02-27               NA10       0   \n",
       "39129           39408.22           2020-02-27               NAA8       0   \n",
       "39130            8793.09           2020-02-27               NAAX       0   \n",
       "\n",
       "       delay  \n",
       "0       -5.0  \n",
       "1       -5.0  \n",
       "2       -5.0  \n",
       "3       -6.0  \n",
       "4       -4.0  \n",
       "...      ...  \n",
       "39126    1.0  \n",
       "39127   -1.0  \n",
       "39128    4.0  \n",
       "39129    3.0  \n",
       "39130   -1.0  \n",
       "\n",
       "[39131 rows x 14 columns]"
      ]
     },
     "execution_count": 47,
     "metadata": {},
     "output_type": "execute_result"
    }
   ],
   "source": [
    "training_update2 = hr[hr.clear_date.notnull()].reset_index() #train set on non-null clear date\n",
    "training_update2.drop(columns=['index'],inplace=True)\n",
    "training_update2"
   ]
  },
  {
   "cell_type": "code",
   "execution_count": 48,
   "metadata": {},
   "outputs": [
    {
     "data": {
      "text/html": [
       "<div>\n",
       "<style scoped>\n",
       "    .dataframe tbody tr th:only-of-type {\n",
       "        vertical-align: middle;\n",
       "    }\n",
       "\n",
       "    .dataframe tbody tr th {\n",
       "        vertical-align: top;\n",
       "    }\n",
       "\n",
       "    .dataframe thead th {\n",
       "        text-align: right;\n",
       "    }\n",
       "</style>\n",
       "<table border=\"1\" class=\"dataframe\">\n",
       "  <thead>\n",
       "    <tr style=\"text-align: right;\">\n",
       "      <th></th>\n",
       "      <th>business_code</th>\n",
       "      <th>cust_number</th>\n",
       "      <th>name_customer</th>\n",
       "      <th>clear_date</th>\n",
       "      <th>buisness_year</th>\n",
       "      <th>posting_date</th>\n",
       "      <th>document_create_date.1</th>\n",
       "      <th>due_in_date</th>\n",
       "      <th>invoice_currency</th>\n",
       "      <th>total_open_amount</th>\n",
       "      <th>baseline_create_date</th>\n",
       "      <th>cust_payment_terms</th>\n",
       "      <th>isOpen</th>\n",
       "      <th>delay</th>\n",
       "    </tr>\n",
       "  </thead>\n",
       "  <tbody>\n",
       "    <tr>\n",
       "      <td>0</td>\n",
       "      <td>U001</td>\n",
       "      <td>0200769623</td>\n",
       "      <td>WAL-MAR us</td>\n",
       "      <td>2019-01-09</td>\n",
       "      <td>2019.0</td>\n",
       "      <td>2018-12-30</td>\n",
       "      <td>2018-12-30</td>\n",
       "      <td>2019-01-14</td>\n",
       "      <td>USD</td>\n",
       "      <td>3794.88</td>\n",
       "      <td>2018-12-30</td>\n",
       "      <td>NAH4</td>\n",
       "      <td>0</td>\n",
       "      <td>-5.0</td>\n",
       "    </tr>\n",
       "    <tr>\n",
       "      <td>1</td>\n",
       "      <td>U001</td>\n",
       "      <td>0200769623</td>\n",
       "      <td>WAL-MAR co</td>\n",
       "      <td>2019-01-09</td>\n",
       "      <td>2019.0</td>\n",
       "      <td>2018-12-30</td>\n",
       "      <td>2018-12-30</td>\n",
       "      <td>2019-01-14</td>\n",
       "      <td>USD</td>\n",
       "      <td>1445.64</td>\n",
       "      <td>2018-12-30</td>\n",
       "      <td>NAH4</td>\n",
       "      <td>0</td>\n",
       "      <td>-5.0</td>\n",
       "    </tr>\n",
       "    <tr>\n",
       "      <td>2</td>\n",
       "      <td>U001</td>\n",
       "      <td>0200769623</td>\n",
       "      <td>WAL-MAR corp</td>\n",
       "      <td>2019-01-09</td>\n",
       "      <td>2019.0</td>\n",
       "      <td>2018-12-30</td>\n",
       "      <td>2018-12-30</td>\n",
       "      <td>2019-01-14</td>\n",
       "      <td>USD</td>\n",
       "      <td>1764.66</td>\n",
       "      <td>2018-12-30</td>\n",
       "      <td>NAH4</td>\n",
       "      <td>0</td>\n",
       "      <td>-5.0</td>\n",
       "    </tr>\n",
       "  </tbody>\n",
       "</table>\n",
       "</div>"
      ],
      "text/plain": [
       "  business_code cust_number name_customer clear_date  buisness_year  \\\n",
       "0          U001  0200769623    WAL-MAR us 2019-01-09         2019.0   \n",
       "1          U001  0200769623    WAL-MAR co 2019-01-09         2019.0   \n",
       "2          U001  0200769623  WAL-MAR corp 2019-01-09         2019.0   \n",
       "\n",
       "  posting_date document_create_date.1 due_in_date invoice_currency  \\\n",
       "0   2018-12-30             2018-12-30  2019-01-14              USD   \n",
       "1   2018-12-30             2018-12-30  2019-01-14              USD   \n",
       "2   2018-12-30             2018-12-30  2019-01-14              USD   \n",
       "\n",
       "   total_open_amount baseline_create_date cust_payment_terms  isOpen  delay  \n",
       "0            3794.88           2018-12-30               NAH4       0   -5.0  \n",
       "1            1445.64           2018-12-30               NAH4       0   -5.0  \n",
       "2            1764.66           2018-12-30               NAH4       0   -5.0  "
      ]
     },
     "execution_count": 48,
     "metadata": {},
     "output_type": "execute_result"
    }
   ],
   "source": [
    "# select rows 0,1,2 (but not 3)\n",
    "training_update2[0:3]"
   ]
  },
  {
   "cell_type": "code",
   "execution_count": 52,
   "metadata": {},
   "outputs": [
    {
     "data": {
      "text/plain": [
       "business_code             29654\n",
       "cust_number               29654\n",
       "name_customer             29654\n",
       "clear_date                29654\n",
       "buisness_year             29654\n",
       "posting_date              29654\n",
       "document_create_date.1    29654\n",
       "due_in_date               29654\n",
       "invoice_currency          29654\n",
       "total_open_amount         29654\n",
       "baseline_create_date      29654\n",
       "cust_payment_terms        29654\n",
       "isOpen                    29654\n",
       "delay                     29654\n",
       "dtype: int64"
      ]
     },
     "execution_count": 52,
     "metadata": {},
     "output_type": "execute_result"
    }
   ],
   "source": [
    "#checking number of dataset in test set\n",
    "\n",
    "train_data.count()"
   ]
  },
  {
   "cell_type": "code",
   "execution_count": 51,
   "metadata": {},
   "outputs": [
    {
     "data": {
      "text/plain": [
       "business_code             4537\n",
       "cust_number               4537\n",
       "name_customer             4537\n",
       "clear_date                4537\n",
       "buisness_year             4537\n",
       "posting_date              4537\n",
       "document_create_date.1    4537\n",
       "due_in_date               4537\n",
       "invoice_currency          4537\n",
       "total_open_amount         4537\n",
       "baseline_create_date      4537\n",
       "cust_payment_terms        4537\n",
       "isOpen                    4537\n",
       "delay                     4537\n",
       "dtype: int64"
      ]
     },
     "execution_count": 51,
     "metadata": {},
     "output_type": "execute_result"
    }
   ],
   "source": [
    "#checking number of dataset in validation set\n",
    "val1.count()"
   ]
  },
  {
   "cell_type": "code",
   "execution_count": 52,
   "metadata": {},
   "outputs": [
    {
     "data": {
      "text/plain": [
       "(4940, 14)"
      ]
     },
     "execution_count": 52,
     "metadata": {},
     "output_type": "execute_result"
    }
   ],
   "source": [
    "val2.shape"
   ]
  },
  {
   "cell_type": "code",
   "execution_count": 53,
   "metadata": {},
   "outputs": [],
   "source": [
    "#seaborn can be use in case of exploratory analysis/Data cleaning/Data Visualisation\n",
    "\n",
    "import matplotlib.pyplot as plt\n",
    "%matplotlib inline\n",
    "import seaborn as sns"
   ]
  },
  {
   "cell_type": "markdown",
   "metadata": {},
   "source": [
    "# EDA"
   ]
  },
  {
   "cell_type": "markdown",
   "metadata": {},
   "source": [
    "# UNIVARIATE ANALYSIS"
   ]
  },
  {
   "cell_type": "code",
   "execution_count": 54,
   "metadata": {},
   "outputs": [
    {
     "name": "stdout",
     "output_type": "stream",
     "text": [
      "<class 'pandas.core.frame.DataFrame'>\n",
      "Int64Index: 29654 entries, 0 to 29653\n",
      "Data columns (total 14 columns):\n",
      "business_code             29654 non-null object\n",
      "cust_number               29654 non-null object\n",
      "name_customer             29654 non-null object\n",
      "clear_date                29654 non-null datetime64[ns]\n",
      "buisness_year             29654 non-null float64\n",
      "posting_date              29654 non-null datetime64[ns]\n",
      "document_create_date.1    29654 non-null datetime64[ns]\n",
      "due_in_date               29654 non-null datetime64[ns]\n",
      "invoice_currency          29654 non-null object\n",
      "total_open_amount         29654 non-null float64\n",
      "baseline_create_date      29654 non-null datetime64[ns]\n",
      "cust_payment_terms        29654 non-null object\n",
      "isOpen                    29654 non-null int64\n",
      "delay                     29654 non-null float64\n",
      "dtypes: datetime64[ns](5), float64(3), int64(1), object(5)\n",
      "memory usage: 3.4+ MB\n"
     ]
    }
   ],
   "source": [
    "train_data.info()"
   ]
  },
  {
   "cell_type": "markdown",
   "metadata": {},
   "source": [
    "#### We can see there are no null values in our dataset. There are only 3 continuous variable column i.e. buisness_year, total_open_amount and delay "
   ]
  },
  {
   "cell_type": "markdown",
   "metadata": {},
   "source": [
    "## business_code"
   ]
  },
  {
   "cell_type": "markdown",
   "metadata": {},
   "source": [
    "###### company code of the account"
   ]
  },
  {
   "cell_type": "code",
   "execution_count": 55,
   "metadata": {},
   "outputs": [
    {
     "data": {
      "text/plain": [
       "U001    26916\n",
       "CA02     2235\n",
       "U013      380\n",
       "U002      111\n",
       "U005       11\n",
       "U007        1\n",
       "Name: business_code, dtype: int64"
      ]
     },
     "execution_count": 55,
     "metadata": {},
     "output_type": "execute_result"
    }
   ],
   "source": [
    "train_data.business_code.value_counts()"
   ]
  },
  {
   "cell_type": "code",
   "execution_count": 56,
   "metadata": {},
   "outputs": [
    {
     "data": {
      "text/plain": [
       "<matplotlib.axes._subplots.AxesSubplot at 0x1d9c88d5a48>"
      ]
     },
     "execution_count": 56,
     "metadata": {},
     "output_type": "execute_result"
    },
    {
     "data": {
      "image/png": "[encoded data removed]",
      "text/plain": [
       "<Figure size 432x288 with 1 Axes>"
      ]
     },
     "metadata": {
      "needs_background": "light"
     },
     "output_type": "display_data"
    }
   ],
   "source": [
    "sns.countplot(x = train_data['business_code'])"
   ]
  },
  {
   "cell_type": "markdown",
   "metadata": {},
   "source": [
    "###### As there are only 6 values we can apply encoding on it later."
   ]
  },
  {
   "cell_type": "markdown",
   "metadata": {},
   "source": [
    "### cust_number"
   ]
  },
  {
   "cell_type": "markdown",
   "metadata": {},
   "source": [
    "customer number given to all the customers of the Account."
   ]
  },
  {
   "cell_type": "code",
   "execution_count": 57,
   "metadata": {},
   "outputs": [
    {
     "data": {
      "text/plain": [
       "0200769623    6364\n",
       "0200726979    1037\n",
       "0200762301     866\n",
       "0200759878     767\n",
       "0200794332     664\n",
       "              ... \n",
       "0200610381       1\n",
       "200520353        1\n",
       "0200932554       1\n",
       "200966888        1\n",
       "200529372        1\n",
       "Name: cust_number, Length: 1232, dtype: int64"
      ]
     },
     "execution_count": 57,
     "metadata": {},
     "output_type": "execute_result"
    }
   ],
   "source": [
    "train_data.cust_number.value_counts()"
   ]
  },
  {
   "cell_type": "code",
   "execution_count": 58,
   "metadata": {},
   "outputs": [
    {
     "data": {
      "text/plain": [
       "1232"
      ]
     },
     "execution_count": 58,
     "metadata": {},
     "output_type": "execute_result"
    }
   ],
   "source": [
    "len(dict(train_data.cust_number.value_counts()))"
   ]
  },
  {
   "cell_type": "markdown",
   "metadata": {},
   "source": [
    "There are 1232 unique customers or comapny that we have transactions with.\n",
    "\n",
    "cust_number represent account no of different companies. For eg WAL-MAR has many varities that is WAL-MAR corporation, WAL-MAR systems etc but they have the same cust_number."
   ]
  },
  {
   "cell_type": "markdown",
   "metadata": {},
   "source": [
    "###  name_customer"
   ]
  },
  {
   "cell_type": "code",
   "execution_count": 59,
   "metadata": {},
   "outputs": [
    {
     "data": {
      "text/plain": [
       "WAL-MAR llc           676\n",
       "WAL-MAR associates    664\n",
       "WAL-MAR co            656\n",
       "WAL-MAR us            656\n",
       "WAL-MAR               648\n",
       "                     ... \n",
       "HUDD foundation         1\n",
       "JAKE foundation         1\n",
       "BAR corporation         1\n",
       "DIS trust               1\n",
       "PAPA JOH systems        1\n",
       "Name: name_customer, Length: 3446, dtype: int64"
      ]
     },
     "execution_count": 59,
     "metadata": {},
     "output_type": "execute_result"
    }
   ],
   "source": [
    "train_data.name_customer.value_counts()"
   ]
  },
  {
   "cell_type": "markdown",
   "metadata": {},
   "source": [
    "Companies Like WAL-MAR, WAL-MAR systems, etc belong to company WAL-MAR and have a unique customer_num to their name hence this column will be dropped."
   ]
  },
  {
   "cell_type": "markdown",
   "metadata": {},
   "source": [
    "## clear_date"
   ]
  },
  {
   "cell_type": "markdown",
   "metadata": {},
   "source": [
    "##### The date on which the customer clears an invoice, or in simple terms, they make the full payment."
   ]
  },
  {
   "cell_type": "code",
   "execution_count": 60,
   "metadata": {},
   "outputs": [
    {
     "data": {
      "text/plain": [
       "Timestamp('2019-01-02 00:00:00')"
      ]
     },
     "execution_count": 60,
     "metadata": {},
     "output_type": "execute_result"
    }
   ],
   "source": [
    "train_data.clear_date.min()"
   ]
  },
  {
   "cell_type": "code",
   "execution_count": 61,
   "metadata": {},
   "outputs": [
    {
     "data": {
      "text/plain": [
       "Timestamp('2019-12-30 00:00:00')"
      ]
     },
     "execution_count": 61,
     "metadata": {},
     "output_type": "execute_result"
    }
   ],
   "source": [
    "train_data.clear_date.max()"
   ]
  },
  {
   "cell_type": "markdown",
   "metadata": {},
   "source": [
    "###### Our clear_date ranges for 363 days."
   ]
  },
  {
   "cell_type": "code",
   "execution_count": 62,
   "metadata": {},
   "outputs": [
    {
     "data": {
      "text/plain": [
       "5     3314\n",
       "4     3061\n",
       "8     3055\n",
       "7     3015\n",
       "9     2983\n",
       "10    2917\n",
       "3     2917\n",
       "6     2767\n",
       "2     2458\n",
       "11    1774\n",
       "1     1291\n",
       "12     102\n",
       "Name: clear_date, dtype: int64"
      ]
     },
     "execution_count": 62,
     "metadata": {},
     "output_type": "execute_result"
    }
   ],
   "source": [
    "clear_month = train_data.clear_date.dt.month\n",
    "clear_month.value_counts()"
   ]
  },
  {
   "cell_type": "code",
   "execution_count": 63,
   "metadata": {},
   "outputs": [
    {
     "data": {
      "text/plain": [
       "<matplotlib.axes._subplots.AxesSubplot at 0x1d9c8c0be08>"
      ]
     },
     "execution_count": 63,
     "metadata": {},
     "output_type": "execute_result"
    },
    {
     "data": {
      "image/png": "[encoded data removed]",
      "text/plain": [
       "<Figure size 432x288 with 1 Axes>"
      ]
     },
     "metadata": {
      "needs_background": "light"
     },
     "output_type": "display_data"
    }
   ],
   "source": [
    "sns.countplot(x=clear_month, palette=\"hls\")"
   ]
  },
  {
   "cell_type": "markdown",
   "metadata": {},
   "source": [
    "##### May is the month where the companies completed their maximum transations and december is the month companies completed min transactions"
   ]
  },
  {
   "cell_type": "markdown",
   "metadata": {},
   "source": [
    "### invoice_currency\n"
   ]
  },
  {
   "cell_type": "code",
   "execution_count": 64,
   "metadata": {},
   "outputs": [
    {
     "data": {
      "text/plain": [
       "USD    27419\n",
       "CAD     2235\n",
       "Name: invoice_currency, dtype: int64"
      ]
     },
     "execution_count": 64,
     "metadata": {},
     "output_type": "execute_result"
    }
   ],
   "source": [
    "train_data[\"invoice_currency\"].value_counts()"
   ]
  },
  {
   "cell_type": "markdown",
   "metadata": {},
   "source": [
    "As there are two currencies involved, we can convert either one them. However, as there is not much difference between USD and CAD, there is not much use of converting them."
   ]
  },
  {
   "cell_type": "markdown",
   "metadata": {},
   "source": [
    "### total_open_amount"
   ]
  },
  {
   "cell_type": "markdown",
   "metadata": {},
   "source": [
    "The amount that is yet to be paid for that invoice"
   ]
  },
  {
   "cell_type": "code",
   "execution_count": 65,
   "metadata": {},
   "outputs": [
    {
     "data": {
      "text/plain": [
       "count     29654.000000\n",
       "mean      31643.721044\n",
       "std       39407.381429\n",
       "min           0.860000\n",
       "25%        4522.720000\n",
       "50%       16932.500000\n",
       "75%       45675.492500\n",
       "max      660202.550000\n",
       "Name: total_open_amount, dtype: object"
      ]
     },
     "execution_count": 65,
     "metadata": {},
     "output_type": "execute_result"
    }
   ],
   "source": [
    "train_data['total_open_amount'].describe().apply(lambda x: format(x,'f'))"
   ]
  },
  {
   "cell_type": "markdown",
   "metadata": {},
   "source": [
    "Automatically binning the amount using pd.qcut."
   ]
  },
  {
   "cell_type": "code",
   "execution_count": 66,
   "metadata": {},
   "outputs": [
    {
     "data": {
      "text/plain": [
       "(0.859, 813.17]           2974\n",
       "(80426.921, 660202.55]    2966\n",
       "(38222.277, 54319.32]     2966\n",
       "(24509.512, 38222.277]    2966\n",
       "(6766.134, 12263.522]     2966\n",
       "(16932.5, 24509.512]      2965\n",
       "(12263.522, 16932.5]      2965\n",
       "(2809.254, 6766.134]      2965\n",
       "(54319.32, 80426.921]     2964\n",
       "(813.17, 2809.254]        2957\n",
       "Name: total_open_amount, dtype: int64"
      ]
     },
     "execution_count": 66,
     "metadata": {},
     "output_type": "execute_result"
    }
   ],
   "source": [
    "open_amount_bins = pd.qcut(train_data['total_open_amount'],q=10)\n",
    "open_amount_bins.value_counts()"
   ]
  },
  {
   "cell_type": "code",
   "execution_count": 67,
   "metadata": {},
   "outputs": [],
   "source": [
    "amount_bins = [0,5000,10000,50000,100000,1100000]\n",
    "new_open_amount_bin = pd.cut(train_data['total_open_amount'], bins = amount_bins)"
   ]
  },
  {
   "cell_type": "code",
   "execution_count": 68,
   "metadata": {},
   "outputs": [
    {
     "data": {
      "text/plain": [
       "<matplotlib.axes._subplots.AxesSubplot at 0x1d9c8cc52c8>"
      ]
     },
     "execution_count": 68,
     "metadata": {},
     "output_type": "execute_result"
    },
    {
     "data": {
      "image/png": "[encoded data removed]",
      "text/plain": [
       "<Figure size 432x288 with 1 Axes>"
      ]
     },
     "metadata": {
      "needs_background": "light"
     },
     "output_type": "display_data"
    }
   ],
   "source": [
    "plt.xticks(fontsize=10, rotation=90)\n",
    "sns.countplot(x=open_amount_bins, palette=\"hls\")"
   ]
  },
  {
   "cell_type": "markdown",
   "metadata": {},
   "source": [
    "The number of companies in each distribution is same"
   ]
  },
  {
   "cell_type": "markdown",
   "metadata": {},
   "source": [
    "### Distplot"
   ]
  },
  {
   "cell_type": "code",
   "execution_count": 69,
   "metadata": {},
   "outputs": [
    {
     "data": {
      "text/plain": [
       "Text(0.5, 1.0, 'Invoice dates')"
      ]
     },
     "execution_count": 69,
     "metadata": {},
     "output_type": "execute_result"
    },
    {
     "data": {
      "image/png": "[encoded data removed]",
      "text/plain": [
       "<Figure size 432x288 with 1 Axes>"
      ]
     },
     "metadata": {
      "needs_background": "light"
     },
     "output_type": "display_data"
    }
   ],
   "source": [
    "# distribution of the target column \n",
    "# It came out to be right skewed distribution\n",
    "# outliers present but not that significant , hence\n",
    "#mode is lowest followed by median and mean\n",
    "sns.distplot(train_data['delay']).set_title('Invoice dates')\n"
   ]
  },
  {
   "cell_type": "markdown",
   "metadata": {},
   "source": [
    "since the distribution is right shifted hence it is a positive skewed distribution"
   ]
  },
  {
   "cell_type": "code",
   "execution_count": 70,
   "metadata": {},
   "outputs": [
    {
     "data": {
      "text/plain": [
       "<matplotlib.axes._subplots.AxesSubplot at 0x1d9c90412c8>"
      ]
     },
     "execution_count": 70,
     "metadata": {},
     "output_type": "execute_result"
    },
    {
     "data": {
      "image/png": "[encoded data removed]",
      "text/plain": [
       "<Figure size 432x288 with 1 Axes>"
      ]
     },
     "metadata": {
      "needs_background": "light"
     },
     "output_type": "display_data"
    }
   ],
   "source": [
    "sns.boxplot(train_data['delay'])"
   ]
  },
  {
   "cell_type": "markdown",
   "metadata": {},
   "source": [
    "#### observing the large number of outliers it might be useful while predicting the reason of delays\n",
    "#### hence it isnt wise to remove outliers here"
   ]
  },
  {
   "cell_type": "code",
   "execution_count": 71,
   "metadata": {},
   "outputs": [],
   "source": [
    "#checking the outliers using Zscore methord z=x-mean/SD\n",
    "# Z score/standard score tells how many standard deviations away a data point is from the mean\n",
    "from scipy import stats\n",
    "z=np.abs(stats.zscore(train_data['delay']))"
   ]
  },
  {
   "cell_type": "code",
   "execution_count": 72,
   "metadata": {},
   "outputs": [
    {
     "name": "stdout",
     "output_type": "stream",
     "text": [
      "[0.53673374 0.53673374 0.53673374 ... 0.26332614 0.27004711 0.35894266]\n"
     ]
    }
   ],
   "source": [
    "print(z)"
   ]
  },
  {
   "cell_type": "code",
   "execution_count": 73,
   "metadata": {},
   "outputs": [
    {
     "name": "stdout",
     "output_type": "stream",
     "text": [
      "(array([   24,    78,    87,   143,   198,   205,   237,   397,   402,\n",
      "         419,   496,   513,   572,   594,   706,   760,   840,   874,\n",
      "         879,   880,   894,   929,   936,   971,   990,   999,  1016,\n",
      "        1060,  1076,  1079,  1091,  1142,  1143,  1165,  1184,  1196,\n",
      "        1209,  1218,  1238,  1371,  1423,  1510,  1524,  1565,  1622,\n",
      "        1761,  1771,  1782,  1857,  2015,  2021,  2074,  2141,  2159,\n",
      "        2162,  2177,  2636,  2739,  2764,  2785,  2808,  2858,  2892,\n",
      "        2898,  2899,  2902,  2915,  2928,  2951,  2975,  2994,  2999,\n",
      "        3068,  3085,  3143,  3149,  3203,  3207,  3265,  3270,  3303,\n",
      "        3383,  3398,  3401,  3428,  3433,  3438,  3475,  3480,  3514,\n",
      "        3555,  3561,  3563,  3578,  3588,  3608,  3618,  3621,  3689,\n",
      "        3701,  3717,  3734,  3814,  3856,  3895,  3940,  3954,  3959,\n",
      "        4042,  4045,  4069,  4105,  4127,  4243,  4350,  4362,  4368,\n",
      "        4396,  4404,  4433,  4443,  4476,  4479,  4489,  4500,  4522,\n",
      "        4679,  4722,  4728,  4742,  4774,  4822,  4871,  4876,  4935,\n",
      "        4950,  5027,  5031,  5080,  5220,  5234,  5270,  5339,  5355,\n",
      "        5434,  5463,  5489,  5562,  5606,  5678,  5704,  5767,  5788,\n",
      "        5814,  5866,  5870,  5903,  5908,  5911,  5985,  6009,  6018,\n",
      "        6038,  6084,  6148,  6149,  6153,  6175,  6195,  6233,  6299,\n",
      "        6320,  6366,  6417,  6426,  6444,  6446,  6499,  6523,  6546,\n",
      "        6561,  6570,  6622,  6626,  6689,  6762,  6776,  6778,  6805,\n",
      "        6878,  6932,  6951,  6963,  7048,  7062,  7070,  7127,  7134,\n",
      "        7150,  7217,  7241,  7298,  7314,  7340,  7349,  7365,  7375,\n",
      "        7398,  7429,  7449,  7459,  7484,  7485,  7502,  7520,  7560,\n",
      "        7576,  7601,  7611,  7624,  7629,  7645,  7658,  7660,  7662,\n",
      "        7675,  7723,  7724,  7730,  7734,  7742,  7783,  7792,  7848,\n",
      "        7859,  7879,  7887,  7899,  7913,  7933,  7940,  7944,  8003,\n",
      "        8010,  8039,  8058,  8092,  8101,  8163,  8169,  8225,  8301,\n",
      "        8312,  8313,  8314,  8335,  8349,  8354,  8371,  8374,  8384,\n",
      "        8399,  8420,  8430,  8437,  8444,  8459,  8468,  8476,  8492,\n",
      "        8500,  8554,  8587,  8589,  8603,  8629,  8683,  8687,  8701,\n",
      "        8718,  8719,  8721,  8731,  8772,  8791,  8796,  8886,  8909,\n",
      "        8936,  8970,  8992,  9006,  9012,  9049,  9087,  9095,  9110,\n",
      "        9138,  9168,  9184,  9224,  9232,  9254,  9292,  9304,  9342,\n",
      "        9352,  9357,  9369,  9389,  9394,  9424,  9442,  9498,  9517,\n",
      "        9520,  9545,  9576,  9588,  9667,  9672,  9707,  9801,  9808,\n",
      "        9886,  9903,  9945,  9964,  9992, 10011, 10042, 10052, 10065,\n",
      "       10117, 10164, 10166, 10180, 10228, 10231, 10252, 10276, 10284,\n",
      "       10333, 10353, 10387, 10388, 10390, 10407, 10408, 10412, 10422,\n",
      "       10437, 10459, 10480, 10507, 10643, 10644, 10651, 10655, 10665,\n",
      "       10705, 10721, 10738, 10839, 10888, 10947, 11003, 11035, 11071,\n",
      "       11100, 11127, 11152, 11178, 11275, 11283, 11295, 11305, 11309,\n",
      "       11350, 11411, 11561, 11635, 11655, 11659, 11674, 11708, 11761,\n",
      "       11783, 11828, 11869, 11900, 11985, 11995, 12007, 12028, 12088,\n",
      "       12099, 12113, 12150, 12215, 12221, 12270, 12282, 12314, 12334,\n",
      "       12335, 12349, 12362, 12390, 12422, 12447, 12499, 12560, 12579,\n",
      "       12684, 12706, 12715, 12751, 12764, 12886, 12898, 12969, 12971,\n",
      "       12982, 13124, 13191, 13197, 13248, 13308, 13321, 13379, 13456,\n",
      "       13461, 13466, 13478, 13567, 13594, 13606, 13618, 13651, 13694,\n",
      "       13710, 13829, 13837, 13847, 13938, 13985, 14006, 14011, 14019,\n",
      "       14024, 14066, 14093, 14105, 14108, 14125, 14305, 14338, 14546,\n",
      "       14566, 14584, 14686, 14758, 14861, 14864, 14890, 14895, 14908,\n",
      "       14931, 14945, 15034, 15070, 15201, 15285, 15373, 15388, 15440,\n",
      "       15456, 15468, 15494, 15506, 15554, 15556, 15605, 15738, 15808,\n",
      "       15928, 15987, 16009, 16070, 16097, 16135, 16173, 16284, 16338,\n",
      "       16382, 16401, 16422, 16515, 16522, 16524, 16547, 16550, 16617,\n",
      "       16626, 16631, 16678, 16696, 16705, 16735, 16785, 16804, 16806,\n",
      "       16812, 16825, 16828, 16836, 17050, 17052, 17072, 17097, 17141,\n",
      "       17279, 17357, 17373, 17419, 17459, 17478, 17487, 17550, 17580,\n",
      "       17598, 17632, 17658, 17783, 17828, 17850, 17872, 17877, 17910,\n",
      "       18010, 18103, 18138, 18219, 18250, 18269, 18327, 18401, 18411,\n",
      "       18433, 18458, 18575, 18576, 18590, 18603, 18615, 18625, 18688,\n",
      "       18722, 18729, 18860, 18863, 18922, 18953, 19027, 19041, 19042,\n",
      "       19048, 19072, 19134, 19193, 19225, 19252, 19274, 19282, 19307,\n",
      "       19312, 19353, 19362, 19367, 19395, 19429, 19481, 19546, 19592,\n",
      "       19608, 19668, 19674, 19689, 19706, 19715, 19739, 19779, 19788,\n",
      "       19829, 19866, 19954, 19969, 19981, 20110, 20151, 20173, 20179,\n",
      "       20194, 20202, 20204, 20209, 20210, 20316, 20362, 20368, 20454,\n",
      "       20462, 20522, 20683, 20688, 20909, 20935, 20951, 20960, 20962,\n",
      "       20980, 21033, 21042, 21092, 21220, 21289, 21290, 21327, 21338,\n",
      "       21352, 21399, 21447, 21472, 21507, 21533, 21553, 21600, 21604,\n",
      "       21606, 21645, 21697, 21700, 21735, 21897, 21916, 21922, 21957,\n",
      "       22003, 22017, 22041, 22044, 22052, 22116, 22218, 22237, 22309,\n",
      "       22392, 22396, 22399, 22438, 22443, 22489, 22503, 22663, 22700,\n",
      "       22749, 22750, 22754, 23131, 23232, 23290, 23297, 23369, 23405,\n",
      "       23458, 23486, 23532, 23563, 23686, 23779, 23887, 23889, 23941,\n",
      "       23960, 23975, 23977, 24020, 24051, 24119, 24137, 24180, 24182,\n",
      "       24184, 24230, 24233, 24279, 24305, 24340, 24348, 24394, 24498,\n",
      "       24554, 24561, 24671, 24683, 24718, 24749, 24810, 24831, 24842,\n",
      "       24843, 24940, 24942, 24960, 24978, 24999, 25024, 25025, 25027,\n",
      "       25031, 25051, 25058, 25162, 25219, 25228, 25250, 25254, 25257,\n",
      "       25294, 25318, 25359, 25440, 25454, 25480, 25523, 25527, 25569,\n",
      "       25605, 25633, 25688, 25717, 25718, 25751, 25788, 25801, 25819,\n",
      "       25860, 25864, 25915, 25945, 25946, 25978, 26062, 26142, 26170,\n",
      "       26228, 26238, 26250, 26262, 26274, 26284, 26299, 26353, 26521,\n",
      "       26546, 26557, 26596, 26650, 26671, 26679, 26699, 26779, 26789,\n",
      "       26793, 26856, 26937, 27139, 27204, 27322, 27334, 27344, 27396,\n",
      "       27519, 27540, 27569, 27689, 27726, 27736, 27763, 27810, 27842,\n",
      "       27883, 27992, 27997, 28025, 28046, 28097, 28121, 28266, 28298,\n",
      "       28408, 28474, 28479, 28481, 28497, 28520, 28564, 28569, 28615,\n",
      "       28674, 28816, 29033, 29417], dtype=int64),)\n"
     ]
    }
   ],
   "source": [
    "#adding threshold and checking where the values are greater then threshold\n",
    "threshold=3\n",
    "print(np.where(z>3))\n"
   ]
  },
  {
   "cell_type": "code",
   "execution_count": 74,
   "metadata": {},
   "outputs": [
    {
     "name": "stdout",
     "output_type": "stream",
     "text": [
      "5.330372030075218\n"
     ]
    }
   ],
   "source": [
    "#to check whether the threshold is greater than 3 at any particular row\n",
    "print(z[24])"
   ]
  },
  {
   "cell_type": "code",
   "execution_count": 75,
   "metadata": {},
   "outputs": [
    {
     "data": {
      "text/html": [
       "<div>\n",
       "<style scoped>\n",
       "    .dataframe tbody tr th:only-of-type {\n",
       "        vertical-align: middle;\n",
       "    }\n",
       "\n",
       "    .dataframe tbody tr th {\n",
       "        vertical-align: top;\n",
       "    }\n",
       "\n",
       "    .dataframe thead th {\n",
       "        text-align: right;\n",
       "    }\n",
       "</style>\n",
       "<table border=\"1\" class=\"dataframe\">\n",
       "  <thead>\n",
       "    <tr style=\"text-align: right;\">\n",
       "      <th></th>\n",
       "      <th>business_code</th>\n",
       "      <th>cust_number</th>\n",
       "      <th>name_customer</th>\n",
       "      <th>clear_date</th>\n",
       "      <th>buisness_year</th>\n",
       "      <th>posting_date</th>\n",
       "      <th>document_create_date.1</th>\n",
       "      <th>due_in_date</th>\n",
       "      <th>invoice_currency</th>\n",
       "      <th>total_open_amount</th>\n",
       "      <th>baseline_create_date</th>\n",
       "      <th>cust_payment_terms</th>\n",
       "      <th>isOpen</th>\n",
       "      <th>delay</th>\n",
       "      <th>zscore</th>\n",
       "    </tr>\n",
       "  </thead>\n",
       "  <tbody>\n",
       "    <tr>\n",
       "      <td>0</td>\n",
       "      <td>U001</td>\n",
       "      <td>0200769623</td>\n",
       "      <td>WAL-MAR us</td>\n",
       "      <td>2019-01-09</td>\n",
       "      <td>2019.0</td>\n",
       "      <td>2018-12-30</td>\n",
       "      <td>2018-12-30</td>\n",
       "      <td>2019-01-14</td>\n",
       "      <td>USD</td>\n",
       "      <td>3794.88</td>\n",
       "      <td>2018-12-30</td>\n",
       "      <td>NAH4</td>\n",
       "      <td>0</td>\n",
       "      <td>-5.0</td>\n",
       "      <td>-0.536725</td>\n",
       "    </tr>\n",
       "    <tr>\n",
       "      <td>1</td>\n",
       "      <td>U001</td>\n",
       "      <td>0200769623</td>\n",
       "      <td>WAL-MAR co</td>\n",
       "      <td>2019-01-09</td>\n",
       "      <td>2019.0</td>\n",
       "      <td>2018-12-30</td>\n",
       "      <td>2018-12-30</td>\n",
       "      <td>2019-01-14</td>\n",
       "      <td>USD</td>\n",
       "      <td>1445.64</td>\n",
       "      <td>2018-12-30</td>\n",
       "      <td>NAH4</td>\n",
       "      <td>0</td>\n",
       "      <td>-5.0</td>\n",
       "      <td>-0.536725</td>\n",
       "    </tr>\n",
       "    <tr>\n",
       "      <td>2</td>\n",
       "      <td>U001</td>\n",
       "      <td>0200769623</td>\n",
       "      <td>WAL-MAR corp</td>\n",
       "      <td>2019-01-09</td>\n",
       "      <td>2019.0</td>\n",
       "      <td>2018-12-30</td>\n",
       "      <td>2018-12-30</td>\n",
       "      <td>2019-01-14</td>\n",
       "      <td>USD</td>\n",
       "      <td>1764.66</td>\n",
       "      <td>2018-12-30</td>\n",
       "      <td>NAH4</td>\n",
       "      <td>0</td>\n",
       "      <td>-5.0</td>\n",
       "      <td>-0.536725</td>\n",
       "    </tr>\n",
       "    <tr>\n",
       "      <td>3</td>\n",
       "      <td>U013</td>\n",
       "      <td>0140103335</td>\n",
       "      <td>PARAM associates</td>\n",
       "      <td>2019-01-23</td>\n",
       "      <td>2019.0</td>\n",
       "      <td>2018-12-30</td>\n",
       "      <td>2018-12-30</td>\n",
       "      <td>2019-01-29</td>\n",
       "      <td>USD</td>\n",
       "      <td>13230.19</td>\n",
       "      <td>2018-12-30</td>\n",
       "      <td>NAVE</td>\n",
       "      <td>0</td>\n",
       "      <td>-6.0</td>\n",
       "      <td>-0.625619</td>\n",
       "    </tr>\n",
       "    <tr>\n",
       "      <td>4</td>\n",
       "      <td>U001</td>\n",
       "      <td>0200769623</td>\n",
       "      <td>WAL-MAR us</td>\n",
       "      <td>2019-01-10</td>\n",
       "      <td>2019.0</td>\n",
       "      <td>2018-12-30</td>\n",
       "      <td>2018-12-30</td>\n",
       "      <td>2019-01-14</td>\n",
       "      <td>USD</td>\n",
       "      <td>53577.79</td>\n",
       "      <td>2018-12-30</td>\n",
       "      <td>NAH4</td>\n",
       "      <td>0</td>\n",
       "      <td>-4.0</td>\n",
       "      <td>-0.447831</td>\n",
       "    </tr>\n",
       "    <tr>\n",
       "      <td>...</td>\n",
       "      <td>...</td>\n",
       "      <td>...</td>\n",
       "      <td>...</td>\n",
       "      <td>...</td>\n",
       "      <td>...</td>\n",
       "      <td>...</td>\n",
       "      <td>...</td>\n",
       "      <td>...</td>\n",
       "      <td>...</td>\n",
       "      <td>...</td>\n",
       "      <td>...</td>\n",
       "      <td>...</td>\n",
       "      <td>...</td>\n",
       "      <td>...</td>\n",
       "      <td>...</td>\n",
       "    </tr>\n",
       "    <tr>\n",
       "      <td>29649</td>\n",
       "      <td>U001</td>\n",
       "      <td>0200726979</td>\n",
       "      <td>BJ'S</td>\n",
       "      <td>2019-11-15</td>\n",
       "      <td>2019.0</td>\n",
       "      <td>2019-10-31</td>\n",
       "      <td>2019-10-31</td>\n",
       "      <td>2019-11-15</td>\n",
       "      <td>USD</td>\n",
       "      <td>64.03</td>\n",
       "      <td>2019-10-31</td>\n",
       "      <td>NAA8</td>\n",
       "      <td>0</td>\n",
       "      <td>0.0</td>\n",
       "      <td>-0.092254</td>\n",
       "    </tr>\n",
       "    <tr>\n",
       "      <td>29650</td>\n",
       "      <td>U001</td>\n",
       "      <td>0200974851</td>\n",
       "      <td>RESTA trust</td>\n",
       "      <td>2019-11-27</td>\n",
       "      <td>2019.0</td>\n",
       "      <td>2019-10-31</td>\n",
       "      <td>2019-10-31</td>\n",
       "      <td>2019-11-15</td>\n",
       "      <td>USD</td>\n",
       "      <td>8.06</td>\n",
       "      <td>2019-10-31</td>\n",
       "      <td>NAA8</td>\n",
       "      <td>0</td>\n",
       "      <td>12.0</td>\n",
       "      <td>0.974474</td>\n",
       "    </tr>\n",
       "    <tr>\n",
       "      <td>29651</td>\n",
       "      <td>U001</td>\n",
       "      <td>0100031704</td>\n",
       "      <td>DELHAIZE co</td>\n",
       "      <td>2019-11-19</td>\n",
       "      <td>2019.0</td>\n",
       "      <td>2019-10-31</td>\n",
       "      <td>2019-10-31</td>\n",
       "      <td>2019-11-15</td>\n",
       "      <td>USD</td>\n",
       "      <td>12916.80</td>\n",
       "      <td>2019-10-31</td>\n",
       "      <td>NAA8</td>\n",
       "      <td>0</td>\n",
       "      <td>4.0</td>\n",
       "      <td>0.263322</td>\n",
       "    </tr>\n",
       "    <tr>\n",
       "      <td>29652</td>\n",
       "      <td>U001</td>\n",
       "      <td>0200794332</td>\n",
       "      <td>COST</td>\n",
       "      <td>2019-11-13</td>\n",
       "      <td>2019.0</td>\n",
       "      <td>2019-10-31</td>\n",
       "      <td>2019-10-31</td>\n",
       "      <td>2019-11-15</td>\n",
       "      <td>USD</td>\n",
       "      <td>19757.46</td>\n",
       "      <td>2019-10-31</td>\n",
       "      <td>NAAX</td>\n",
       "      <td>0</td>\n",
       "      <td>-2.0</td>\n",
       "      <td>-0.270043</td>\n",
       "    </tr>\n",
       "    <tr>\n",
       "      <td>29653</td>\n",
       "      <td>U001</td>\n",
       "      <td>0200806580</td>\n",
       "      <td>BE in</td>\n",
       "      <td>2019-11-12</td>\n",
       "      <td>2019.0</td>\n",
       "      <td>2019-10-31</td>\n",
       "      <td>2019-10-31</td>\n",
       "      <td>2019-11-15</td>\n",
       "      <td>USD</td>\n",
       "      <td>12842.54</td>\n",
       "      <td>2019-10-31</td>\n",
       "      <td>NAA8</td>\n",
       "      <td>0</td>\n",
       "      <td>-3.0</td>\n",
       "      <td>-0.358937</td>\n",
       "    </tr>\n",
       "  </tbody>\n",
       "</table>\n",
       "<p>29654 rows × 15 columns</p>\n",
       "</div>"
      ],
      "text/plain": [
       "      business_code cust_number     name_customer clear_date  buisness_year  \\\n",
       "0              U001  0200769623        WAL-MAR us 2019-01-09         2019.0   \n",
       "1              U001  0200769623        WAL-MAR co 2019-01-09         2019.0   \n",
       "2              U001  0200769623      WAL-MAR corp 2019-01-09         2019.0   \n",
       "3              U013  0140103335  PARAM associates 2019-01-23         2019.0   \n",
       "4              U001  0200769623        WAL-MAR us 2019-01-10         2019.0   \n",
       "...             ...         ...               ...        ...            ...   \n",
       "29649          U001  0200726979            BJ'S   2019-11-15         2019.0   \n",
       "29650          U001  0200974851       RESTA trust 2019-11-27         2019.0   \n",
       "29651          U001  0100031704       DELHAIZE co 2019-11-19         2019.0   \n",
       "29652          U001  0200794332             COST  2019-11-13         2019.0   \n",
       "29653          U001  0200806580             BE in 2019-11-12         2019.0   \n",
       "\n",
       "      posting_date document_create_date.1 due_in_date invoice_currency  \\\n",
       "0       2018-12-30             2018-12-30  2019-01-14              USD   \n",
       "1       2018-12-30             2018-12-30  2019-01-14              USD   \n",
       "2       2018-12-30             2018-12-30  2019-01-14              USD   \n",
       "3       2018-12-30             2018-12-30  2019-01-29              USD   \n",
       "4       2018-12-30             2018-12-30  2019-01-14              USD   \n",
       "...            ...                    ...         ...              ...   \n",
       "29649   2019-10-31             2019-10-31  2019-11-15              USD   \n",
       "29650   2019-10-31             2019-10-31  2019-11-15              USD   \n",
       "29651   2019-10-31             2019-10-31  2019-11-15              USD   \n",
       "29652   2019-10-31             2019-10-31  2019-11-15              USD   \n",
       "29653   2019-10-31             2019-10-31  2019-11-15              USD   \n",
       "\n",
       "       total_open_amount baseline_create_date cust_payment_terms  isOpen  \\\n",
       "0                3794.88           2018-12-30               NAH4       0   \n",
       "1                1445.64           2018-12-30               NAH4       0   \n",
       "2                1764.66           2018-12-30               NAH4       0   \n",
       "3               13230.19           2018-12-30               NAVE       0   \n",
       "4               53577.79           2018-12-30               NAH4       0   \n",
       "...                  ...                  ...                ...     ...   \n",
       "29649              64.03           2019-10-31               NAA8       0   \n",
       "29650               8.06           2019-10-31               NAA8       0   \n",
       "29651           12916.80           2019-10-31               NAA8       0   \n",
       "29652           19757.46           2019-10-31               NAAX       0   \n",
       "29653           12842.54           2019-10-31               NAA8       0   \n",
       "\n",
       "       delay    zscore  \n",
       "0       -5.0 -0.536725  \n",
       "1       -5.0 -0.536725  \n",
       "2       -5.0 -0.536725  \n",
       "3       -6.0 -0.625619  \n",
       "4       -4.0 -0.447831  \n",
       "...      ...       ...  \n",
       "29649    0.0 -0.092254  \n",
       "29650   12.0  0.974474  \n",
       "29651    4.0  0.263322  \n",
       "29652   -2.0 -0.270043  \n",
       "29653   -3.0 -0.358937  \n",
       "\n",
       "[29654 rows x 15 columns]"
      ]
     },
     "execution_count": 75,
     "metadata": {},
     "output_type": "execute_result"
    }
   ],
   "source": [
    "train_data['zscore']=(train_data.delay-train_data.delay.mean())/train_data.delay.std()\n",
    "train_data"
   ]
  },
  {
   "cell_type": "code",
   "execution_count": 76,
   "metadata": {},
   "outputs": [],
   "source": [
    "train_data['due_month']= train_data['due_in_date'].dt.month"
   ]
  },
  {
   "cell_type": "code",
   "execution_count": 77,
   "metadata": {},
   "outputs": [
    {
     "data": {
      "text/html": [
       "<div>\n",
       "<style scoped>\n",
       "    .dataframe tbody tr th:only-of-type {\n",
       "        vertical-align: middle;\n",
       "    }\n",
       "\n",
       "    .dataframe tbody tr th {\n",
       "        vertical-align: top;\n",
       "    }\n",
       "\n",
       "    .dataframe thead th {\n",
       "        text-align: right;\n",
       "    }\n",
       "</style>\n",
       "<table border=\"1\" class=\"dataframe\">\n",
       "  <thead>\n",
       "    <tr style=\"text-align: right;\">\n",
       "      <th></th>\n",
       "      <th>due_in_date</th>\n",
       "      <th>due_month</th>\n",
       "    </tr>\n",
       "  </thead>\n",
       "  <tbody>\n",
       "    <tr>\n",
       "      <td>0</td>\n",
       "      <td>2019-01-14</td>\n",
       "      <td>1</td>\n",
       "    </tr>\n",
       "    <tr>\n",
       "      <td>1</td>\n",
       "      <td>2019-01-14</td>\n",
       "      <td>1</td>\n",
       "    </tr>\n",
       "    <tr>\n",
       "      <td>2</td>\n",
       "      <td>2019-01-14</td>\n",
       "      <td>1</td>\n",
       "    </tr>\n",
       "    <tr>\n",
       "      <td>3</td>\n",
       "      <td>2019-01-29</td>\n",
       "      <td>1</td>\n",
       "    </tr>\n",
       "    <tr>\n",
       "      <td>4</td>\n",
       "      <td>2019-01-14</td>\n",
       "      <td>1</td>\n",
       "    </tr>\n",
       "  </tbody>\n",
       "</table>\n",
       "</div>"
      ],
      "text/plain": [
       "  due_in_date  due_month\n",
       "0  2019-01-14          1\n",
       "1  2019-01-14          1\n",
       "2  2019-01-14          1\n",
       "3  2019-01-29          1\n",
       "4  2019-01-14          1"
      ]
     },
     "execution_count": 77,
     "metadata": {},
     "output_type": "execute_result"
    }
   ],
   "source": [
    "train_data[['due_in_date','due_month']].head()"
   ]
  },
  {
   "cell_type": "markdown",
   "metadata": {},
   "source": [
    "divided due date into month ,day and year for easy access of dataset and plotting"
   ]
  },
  {
   "cell_type": "code",
   "execution_count": 78,
   "metadata": {},
   "outputs": [
    {
     "data": {
      "text/plain": [
       "business_code                     object\n",
       "cust_number                       object\n",
       "name_customer                     object\n",
       "clear_date                datetime64[ns]\n",
       "buisness_year                    float64\n",
       "posting_date              datetime64[ns]\n",
       "document_create_date.1    datetime64[ns]\n",
       "due_in_date               datetime64[ns]\n",
       "invoice_currency                  object\n",
       "total_open_amount                float64\n",
       "baseline_create_date      datetime64[ns]\n",
       "cust_payment_terms                object\n",
       "isOpen                             int64\n",
       "delay                            float64\n",
       "zscore                           float64\n",
       "due_month                          int64\n",
       "dtype: object"
      ]
     },
     "execution_count": 78,
     "metadata": {},
     "output_type": "execute_result"
    }
   ],
   "source": [
    "train_data.dtypes"
   ]
  },
  {
   "cell_type": "markdown",
   "metadata": {},
   "source": [
    "## scatterplot"
   ]
  },
  {
   "cell_type": "code",
   "execution_count": 79,
   "metadata": {},
   "outputs": [
    {
     "data": {
      "text/plain": [
       "<matplotlib.axes._subplots.AxesSubplot at 0x1d9c8f704c8>"
      ]
     },
     "execution_count": 79,
     "metadata": {},
     "output_type": "execute_result"
    },
    {
     "data": {
      "image/png": "[encoded data removed]",
      "text/plain": [
       "<Figure size 432x288 with 1 Axes>"
      ]
     },
     "metadata": {
      "needs_background": "light"
     },
     "output_type": "display_data"
    }
   ],
   "source": [
    "sns.scatterplot(data=train_data,x=\"delay\", y=\"due_month\")"
   ]
  },
  {
   "cell_type": "code",
   "execution_count": 80,
   "metadata": {},
   "outputs": [
    {
     "data": {
      "text/plain": [
       "12"
      ]
     },
     "execution_count": 80,
     "metadata": {},
     "output_type": "execute_result"
    }
   ],
   "source": [
    "train_data['due_month'].nunique()"
   ]
  },
  {
   "cell_type": "markdown",
   "metadata": {},
   "source": [
    "#### Observing the scatterplot\n",
    "#### by end of the year most delay are less and\n",
    "#### by begining of year delays frequency are more"
   ]
  },
  {
   "cell_type": "markdown",
   "metadata": {},
   "source": [
    "## histogram"
   ]
  },
  {
   "cell_type": "code",
   "execution_count": 81,
   "metadata": {},
   "outputs": [
    {
     "data": {
      "image/png": "[encoded data removed]",
      "text/plain": [
       "<Figure size 432x288 with 1 Axes>"
      ]
     },
     "metadata": {
      "needs_background": "light"
     },
     "output_type": "display_data"
    }
   ],
   "source": [
    "\n",
    "\n",
    "plt.hist(train_data.delay,bins=20, histtype='bar',rwidth=0.5)\n",
    "plt.xlabel('delay')\n",
    "plt.ylabel('no_of_rows')\n",
    "plt.title('histogram')\n",
    "plt.show()"
   ]
  },
  {
   "cell_type": "markdown",
   "metadata": {},
   "source": [
    "### isOpen"
   ]
  },
  {
   "cell_type": "markdown",
   "metadata": {},
   "source": [
    "Tells whether a transaction is open or closed"
   ]
  },
  {
   "cell_type": "code",
   "execution_count": 82,
   "metadata": {},
   "outputs": [
    {
     "data": {
      "text/plain": [
       "0    29654\n",
       "Name: isOpen, dtype: int64"
      ]
     },
     "execution_count": 82,
     "metadata": {},
     "output_type": "execute_result"
    }
   ],
   "source": [
    "train_data.isOpen.value_counts()"
   ]
  },
  {
   "cell_type": "markdown",
   "metadata": {},
   "source": [
    "#### Delay analysis"
   ]
  },
  {
   "cell_type": "markdown",
   "metadata": {},
   "source": [
    "The negative delay specifies that the amount was cleared before the due date and thus there was no delay.Since the bucket list starts from 0 and onwards.Therefore we have capped the negative values to 0."
   ]
  },
  {
   "cell_type": "code",
   "execution_count": 83,
   "metadata": {},
   "outputs": [
    {
     "data": {
      "text/plain": [
       "10729"
      ]
     },
     "execution_count": 83,
     "metadata": {},
     "output_type": "execute_result"
    }
   ],
   "source": [
    "train_data.delay[train_data.delay<0].count()"
   ]
  },
  {
   "cell_type": "code",
   "execution_count": 84,
   "metadata": {},
   "outputs": [
    {
     "data": {
      "text/plain": [
       "0"
      ]
     },
     "execution_count": 84,
     "metadata": {},
     "output_type": "execute_result"
    }
   ],
   "source": [
    "train_data['delay']=train_data.delay.apply(lambda x: 0 if x<0 else x)\n",
    "train_data.delay[train_data.delay<0].count()"
   ]
  },
  {
   "cell_type": "code",
   "execution_count": 85,
   "metadata": {},
   "outputs": [
    {
     "data": {
      "text/plain": [
       "count    29654.000000\n",
       "mean         2.866494\n",
       "std          9.558695\n",
       "min          0.000000\n",
       "25%          0.000000\n",
       "50%          0.000000\n",
       "75%          2.000000\n",
       "max        231.000000\n",
       "Name: delay, dtype: float64"
      ]
     },
     "execution_count": 85,
     "metadata": {},
     "output_type": "execute_result"
    }
   ],
   "source": [
    "train_data.delay.describe()"
   ]
  },
  {
   "cell_type": "markdown",
   "metadata": {},
   "source": [
    "# MULTIVARIATE ANALYSIS"
   ]
  },
  {
   "cell_type": "markdown",
   "metadata": {},
   "source": [
    "### Relation b/w business_code with invoice_currency"
   ]
  },
  {
   "cell_type": "code",
   "execution_count": 86,
   "metadata": {},
   "outputs": [
    {
     "data": {
      "text/plain": [
       "USD    27419\n",
       "CAD     2235\n",
       "Name: invoice_currency, dtype: int64"
      ]
     },
     "execution_count": 86,
     "metadata": {},
     "output_type": "execute_result"
    }
   ],
   "source": [
    "train_data['invoice_currency'].value_counts()"
   ]
  },
  {
   "cell_type": "code",
   "execution_count": 87,
   "metadata": {},
   "outputs": [
    {
     "data": {
      "text/plain": [
       "business_code  invoice_currency\n",
       "CA02           CAD                  2235\n",
       "U001           USD                 26916\n",
       "U002           USD                   111\n",
       "U005           USD                    11\n",
       "U007           USD                     1\n",
       "U013           USD                   380\n",
       "Name: invoice_currency, dtype: int64"
      ]
     },
     "execution_count": 87,
     "metadata": {},
     "output_type": "execute_result"
    }
   ],
   "source": [
    "train_data.groupby(\"business_code\").invoice_currency.value_counts()"
   ]
  },
  {
   "cell_type": "markdown",
   "metadata": {},
   "source": [
    "We see that business code first letter describes in which currency the transaction took place except for 2 entries. Let's explore "
   ]
  },
  {
   "cell_type": "code",
   "execution_count": 88,
   "metadata": {},
   "outputs": [
    {
     "data": {
      "text/plain": [
       "invoice_currency  business_code\n",
       "CAD               CA02              2235\n",
       "USD               U001             26916\n",
       "                  U013               380\n",
       "                  U002               111\n",
       "                  U005                11\n",
       "                  U007                 1\n",
       "Name: business_code, dtype: int64"
      ]
     },
     "execution_count": 88,
     "metadata": {},
     "output_type": "execute_result"
    }
   ],
   "source": [
    "train_data.groupby(\"invoice_currency\").business_code.value_counts()"
   ]
  },
  {
   "cell_type": "markdown",
   "metadata": {},
   "source": [
    "thus CA companies are paying in CAD and US company are paying in USD"
   ]
  },
  {
   "cell_type": "markdown",
   "metadata": {},
   "source": [
    "###### Lets find the Relation between total_open_amount and delay"
   ]
  },
  {
   "cell_type": "code",
   "execution_count": 89,
   "metadata": {},
   "outputs": [
    {
     "data": {
      "text/html": [
       "<div>\n",
       "<style scoped>\n",
       "    .dataframe tbody tr th:only-of-type {\n",
       "        vertical-align: middle;\n",
       "    }\n",
       "\n",
       "    .dataframe tbody tr th {\n",
       "        vertical-align: top;\n",
       "    }\n",
       "\n",
       "    .dataframe thead th {\n",
       "        text-align: right;\n",
       "    }\n",
       "</style>\n",
       "<table border=\"1\" class=\"dataframe\">\n",
       "  <thead>\n",
       "    <tr style=\"text-align: right;\">\n",
       "      <th>delay</th>\n",
       "      <th>(0, 15]</th>\n",
       "      <th>(15, 30]</th>\n",
       "      <th>(30, 45]</th>\n",
       "      <th>(45, 60]</th>\n",
       "      <th>(60, 300]</th>\n",
       "    </tr>\n",
       "    <tr>\n",
       "      <th>total_open_amount</th>\n",
       "      <th></th>\n",
       "      <th></th>\n",
       "      <th></th>\n",
       "      <th></th>\n",
       "      <th></th>\n",
       "    </tr>\n",
       "  </thead>\n",
       "  <tbody>\n",
       "    <tr>\n",
       "      <td>(0, 5000]</td>\n",
       "      <td>2574</td>\n",
       "      <td>88</td>\n",
       "      <td>90</td>\n",
       "      <td>63</td>\n",
       "      <td>76</td>\n",
       "    </tr>\n",
       "    <tr>\n",
       "      <td>(5000, 10000]</td>\n",
       "      <td>1160</td>\n",
       "      <td>59</td>\n",
       "      <td>46</td>\n",
       "      <td>31</td>\n",
       "      <td>22</td>\n",
       "    </tr>\n",
       "    <tr>\n",
       "      <td>(10000, 50000]</td>\n",
       "      <td>4852</td>\n",
       "      <td>230</td>\n",
       "      <td>164</td>\n",
       "      <td>102</td>\n",
       "      <td>60</td>\n",
       "    </tr>\n",
       "    <tr>\n",
       "      <td>(50000, 100000]</td>\n",
       "      <td>1937</td>\n",
       "      <td>60</td>\n",
       "      <td>18</td>\n",
       "      <td>9</td>\n",
       "      <td>10</td>\n",
       "    </tr>\n",
       "    <tr>\n",
       "      <td>(100000, 1100000]</td>\n",
       "      <td>910</td>\n",
       "      <td>13</td>\n",
       "      <td>7</td>\n",
       "      <td>8</td>\n",
       "      <td>2</td>\n",
       "    </tr>\n",
       "  </tbody>\n",
       "</table>\n",
       "</div>"
      ],
      "text/plain": [
       "delay              (0, 15]  (15, 30]  (30, 45]  (45, 60]  (60, 300]\n",
       "total_open_amount                                                  \n",
       "(0, 5000]             2574        88        90        63         76\n",
       "(5000, 10000]         1160        59        46        31         22\n",
       "(10000, 50000]        4852       230       164       102         60\n",
       "(50000, 100000]       1937        60        18         9         10\n",
       "(100000, 1100000]      910        13         7         8          2"
      ]
     },
     "execution_count": 89,
     "metadata": {},
     "output_type": "execute_result"
    }
   ],
   "source": [
    "delay_bins = [0,15,30,45,60,300]\n",
    "delay_bucket = pd.cut(train_data['delay'], bins = delay_bins)\n",
    "pd.crosstab(index = new_open_amount_bin, columns =delay_bucket)"
   ]
  },
  {
   "cell_type": "code",
   "execution_count": 90,
   "metadata": {},
   "outputs": [
    {
     "data": {
      "text/plain": [
       "<matplotlib.axes._subplots.AxesSubplot at 0x1d9c8f24708>"
      ]
     },
     "execution_count": 90,
     "metadata": {},
     "output_type": "execute_result"
    },
    {
     "data": {
      "image/png": "[encoded data removed]",
      "text/plain": [
       "<Figure size 576x360 with 1 Axes>"
      ]
     },
     "metadata": {
      "needs_background": "light"
     },
     "output_type": "display_data"
    }
   ],
   "source": [
    "plt.figure(figsize=(8,5))\n",
    "plt.xlabel(\"Amount bin\")\n",
    "sns.countplot(x = new_open_amount_bin, hue=delay_bucket)"
   ]
  },
  {
   "cell_type": "markdown",
   "metadata": {},
   "source": [
    "As we can see from every buckets mostly payment were done within 15 days"
   ]
  },
  {
   "cell_type": "code",
   "execution_count": 91,
   "metadata": {},
   "outputs": [
    {
     "data": {
      "text/html": [
       "<div>\n",
       "<style scoped>\n",
       "    .dataframe tbody tr th:only-of-type {\n",
       "        vertical-align: middle;\n",
       "    }\n",
       "\n",
       "    .dataframe tbody tr th {\n",
       "        vertical-align: top;\n",
       "    }\n",
       "\n",
       "    .dataframe thead th {\n",
       "        text-align: right;\n",
       "    }\n",
       "</style>\n",
       "<table border=\"1\" class=\"dataframe\">\n",
       "  <thead>\n",
       "    <tr style=\"text-align: right;\">\n",
       "      <th></th>\n",
       "      <th>buisness_year</th>\n",
       "      <th>total_open_amount</th>\n",
       "      <th>isOpen</th>\n",
       "      <th>delay</th>\n",
       "      <th>zscore</th>\n",
       "      <th>due_month</th>\n",
       "    </tr>\n",
       "  </thead>\n",
       "  <tbody>\n",
       "    <tr>\n",
       "      <td>buisness_year</td>\n",
       "      <td>NaN</td>\n",
       "      <td>NaN</td>\n",
       "      <td>NaN</td>\n",
       "      <td>NaN</td>\n",
       "      <td>NaN</td>\n",
       "      <td>NaN</td>\n",
       "    </tr>\n",
       "    <tr>\n",
       "      <td>total_open_amount</td>\n",
       "      <td>NaN</td>\n",
       "      <td>1.000000</td>\n",
       "      <td>NaN</td>\n",
       "      <td>-0.046975</td>\n",
       "      <td>0.004414</td>\n",
       "      <td>0.007856</td>\n",
       "    </tr>\n",
       "    <tr>\n",
       "      <td>isOpen</td>\n",
       "      <td>NaN</td>\n",
       "      <td>NaN</td>\n",
       "      <td>NaN</td>\n",
       "      <td>NaN</td>\n",
       "      <td>NaN</td>\n",
       "      <td>NaN</td>\n",
       "    </tr>\n",
       "    <tr>\n",
       "      <td>delay</td>\n",
       "      <td>NaN</td>\n",
       "      <td>-0.046975</td>\n",
       "      <td>NaN</td>\n",
       "      <td>1.000000</td>\n",
       "      <td>0.898462</td>\n",
       "      <td>-0.026859</td>\n",
       "    </tr>\n",
       "    <tr>\n",
       "      <td>zscore</td>\n",
       "      <td>NaN</td>\n",
       "      <td>0.004414</td>\n",
       "      <td>NaN</td>\n",
       "      <td>0.898462</td>\n",
       "      <td>1.000000</td>\n",
       "      <td>-0.038266</td>\n",
       "    </tr>\n",
       "    <tr>\n",
       "      <td>due_month</td>\n",
       "      <td>NaN</td>\n",
       "      <td>0.007856</td>\n",
       "      <td>NaN</td>\n",
       "      <td>-0.026859</td>\n",
       "      <td>-0.038266</td>\n",
       "      <td>1.000000</td>\n",
       "    </tr>\n",
       "  </tbody>\n",
       "</table>\n",
       "</div>"
      ],
      "text/plain": [
       "                   buisness_year  total_open_amount  isOpen     delay  \\\n",
       "buisness_year                NaN                NaN     NaN       NaN   \n",
       "total_open_amount            NaN           1.000000     NaN -0.046975   \n",
       "isOpen                       NaN                NaN     NaN       NaN   \n",
       "delay                        NaN          -0.046975     NaN  1.000000   \n",
       "zscore                       NaN           0.004414     NaN  0.898462   \n",
       "due_month                    NaN           0.007856     NaN -0.026859   \n",
       "\n",
       "                     zscore  due_month  \n",
       "buisness_year           NaN        NaN  \n",
       "total_open_amount  0.004414   0.007856  \n",
       "isOpen                  NaN        NaN  \n",
       "delay              0.898462  -0.026859  \n",
       "zscore             1.000000  -0.038266  \n",
       "due_month         -0.038266   1.000000  "
      ]
     },
     "execution_count": 91,
     "metadata": {},
     "output_type": "execute_result"
    }
   ],
   "source": [
    "train_data.corr()"
   ]
  },
  {
   "cell_type": "markdown",
   "metadata": {},
   "source": [
    "since there is no use of zscore after plotting lets drop it"
   ]
  },
  {
   "cell_type": "code",
   "execution_count": 92,
   "metadata": {},
   "outputs": [],
   "source": [
    "train_data.drop(['zscore'],axis=1 , inplace=True)"
   ]
  },
  {
   "cell_type": "markdown",
   "metadata": {},
   "source": [
    "# Feature Engineering"
   ]
  },
  {
   "cell_type": "code",
   "execution_count": 93,
   "metadata": {},
   "outputs": [
    {
     "data": {
      "text/plain": [
       "business_code                     object\n",
       "cust_number                       object\n",
       "name_customer                     object\n",
       "clear_date                datetime64[ns]\n",
       "buisness_year                    float64\n",
       "posting_date              datetime64[ns]\n",
       "document_create_date.1    datetime64[ns]\n",
       "due_in_date               datetime64[ns]\n",
       "invoice_currency                  object\n",
       "total_open_amount                float64\n",
       "baseline_create_date      datetime64[ns]\n",
       "cust_payment_terms                object\n",
       "isOpen                             int64\n",
       "delay                            float64\n",
       "due_month                          int64\n",
       "dtype: object"
      ]
     },
     "execution_count": 93,
     "metadata": {},
     "output_type": "execute_result"
    }
   ],
   "source": [
    "train_data.dtypes"
   ]
  },
  {
   "cell_type": "code",
   "execution_count": 94,
   "metadata": {
    "scrolled": true
   },
   "outputs": [
    {
     "data": {
      "text/html": [
       "<div>\n",
       "<style scoped>\n",
       "    .dataframe tbody tr th:only-of-type {\n",
       "        vertical-align: middle;\n",
       "    }\n",
       "\n",
       "    .dataframe tbody tr th {\n",
       "        vertical-align: top;\n",
       "    }\n",
       "\n",
       "    .dataframe thead th {\n",
       "        text-align: right;\n",
       "    }\n",
       "</style>\n",
       "<table border=\"1\" class=\"dataframe\">\n",
       "  <thead>\n",
       "    <tr style=\"text-align: right;\">\n",
       "      <th></th>\n",
       "      <th>cust_number</th>\n",
       "      <th>clear_date</th>\n",
       "      <th>posting_date</th>\n",
       "      <th>due_in_date</th>\n",
       "      <th>total_open_amount</th>\n",
       "      <th>delay</th>\n",
       "      <th>due_month</th>\n",
       "    </tr>\n",
       "  </thead>\n",
       "  <tbody>\n",
       "    <tr>\n",
       "      <td>0</td>\n",
       "      <td>0200769623</td>\n",
       "      <td>2019-01-09</td>\n",
       "      <td>2018-12-30</td>\n",
       "      <td>2019-01-14</td>\n",
       "      <td>3794.88</td>\n",
       "      <td>0.0</td>\n",
       "      <td>1</td>\n",
       "    </tr>\n",
       "    <tr>\n",
       "      <td>1</td>\n",
       "      <td>0200769623</td>\n",
       "      <td>2019-01-09</td>\n",
       "      <td>2018-12-30</td>\n",
       "      <td>2019-01-14</td>\n",
       "      <td>1445.64</td>\n",
       "      <td>0.0</td>\n",
       "      <td>1</td>\n",
       "    </tr>\n",
       "    <tr>\n",
       "      <td>2</td>\n",
       "      <td>0200769623</td>\n",
       "      <td>2019-01-09</td>\n",
       "      <td>2018-12-30</td>\n",
       "      <td>2019-01-14</td>\n",
       "      <td>1764.66</td>\n",
       "      <td>0.0</td>\n",
       "      <td>1</td>\n",
       "    </tr>\n",
       "    <tr>\n",
       "      <td>3</td>\n",
       "      <td>0140103335</td>\n",
       "      <td>2019-01-23</td>\n",
       "      <td>2018-12-30</td>\n",
       "      <td>2019-01-29</td>\n",
       "      <td>13230.19</td>\n",
       "      <td>0.0</td>\n",
       "      <td>1</td>\n",
       "    </tr>\n",
       "    <tr>\n",
       "      <td>4</td>\n",
       "      <td>0200769623</td>\n",
       "      <td>2019-01-10</td>\n",
       "      <td>2018-12-30</td>\n",
       "      <td>2019-01-14</td>\n",
       "      <td>53577.79</td>\n",
       "      <td>0.0</td>\n",
       "      <td>1</td>\n",
       "    </tr>\n",
       "    <tr>\n",
       "      <td>...</td>\n",
       "      <td>...</td>\n",
       "      <td>...</td>\n",
       "      <td>...</td>\n",
       "      <td>...</td>\n",
       "      <td>...</td>\n",
       "      <td>...</td>\n",
       "      <td>...</td>\n",
       "    </tr>\n",
       "    <tr>\n",
       "      <td>29649</td>\n",
       "      <td>0200726979</td>\n",
       "      <td>2019-11-15</td>\n",
       "      <td>2019-10-31</td>\n",
       "      <td>2019-11-15</td>\n",
       "      <td>64.03</td>\n",
       "      <td>0.0</td>\n",
       "      <td>11</td>\n",
       "    </tr>\n",
       "    <tr>\n",
       "      <td>29650</td>\n",
       "      <td>0200974851</td>\n",
       "      <td>2019-11-27</td>\n",
       "      <td>2019-10-31</td>\n",
       "      <td>2019-11-15</td>\n",
       "      <td>8.06</td>\n",
       "      <td>12.0</td>\n",
       "      <td>11</td>\n",
       "    </tr>\n",
       "    <tr>\n",
       "      <td>29651</td>\n",
       "      <td>0100031704</td>\n",
       "      <td>2019-11-19</td>\n",
       "      <td>2019-10-31</td>\n",
       "      <td>2019-11-15</td>\n",
       "      <td>12916.80</td>\n",
       "      <td>4.0</td>\n",
       "      <td>11</td>\n",
       "    </tr>\n",
       "    <tr>\n",
       "      <td>29652</td>\n",
       "      <td>0200794332</td>\n",
       "      <td>2019-11-13</td>\n",
       "      <td>2019-10-31</td>\n",
       "      <td>2019-11-15</td>\n",
       "      <td>19757.46</td>\n",
       "      <td>0.0</td>\n",
       "      <td>11</td>\n",
       "    </tr>\n",
       "    <tr>\n",
       "      <td>29653</td>\n",
       "      <td>0200806580</td>\n",
       "      <td>2019-11-12</td>\n",
       "      <td>2019-10-31</td>\n",
       "      <td>2019-11-15</td>\n",
       "      <td>12842.54</td>\n",
       "      <td>0.0</td>\n",
       "      <td>11</td>\n",
       "    </tr>\n",
       "  </tbody>\n",
       "</table>\n",
       "<p>29654 rows × 7 columns</p>\n",
       "</div>"
      ],
      "text/plain": [
       "      cust_number clear_date posting_date due_in_date  total_open_amount  \\\n",
       "0      0200769623 2019-01-09   2018-12-30  2019-01-14            3794.88   \n",
       "1      0200769623 2019-01-09   2018-12-30  2019-01-14            1445.64   \n",
       "2      0200769623 2019-01-09   2018-12-30  2019-01-14            1764.66   \n",
       "3      0140103335 2019-01-23   2018-12-30  2019-01-29           13230.19   \n",
       "4      0200769623 2019-01-10   2018-12-30  2019-01-14           53577.79   \n",
       "...           ...        ...          ...         ...                ...   \n",
       "29649  0200726979 2019-11-15   2019-10-31  2019-11-15              64.03   \n",
       "29650  0200974851 2019-11-27   2019-10-31  2019-11-15               8.06   \n",
       "29651  0100031704 2019-11-19   2019-10-31  2019-11-15           12916.80   \n",
       "29652  0200794332 2019-11-13   2019-10-31  2019-11-15           19757.46   \n",
       "29653  0200806580 2019-11-12   2019-10-31  2019-11-15           12842.54   \n",
       "\n",
       "       delay  due_month  \n",
       "0        0.0          1  \n",
       "1        0.0          1  \n",
       "2        0.0          1  \n",
       "3        0.0          1  \n",
       "4        0.0          1  \n",
       "...      ...        ...  \n",
       "29649    0.0         11  \n",
       "29650   12.0         11  \n",
       "29651    4.0         11  \n",
       "29652    0.0         11  \n",
       "29653    0.0         11  \n",
       "\n",
       "[29654 rows x 7 columns]"
      ]
     },
     "execution_count": 94,
     "metadata": {},
     "output_type": "execute_result"
    }
   ],
   "source": [
    "#added this column at last \n",
    "#dropping the colums which are not benifical for modelling\n",
    "\n",
    "train_data.drop(columns=['business_code', 'document_create_date.1','name_customer','buisness_year','invoice_currency','baseline_create_date', 'cust_payment_terms', 'isOpen'], inplace=True)\n",
    "train_data"
   ]
  },
  {
   "cell_type": "markdown",
   "metadata": {},
   "source": [
    "Extracting day and month from posting_date and due_in_date."
   ]
  },
  {
   "cell_type": "code",
   "execution_count": 95,
   "metadata": {},
   "outputs": [],
   "source": [
    "train_data[\"posting_day\"] = train_data[\"posting_date\"].dt.day\n",
    "train_data[\"posting_month\"] = train_data[\"posting_date\"].dt.month\n",
    "\n",
    "train_data[\"due_day\"] = train_data[\"due_in_date\"].dt.day\n"
   ]
  },
  {
   "cell_type": "code",
   "execution_count": 96,
   "metadata": {},
   "outputs": [
    {
     "data": {
      "text/html": [
       "<div>\n",
       "<style scoped>\n",
       "    .dataframe tbody tr th:only-of-type {\n",
       "        vertical-align: middle;\n",
       "    }\n",
       "\n",
       "    .dataframe tbody tr th {\n",
       "        vertical-align: top;\n",
       "    }\n",
       "\n",
       "    .dataframe thead th {\n",
       "        text-align: right;\n",
       "    }\n",
       "</style>\n",
       "<table border=\"1\" class=\"dataframe\">\n",
       "  <thead>\n",
       "    <tr style=\"text-align: right;\">\n",
       "      <th></th>\n",
       "      <th>cust_number</th>\n",
       "      <th>clear_date</th>\n",
       "      <th>posting_date</th>\n",
       "      <th>due_in_date</th>\n",
       "      <th>total_open_amount</th>\n",
       "      <th>delay</th>\n",
       "      <th>due_month</th>\n",
       "      <th>posting_day</th>\n",
       "      <th>posting_month</th>\n",
       "      <th>due_day</th>\n",
       "    </tr>\n",
       "  </thead>\n",
       "  <tbody>\n",
       "    <tr>\n",
       "      <td>0</td>\n",
       "      <td>0200769623</td>\n",
       "      <td>2019-01-09</td>\n",
       "      <td>2018-12-30</td>\n",
       "      <td>2019-01-14</td>\n",
       "      <td>3794.88</td>\n",
       "      <td>0.0</td>\n",
       "      <td>1</td>\n",
       "      <td>30</td>\n",
       "      <td>12</td>\n",
       "      <td>14</td>\n",
       "    </tr>\n",
       "    <tr>\n",
       "      <td>1</td>\n",
       "      <td>0200769623</td>\n",
       "      <td>2019-01-09</td>\n",
       "      <td>2018-12-30</td>\n",
       "      <td>2019-01-14</td>\n",
       "      <td>1445.64</td>\n",
       "      <td>0.0</td>\n",
       "      <td>1</td>\n",
       "      <td>30</td>\n",
       "      <td>12</td>\n",
       "      <td>14</td>\n",
       "    </tr>\n",
       "    <tr>\n",
       "      <td>2</td>\n",
       "      <td>0200769623</td>\n",
       "      <td>2019-01-09</td>\n",
       "      <td>2018-12-30</td>\n",
       "      <td>2019-01-14</td>\n",
       "      <td>1764.66</td>\n",
       "      <td>0.0</td>\n",
       "      <td>1</td>\n",
       "      <td>30</td>\n",
       "      <td>12</td>\n",
       "      <td>14</td>\n",
       "    </tr>\n",
       "    <tr>\n",
       "      <td>3</td>\n",
       "      <td>0140103335</td>\n",
       "      <td>2019-01-23</td>\n",
       "      <td>2018-12-30</td>\n",
       "      <td>2019-01-29</td>\n",
       "      <td>13230.19</td>\n",
       "      <td>0.0</td>\n",
       "      <td>1</td>\n",
       "      <td>30</td>\n",
       "      <td>12</td>\n",
       "      <td>29</td>\n",
       "    </tr>\n",
       "    <tr>\n",
       "      <td>4</td>\n",
       "      <td>0200769623</td>\n",
       "      <td>2019-01-10</td>\n",
       "      <td>2018-12-30</td>\n",
       "      <td>2019-01-14</td>\n",
       "      <td>53577.79</td>\n",
       "      <td>0.0</td>\n",
       "      <td>1</td>\n",
       "      <td>30</td>\n",
       "      <td>12</td>\n",
       "      <td>14</td>\n",
       "    </tr>\n",
       "    <tr>\n",
       "      <td>...</td>\n",
       "      <td>...</td>\n",
       "      <td>...</td>\n",
       "      <td>...</td>\n",
       "      <td>...</td>\n",
       "      <td>...</td>\n",
       "      <td>...</td>\n",
       "      <td>...</td>\n",
       "      <td>...</td>\n",
       "      <td>...</td>\n",
       "      <td>...</td>\n",
       "    </tr>\n",
       "    <tr>\n",
       "      <td>29649</td>\n",
       "      <td>0200726979</td>\n",
       "      <td>2019-11-15</td>\n",
       "      <td>2019-10-31</td>\n",
       "      <td>2019-11-15</td>\n",
       "      <td>64.03</td>\n",
       "      <td>0.0</td>\n",
       "      <td>11</td>\n",
       "      <td>31</td>\n",
       "      <td>10</td>\n",
       "      <td>15</td>\n",
       "    </tr>\n",
       "    <tr>\n",
       "      <td>29650</td>\n",
       "      <td>0200974851</td>\n",
       "      <td>2019-11-27</td>\n",
       "      <td>2019-10-31</td>\n",
       "      <td>2019-11-15</td>\n",
       "      <td>8.06</td>\n",
       "      <td>12.0</td>\n",
       "      <td>11</td>\n",
       "      <td>31</td>\n",
       "      <td>10</td>\n",
       "      <td>15</td>\n",
       "    </tr>\n",
       "    <tr>\n",
       "      <td>29651</td>\n",
       "      <td>0100031704</td>\n",
       "      <td>2019-11-19</td>\n",
       "      <td>2019-10-31</td>\n",
       "      <td>2019-11-15</td>\n",
       "      <td>12916.80</td>\n",
       "      <td>4.0</td>\n",
       "      <td>11</td>\n",
       "      <td>31</td>\n",
       "      <td>10</td>\n",
       "      <td>15</td>\n",
       "    </tr>\n",
       "    <tr>\n",
       "      <td>29652</td>\n",
       "      <td>0200794332</td>\n",
       "      <td>2019-11-13</td>\n",
       "      <td>2019-10-31</td>\n",
       "      <td>2019-11-15</td>\n",
       "      <td>19757.46</td>\n",
       "      <td>0.0</td>\n",
       "      <td>11</td>\n",
       "      <td>31</td>\n",
       "      <td>10</td>\n",
       "      <td>15</td>\n",
       "    </tr>\n",
       "    <tr>\n",
       "      <td>29653</td>\n",
       "      <td>0200806580</td>\n",
       "      <td>2019-11-12</td>\n",
       "      <td>2019-10-31</td>\n",
       "      <td>2019-11-15</td>\n",
       "      <td>12842.54</td>\n",
       "      <td>0.0</td>\n",
       "      <td>11</td>\n",
       "      <td>31</td>\n",
       "      <td>10</td>\n",
       "      <td>15</td>\n",
       "    </tr>\n",
       "  </tbody>\n",
       "</table>\n",
       "<p>29654 rows × 10 columns</p>\n",
       "</div>"
      ],
      "text/plain": [
       "      cust_number clear_date posting_date due_in_date  total_open_amount  \\\n",
       "0      0200769623 2019-01-09   2018-12-30  2019-01-14            3794.88   \n",
       "1      0200769623 2019-01-09   2018-12-30  2019-01-14            1445.64   \n",
       "2      0200769623 2019-01-09   2018-12-30  2019-01-14            1764.66   \n",
       "3      0140103335 2019-01-23   2018-12-30  2019-01-29           13230.19   \n",
       "4      0200769623 2019-01-10   2018-12-30  2019-01-14           53577.79   \n",
       "...           ...        ...          ...         ...                ...   \n",
       "29649  0200726979 2019-11-15   2019-10-31  2019-11-15              64.03   \n",
       "29650  0200974851 2019-11-27   2019-10-31  2019-11-15               8.06   \n",
       "29651  0100031704 2019-11-19   2019-10-31  2019-11-15           12916.80   \n",
       "29652  0200794332 2019-11-13   2019-10-31  2019-11-15           19757.46   \n",
       "29653  0200806580 2019-11-12   2019-10-31  2019-11-15           12842.54   \n",
       "\n",
       "       delay  due_month  posting_day  posting_month  due_day  \n",
       "0        0.0          1           30             12       14  \n",
       "1        0.0          1           30             12       14  \n",
       "2        0.0          1           30             12       14  \n",
       "3        0.0          1           30             12       29  \n",
       "4        0.0          1           30             12       14  \n",
       "...      ...        ...          ...            ...      ...  \n",
       "29649    0.0         11           31             10       15  \n",
       "29650   12.0         11           31             10       15  \n",
       "29651    4.0         11           31             10       15  \n",
       "29652    0.0         11           31             10       15  \n",
       "29653    0.0         11           31             10       15  \n",
       "\n",
       "[29654 rows x 10 columns]"
      ]
     },
     "execution_count": 96,
     "metadata": {},
     "output_type": "execute_result"
    }
   ],
   "source": [
    "train_data"
   ]
  },
  {
   "cell_type": "code",
   "execution_count": 119,
   "metadata": {},
   "outputs": [
    {
     "data": {
      "text/html": [
       "<div>\n",
       "<style scoped>\n",
       "    .dataframe tbody tr th:only-of-type {\n",
       "        vertical-align: middle;\n",
       "    }\n",
       "\n",
       "    .dataframe tbody tr th {\n",
       "        vertical-align: top;\n",
       "    }\n",
       "\n",
       "    .dataframe thead th {\n",
       "        text-align: right;\n",
       "    }\n",
       "</style>\n",
       "<table border=\"1\" class=\"dataframe\">\n",
       "  <thead>\n",
       "    <tr style=\"text-align: right;\">\n",
       "      <th></th>\n",
       "      <th>business_code_enc</th>\n",
       "      <th>business_code</th>\n",
       "    </tr>\n",
       "  </thead>\n",
       "  <tbody>\n",
       "    <tr>\n",
       "      <td>33680</td>\n",
       "      <td>1</td>\n",
       "      <td>U001</td>\n",
       "    </tr>\n",
       "    <tr>\n",
       "      <td>37963</td>\n",
       "      <td>1</td>\n",
       "      <td>U001</td>\n",
       "    </tr>\n",
       "    <tr>\n",
       "      <td>10168</td>\n",
       "      <td>1</td>\n",
       "      <td>U001</td>\n",
       "    </tr>\n",
       "    <tr>\n",
       "      <td>41297</td>\n",
       "      <td>1</td>\n",
       "      <td>U001</td>\n",
       "    </tr>\n",
       "    <tr>\n",
       "      <td>43062</td>\n",
       "      <td>1</td>\n",
       "      <td>U001</td>\n",
       "    </tr>\n",
       "    <tr>\n",
       "      <td>...</td>\n",
       "      <td>...</td>\n",
       "      <td>...</td>\n",
       "    </tr>\n",
       "    <tr>\n",
       "      <td>21839</td>\n",
       "      <td>0</td>\n",
       "      <td>CA02</td>\n",
       "    </tr>\n",
       "    <tr>\n",
       "      <td>15879</td>\n",
       "      <td>1</td>\n",
       "      <td>U001</td>\n",
       "    </tr>\n",
       "    <tr>\n",
       "      <td>32072</td>\n",
       "      <td>1</td>\n",
       "      <td>U001</td>\n",
       "    </tr>\n",
       "    <tr>\n",
       "      <td>34612</td>\n",
       "      <td>1</td>\n",
       "      <td>U001</td>\n",
       "    </tr>\n",
       "    <tr>\n",
       "      <td>48948</td>\n",
       "      <td>1</td>\n",
       "      <td>U001</td>\n",
       "    </tr>\n",
       "  </tbody>\n",
       "</table>\n",
       "<p>29654 rows × 2 columns</p>\n",
       "</div>"
      ],
      "text/plain": [
       "       business_code_enc business_code\n",
       "33680                  1          U001\n",
       "37963                  1          U001\n",
       "10168                  1          U001\n",
       "41297                  1          U001\n",
       "43062                  1          U001\n",
       "...                  ...           ...\n",
       "21839                  0          CA02\n",
       "15879                  1          U001\n",
       "32072                  1          U001\n",
       "34612                  1          U001\n",
       "48948                  1          U001\n",
       "\n",
       "[29654 rows x 2 columns]"
      ]
     },
     "execution_count": 119,
     "metadata": {},
     "output_type": "execute_result"
    }
   ],
   "source": [
    "train_data[['business_code_enc','business_code']]"
   ]
  },
  {
   "cell_type": "code",
   "execution_count": 120,
   "metadata": {},
   "outputs": [],
   "source": [
    "val1['business_code_enc'] = business_code_encoder.transform(val1['business_code'])\n",
    "val2['business_code_enc'] = business_code_encoder.transform(val2['business_code'])"
   ]
  },
  {
   "cell_type": "code",
   "execution_count": 121,
   "metadata": {},
   "outputs": [
    {
     "data": {
      "text/html": [
       "<div>\n",
       "<style scoped>\n",
       "    .dataframe tbody tr th:only-of-type {\n",
       "        vertical-align: middle;\n",
       "    }\n",
       "\n",
       "    .dataframe tbody tr th {\n",
       "        vertical-align: top;\n",
       "    }\n",
       "\n",
       "    .dataframe thead th {\n",
       "        text-align: right;\n",
       "    }\n",
       "</style>\n",
       "<table border=\"1\" class=\"dataframe\">\n",
       "  <thead>\n",
       "    <tr style=\"text-align: right;\">\n",
       "      <th></th>\n",
       "      <th>business_code_enc</th>\n",
       "      <th>business_code</th>\n",
       "    </tr>\n",
       "  </thead>\n",
       "  <tbody>\n",
       "    <tr>\n",
       "      <td>4734</td>\n",
       "      <td>1</td>\n",
       "      <td>U001</td>\n",
       "    </tr>\n",
       "    <tr>\n",
       "      <td>7058</td>\n",
       "      <td>1</td>\n",
       "      <td>U001</td>\n",
       "    </tr>\n",
       "    <tr>\n",
       "      <td>33011</td>\n",
       "      <td>1</td>\n",
       "      <td>U001</td>\n",
       "    </tr>\n",
       "    <tr>\n",
       "      <td>38398</td>\n",
       "      <td>1</td>\n",
       "      <td>U001</td>\n",
       "    </tr>\n",
       "    <tr>\n",
       "      <td>44493</td>\n",
       "      <td>1</td>\n",
       "      <td>U001</td>\n",
       "    </tr>\n",
       "    <tr>\n",
       "      <td>...</td>\n",
       "      <td>...</td>\n",
       "      <td>...</td>\n",
       "    </tr>\n",
       "    <tr>\n",
       "      <td>14435</td>\n",
       "      <td>1</td>\n",
       "      <td>U001</td>\n",
       "    </tr>\n",
       "    <tr>\n",
       "      <td>29313</td>\n",
       "      <td>1</td>\n",
       "      <td>U001</td>\n",
       "    </tr>\n",
       "    <tr>\n",
       "      <td>26186</td>\n",
       "      <td>1</td>\n",
       "      <td>U001</td>\n",
       "    </tr>\n",
       "    <tr>\n",
       "      <td>45990</td>\n",
       "      <td>1</td>\n",
       "      <td>U001</td>\n",
       "    </tr>\n",
       "    <tr>\n",
       "      <td>16680</td>\n",
       "      <td>1</td>\n",
       "      <td>U001</td>\n",
       "    </tr>\n",
       "  </tbody>\n",
       "</table>\n",
       "<p>4940 rows × 2 columns</p>\n",
       "</div>"
      ],
      "text/plain": [
       "       business_code_enc business_code\n",
       "4734                   1          U001\n",
       "7058                   1          U001\n",
       "33011                  1          U001\n",
       "38398                  1          U001\n",
       "44493                  1          U001\n",
       "...                  ...           ...\n",
       "14435                  1          U001\n",
       "29313                  1          U001\n",
       "26186                  1          U001\n",
       "45990                  1          U001\n",
       "16680                  1          U001\n",
       "\n",
       "[4940 rows x 2 columns]"
      ]
     },
     "execution_count": 121,
     "metadata": {},
     "output_type": "execute_result"
    }
   ],
   "source": [
    "val2[['business_code_enc','business_code']]"
   ]
  },
  {
   "cell_type": "code",
   "execution_count": 98,
   "metadata": {},
   "outputs": [],
   "source": [
    "# this function will delete a column from train , validation and test atatime\n",
    "def john_wick(col ,trainhr = train_data,valhr = val1,testhr = val2):\n",
    "    trainhr.drop(col, axis =1,inplace=True)\n",
    "    valhr.drop(col,axis=1 , inplace=True)\n",
    "    testhr.drop(col,axis=1 , inplace=True)\n",
    "\n",
    "    return trainhr,valhr ,testhr"
   ]
  },
  {
   "cell_type": "code",
   "execution_count": 99,
   "metadata": {},
   "outputs": [],
   "source": [
    "# wrote a custom function to do a status check  on all the dataframes \n",
    "def status_check(trainhr = train_data,valhr = val1,testhr = val2):\n",
    "    print(trainhr.info())\n",
    "    print(\"****************************\")\n",
    "    print(trainhr.shape,valhr.shape,testhr.shape)\n",
    "    print(\"************Train Null Count****************\")\n",
    "    print(trainhr.isna().sum())\n",
    "    print(\"************Test Null Count ****************\")\n",
    "    print(testhr.isna().sum())    \n",
    "    print(\"************Validation Null Count ****************\")\n",
    "    print(valhr.isna().sum())"
   ]
  },
  {
   "cell_type": "code",
   "execution_count": 107,
   "metadata": {},
   "outputs": [],
   "source": [
    "#extract day,month and year \n",
    "\n",
    "train_data['day_of_clear_date'] = train_data['clear_date'].dt.day\n",
    "train_data['month_of_clear_date'] = train_data['clear_date'].dt.month\n",
    "\n",
    "val1['day_of_clear_date'] = val1['clear_date'].dt.day\n",
    "val1['month_of_clear_date'] = val1['clear_date'].dt.month\n",
    "\n",
    "\n",
    "val2['day_of_clear_date'] = val2['clear_date'].dt.day\n",
    "val2['month_of_clear_date'] = val2['clear_date'].dt.month\n"
   ]
  },
  {
   "cell_type": "code",
   "execution_count": 100,
   "metadata": {},
   "outputs": [],
   "source": [
    "train_data,val1,val2= john_wick(['clear_date'])"
   ]
  },
  {
   "cell_type": "code",
   "execution_count": 101,
   "metadata": {},
   "outputs": [
    {
     "data": {
      "text/plain": [
       "array([ 3794.88,  1445.64,  1764.66, ..., 12916.8 , 19757.46, 12842.54])"
      ]
     },
     "execution_count": 101,
     "metadata": {},
     "output_type": "execute_result"
    }
   ],
   "source": [
    "train_data['total_open_amount'].unique()"
   ]
  },
  {
   "cell_type": "code",
   "execution_count": 102,
   "metadata": {},
   "outputs": [
    {
     "data": {
      "text/html": [
       "<div>\n",
       "<style scoped>\n",
       "    .dataframe tbody tr th:only-of-type {\n",
       "        vertical-align: middle;\n",
       "    }\n",
       "\n",
       "    .dataframe tbody tr th {\n",
       "        vertical-align: top;\n",
       "    }\n",
       "\n",
       "    .dataframe thead th {\n",
       "        text-align: right;\n",
       "    }\n",
       "</style>\n",
       "<table border=\"1\" class=\"dataframe\">\n",
       "  <thead>\n",
       "    <tr style=\"text-align: right;\">\n",
       "      <th></th>\n",
       "      <th>cust_number</th>\n",
       "      <th>total_open_amount</th>\n",
       "      <th>delay</th>\n",
       "      <th>due_month</th>\n",
       "      <th>posting_day</th>\n",
       "      <th>posting_month</th>\n",
       "      <th>due_day</th>\n",
       "    </tr>\n",
       "  </thead>\n",
       "  <tbody>\n",
       "    <tr>\n",
       "      <td>0</td>\n",
       "      <td>0200769623</td>\n",
       "      <td>3794.88</td>\n",
       "      <td>0.0</td>\n",
       "      <td>1</td>\n",
       "      <td>30</td>\n",
       "      <td>12</td>\n",
       "      <td>14</td>\n",
       "    </tr>\n",
       "    <tr>\n",
       "      <td>1</td>\n",
       "      <td>0200769623</td>\n",
       "      <td>1445.64</td>\n",
       "      <td>0.0</td>\n",
       "      <td>1</td>\n",
       "      <td>30</td>\n",
       "      <td>12</td>\n",
       "      <td>14</td>\n",
       "    </tr>\n",
       "    <tr>\n",
       "      <td>2</td>\n",
       "      <td>0200769623</td>\n",
       "      <td>1764.66</td>\n",
       "      <td>0.0</td>\n",
       "      <td>1</td>\n",
       "      <td>30</td>\n",
       "      <td>12</td>\n",
       "      <td>14</td>\n",
       "    </tr>\n",
       "    <tr>\n",
       "      <td>3</td>\n",
       "      <td>0140103335</td>\n",
       "      <td>13230.19</td>\n",
       "      <td>0.0</td>\n",
       "      <td>1</td>\n",
       "      <td>30</td>\n",
       "      <td>12</td>\n",
       "      <td>29</td>\n",
       "    </tr>\n",
       "    <tr>\n",
       "      <td>4</td>\n",
       "      <td>0200769623</td>\n",
       "      <td>53577.79</td>\n",
       "      <td>0.0</td>\n",
       "      <td>1</td>\n",
       "      <td>30</td>\n",
       "      <td>12</td>\n",
       "      <td>14</td>\n",
       "    </tr>\n",
       "    <tr>\n",
       "      <td>...</td>\n",
       "      <td>...</td>\n",
       "      <td>...</td>\n",
       "      <td>...</td>\n",
       "      <td>...</td>\n",
       "      <td>...</td>\n",
       "      <td>...</td>\n",
       "      <td>...</td>\n",
       "    </tr>\n",
       "    <tr>\n",
       "      <td>29649</td>\n",
       "      <td>0200726979</td>\n",
       "      <td>64.03</td>\n",
       "      <td>0.0</td>\n",
       "      <td>11</td>\n",
       "      <td>31</td>\n",
       "      <td>10</td>\n",
       "      <td>15</td>\n",
       "    </tr>\n",
       "    <tr>\n",
       "      <td>29650</td>\n",
       "      <td>0200974851</td>\n",
       "      <td>8.06</td>\n",
       "      <td>12.0</td>\n",
       "      <td>11</td>\n",
       "      <td>31</td>\n",
       "      <td>10</td>\n",
       "      <td>15</td>\n",
       "    </tr>\n",
       "    <tr>\n",
       "      <td>29651</td>\n",
       "      <td>0100031704</td>\n",
       "      <td>12916.80</td>\n",
       "      <td>4.0</td>\n",
       "      <td>11</td>\n",
       "      <td>31</td>\n",
       "      <td>10</td>\n",
       "      <td>15</td>\n",
       "    </tr>\n",
       "    <tr>\n",
       "      <td>29652</td>\n",
       "      <td>0200794332</td>\n",
       "      <td>19757.46</td>\n",
       "      <td>0.0</td>\n",
       "      <td>11</td>\n",
       "      <td>31</td>\n",
       "      <td>10</td>\n",
       "      <td>15</td>\n",
       "    </tr>\n",
       "    <tr>\n",
       "      <td>29653</td>\n",
       "      <td>0200806580</td>\n",
       "      <td>12842.54</td>\n",
       "      <td>0.0</td>\n",
       "      <td>11</td>\n",
       "      <td>31</td>\n",
       "      <td>10</td>\n",
       "      <td>15</td>\n",
       "    </tr>\n",
       "  </tbody>\n",
       "</table>\n",
       "<p>29654 rows × 7 columns</p>\n",
       "</div>"
      ],
      "text/plain": [
       "      cust_number  total_open_amount  delay  due_month  posting_day  \\\n",
       "0      0200769623            3794.88    0.0          1           30   \n",
       "1      0200769623            1445.64    0.0          1           30   \n",
       "2      0200769623            1764.66    0.0          1           30   \n",
       "3      0140103335           13230.19    0.0          1           30   \n",
       "4      0200769623           53577.79    0.0          1           30   \n",
       "...           ...                ...    ...        ...          ...   \n",
       "29649  0200726979              64.03    0.0         11           31   \n",
       "29650  0200974851               8.06   12.0         11           31   \n",
       "29651  0100031704           12916.80    4.0         11           31   \n",
       "29652  0200794332           19757.46    0.0         11           31   \n",
       "29653  0200806580           12842.54    0.0         11           31   \n",
       "\n",
       "       posting_month  due_day  \n",
       "0                 12       14  \n",
       "1                 12       14  \n",
       "2                 12       14  \n",
       "3                 12       29  \n",
       "4                 12       14  \n",
       "...              ...      ...  \n",
       "29649             10       15  \n",
       "29650             10       15  \n",
       "29651             10       15  \n",
       "29652             10       15  \n",
       "29653             10       15  \n",
       "\n",
       "[29654 rows x 7 columns]"
      ]
     },
     "execution_count": 102,
     "metadata": {},
     "output_type": "execute_result"
    }
   ],
   "source": [
    "train_data.drop(columns=['posting_date','due_in_date'], inplace=True)\n",
    "train_data"
   ]
  },
  {
   "cell_type": "code",
   "execution_count": 103,
   "metadata": {},
   "outputs": [
    {
     "data": {
      "text/html": [
       "<div>\n",
       "<style scoped>\n",
       "    .dataframe tbody tr th:only-of-type {\n",
       "        vertical-align: middle;\n",
       "    }\n",
       "\n",
       "    .dataframe tbody tr th {\n",
       "        vertical-align: top;\n",
       "    }\n",
       "\n",
       "    .dataframe thead th {\n",
       "        text-align: right;\n",
       "    }\n",
       "</style>\n",
       "<table border=\"1\" class=\"dataframe\">\n",
       "  <thead>\n",
       "    <tr style=\"text-align: right;\">\n",
       "      <th></th>\n",
       "      <th>total_open_amount</th>\n",
       "      <th>delay</th>\n",
       "      <th>due_month</th>\n",
       "      <th>posting_day</th>\n",
       "      <th>posting_month</th>\n",
       "      <th>due_day</th>\n",
       "      <th>cn</th>\n",
       "    </tr>\n",
       "  </thead>\n",
       "  <tbody>\n",
       "    <tr>\n",
       "      <td>0</td>\n",
       "      <td>3794.88</td>\n",
       "      <td>0.0</td>\n",
       "      <td>1</td>\n",
       "      <td>30</td>\n",
       "      <td>12</td>\n",
       "      <td>14</td>\n",
       "      <td>0200769623</td>\n",
       "    </tr>\n",
       "    <tr>\n",
       "      <td>1</td>\n",
       "      <td>1445.64</td>\n",
       "      <td>0.0</td>\n",
       "      <td>1</td>\n",
       "      <td>30</td>\n",
       "      <td>12</td>\n",
       "      <td>14</td>\n",
       "      <td>0200769623</td>\n",
       "    </tr>\n",
       "    <tr>\n",
       "      <td>2</td>\n",
       "      <td>1764.66</td>\n",
       "      <td>0.0</td>\n",
       "      <td>1</td>\n",
       "      <td>30</td>\n",
       "      <td>12</td>\n",
       "      <td>14</td>\n",
       "      <td>0200769623</td>\n",
       "    </tr>\n",
       "    <tr>\n",
       "      <td>3</td>\n",
       "      <td>13230.19</td>\n",
       "      <td>0.0</td>\n",
       "      <td>1</td>\n",
       "      <td>30</td>\n",
       "      <td>12</td>\n",
       "      <td>29</td>\n",
       "      <td>0140103335</td>\n",
       "    </tr>\n",
       "    <tr>\n",
       "      <td>4</td>\n",
       "      <td>53577.79</td>\n",
       "      <td>0.0</td>\n",
       "      <td>1</td>\n",
       "      <td>30</td>\n",
       "      <td>12</td>\n",
       "      <td>14</td>\n",
       "      <td>0200769623</td>\n",
       "    </tr>\n",
       "    <tr>\n",
       "      <td>...</td>\n",
       "      <td>...</td>\n",
       "      <td>...</td>\n",
       "      <td>...</td>\n",
       "      <td>...</td>\n",
       "      <td>...</td>\n",
       "      <td>...</td>\n",
       "      <td>...</td>\n",
       "    </tr>\n",
       "    <tr>\n",
       "      <td>29649</td>\n",
       "      <td>64.03</td>\n",
       "      <td>0.0</td>\n",
       "      <td>11</td>\n",
       "      <td>31</td>\n",
       "      <td>10</td>\n",
       "      <td>15</td>\n",
       "      <td>0200726979</td>\n",
       "    </tr>\n",
       "    <tr>\n",
       "      <td>29650</td>\n",
       "      <td>8.06</td>\n",
       "      <td>12.0</td>\n",
       "      <td>11</td>\n",
       "      <td>31</td>\n",
       "      <td>10</td>\n",
       "      <td>15</td>\n",
       "      <td>0200974851</td>\n",
       "    </tr>\n",
       "    <tr>\n",
       "      <td>29651</td>\n",
       "      <td>12916.80</td>\n",
       "      <td>4.0</td>\n",
       "      <td>11</td>\n",
       "      <td>31</td>\n",
       "      <td>10</td>\n",
       "      <td>15</td>\n",
       "      <td>0100031704</td>\n",
       "    </tr>\n",
       "    <tr>\n",
       "      <td>29652</td>\n",
       "      <td>19757.46</td>\n",
       "      <td>0.0</td>\n",
       "      <td>11</td>\n",
       "      <td>31</td>\n",
       "      <td>10</td>\n",
       "      <td>15</td>\n",
       "      <td>0200794332</td>\n",
       "    </tr>\n",
       "    <tr>\n",
       "      <td>29653</td>\n",
       "      <td>12842.54</td>\n",
       "      <td>0.0</td>\n",
       "      <td>11</td>\n",
       "      <td>31</td>\n",
       "      <td>10</td>\n",
       "      <td>15</td>\n",
       "      <td>0200806580</td>\n",
       "    </tr>\n",
       "  </tbody>\n",
       "</table>\n",
       "<p>29654 rows × 7 columns</p>\n",
       "</div>"
      ],
      "text/plain": [
       "       total_open_amount  delay  due_month  posting_day  posting_month  \\\n",
       "0                3794.88    0.0          1           30             12   \n",
       "1                1445.64    0.0          1           30             12   \n",
       "2                1764.66    0.0          1           30             12   \n",
       "3               13230.19    0.0          1           30             12   \n",
       "4               53577.79    0.0          1           30             12   \n",
       "...                  ...    ...        ...          ...            ...   \n",
       "29649              64.03    0.0         11           31             10   \n",
       "29650               8.06   12.0         11           31             10   \n",
       "29651           12916.80    4.0         11           31             10   \n",
       "29652           19757.46    0.0         11           31             10   \n",
       "29653           12842.54    0.0         11           31             10   \n",
       "\n",
       "       due_day          cn  \n",
       "0           14  0200769623  \n",
       "1           14  0200769623  \n",
       "2           14  0200769623  \n",
       "3           29  0140103335  \n",
       "4           14  0200769623  \n",
       "...        ...         ...  \n",
       "29649       15  0200726979  \n",
       "29650       15  0200974851  \n",
       "29651       15  0100031704  \n",
       "29652       15  0200794332  \n",
       "29653       15  0200806580  \n",
       "\n",
       "[29654 rows x 7 columns]"
      ]
     },
     "execution_count": 103,
     "metadata": {},
     "output_type": "execute_result"
    }
   ],
   "source": [
    "train_data['cn'] = train_data['cust_number'].str.extract('(\\d+)')\n",
    "\n",
    "# then will drop that column\n",
    "train_data.drop('cust_number',axis=1,inplace=True)\n",
    "\n",
    "#lets see the dataframe\n",
    "train_data"
   ]
  },
  {
   "cell_type": "code",
   "execution_count": 104,
   "metadata": {},
   "outputs": [
    {
     "name": "stdout",
     "output_type": "stream",
     "text": [
      "<class 'pandas.core.frame.DataFrame'>\n",
      "Int64Index: 29654 entries, 0 to 29653\n",
      "Data columns (total 7 columns):\n",
      "total_open_amount    29654 non-null float64\n",
      "delay                29654 non-null float64\n",
      "due_month            29654 non-null int64\n",
      "posting_day          29654 non-null int64\n",
      "posting_month        29654 non-null int64\n",
      "due_day              29654 non-null int64\n",
      "cn                   29654 non-null float64\n",
      "dtypes: float64(3), int64(4)\n",
      "memory usage: 3.1 MB\n"
     ]
    }
   ],
   "source": [
    "#Converting the data-type of cn as float\n",
    "\n",
    "train_data['cn']=train_data['cn'].astype(str).astype(float)\n",
    "train_data.info()"
   ]
  },
  {
   "cell_type": "markdown",
   "metadata": {},
   "source": [
    "Splitting into x_train and y_train"
   ]
  },
  {
   "cell_type": "code",
   "execution_count": 105,
   "metadata": {},
   "outputs": [
    {
     "data": {
      "text/plain": [
       "0         0.0\n",
       "1         0.0\n",
       "2         0.0\n",
       "3         0.0\n",
       "4         0.0\n",
       "         ... \n",
       "29649     0.0\n",
       "29650    12.0\n",
       "29651     4.0\n",
       "29652     0.0\n",
       "29653     0.0\n",
       "Name: delay, Length: 29654, dtype: float64"
      ]
     },
     "execution_count": 105,
     "metadata": {},
     "output_type": "execute_result"
    }
   ],
   "source": [
    "y_train = train_data['delay']\n",
    "y_train"
   ]
  },
  {
   "cell_type": "code",
   "execution_count": 106,
   "metadata": {},
   "outputs": [
    {
     "data": {
      "text/html": [
       "<div>\n",
       "<style scoped>\n",
       "    .dataframe tbody tr th:only-of-type {\n",
       "        vertical-align: middle;\n",
       "    }\n",
       "\n",
       "    .dataframe tbody tr th {\n",
       "        vertical-align: top;\n",
       "    }\n",
       "\n",
       "    .dataframe thead th {\n",
       "        text-align: right;\n",
       "    }\n",
       "</style>\n",
       "<table border=\"1\" class=\"dataframe\">\n",
       "  <thead>\n",
       "    <tr style=\"text-align: right;\">\n",
       "      <th></th>\n",
       "      <th>total_open_amount</th>\n",
       "      <th>due_month</th>\n",
       "      <th>posting_day</th>\n",
       "      <th>posting_month</th>\n",
       "      <th>due_day</th>\n",
       "      <th>cn</th>\n",
       "    </tr>\n",
       "  </thead>\n",
       "  <tbody>\n",
       "    <tr>\n",
       "      <td>0</td>\n",
       "      <td>3794.88</td>\n",
       "      <td>1</td>\n",
       "      <td>30</td>\n",
       "      <td>12</td>\n",
       "      <td>14</td>\n",
       "      <td>200769623.0</td>\n",
       "    </tr>\n",
       "    <tr>\n",
       "      <td>1</td>\n",
       "      <td>1445.64</td>\n",
       "      <td>1</td>\n",
       "      <td>30</td>\n",
       "      <td>12</td>\n",
       "      <td>14</td>\n",
       "      <td>200769623.0</td>\n",
       "    </tr>\n",
       "    <tr>\n",
       "      <td>2</td>\n",
       "      <td>1764.66</td>\n",
       "      <td>1</td>\n",
       "      <td>30</td>\n",
       "      <td>12</td>\n",
       "      <td>14</td>\n",
       "      <td>200769623.0</td>\n",
       "    </tr>\n",
       "    <tr>\n",
       "      <td>3</td>\n",
       "      <td>13230.19</td>\n",
       "      <td>1</td>\n",
       "      <td>30</td>\n",
       "      <td>12</td>\n",
       "      <td>29</td>\n",
       "      <td>140103335.0</td>\n",
       "    </tr>\n",
       "    <tr>\n",
       "      <td>4</td>\n",
       "      <td>53577.79</td>\n",
       "      <td>1</td>\n",
       "      <td>30</td>\n",
       "      <td>12</td>\n",
       "      <td>14</td>\n",
       "      <td>200769623.0</td>\n",
       "    </tr>\n",
       "    <tr>\n",
       "      <td>...</td>\n",
       "      <td>...</td>\n",
       "      <td>...</td>\n",
       "      <td>...</td>\n",
       "      <td>...</td>\n",
       "      <td>...</td>\n",
       "      <td>...</td>\n",
       "    </tr>\n",
       "    <tr>\n",
       "      <td>29649</td>\n",
       "      <td>64.03</td>\n",
       "      <td>11</td>\n",
       "      <td>31</td>\n",
       "      <td>10</td>\n",
       "      <td>15</td>\n",
       "      <td>200726979.0</td>\n",
       "    </tr>\n",
       "    <tr>\n",
       "      <td>29650</td>\n",
       "      <td>8.06</td>\n",
       "      <td>11</td>\n",
       "      <td>31</td>\n",
       "      <td>10</td>\n",
       "      <td>15</td>\n",
       "      <td>200974851.0</td>\n",
       "    </tr>\n",
       "    <tr>\n",
       "      <td>29651</td>\n",
       "      <td>12916.80</td>\n",
       "      <td>11</td>\n",
       "      <td>31</td>\n",
       "      <td>10</td>\n",
       "      <td>15</td>\n",
       "      <td>100031704.0</td>\n",
       "    </tr>\n",
       "    <tr>\n",
       "      <td>29652</td>\n",
       "      <td>19757.46</td>\n",
       "      <td>11</td>\n",
       "      <td>31</td>\n",
       "      <td>10</td>\n",
       "      <td>15</td>\n",
       "      <td>200794332.0</td>\n",
       "    </tr>\n",
       "    <tr>\n",
       "      <td>29653</td>\n",
       "      <td>12842.54</td>\n",
       "      <td>11</td>\n",
       "      <td>31</td>\n",
       "      <td>10</td>\n",
       "      <td>15</td>\n",
       "      <td>200806580.0</td>\n",
       "    </tr>\n",
       "  </tbody>\n",
       "</table>\n",
       "<p>29654 rows × 6 columns</p>\n",
       "</div>"
      ],
      "text/plain": [
       "       total_open_amount  due_month  posting_day  posting_month  due_day  \\\n",
       "0                3794.88          1           30             12       14   \n",
       "1                1445.64          1           30             12       14   \n",
       "2                1764.66          1           30             12       14   \n",
       "3               13230.19          1           30             12       29   \n",
       "4               53577.79          1           30             12       14   \n",
       "...                  ...        ...          ...            ...      ...   \n",
       "29649              64.03         11           31             10       15   \n",
       "29650               8.06         11           31             10       15   \n",
       "29651           12916.80         11           31             10       15   \n",
       "29652           19757.46         11           31             10       15   \n",
       "29653           12842.54         11           31             10       15   \n",
       "\n",
       "                cn  \n",
       "0      200769623.0  \n",
       "1      200769623.0  \n",
       "2      200769623.0  \n",
       "3      140103335.0  \n",
       "4      200769623.0  \n",
       "...            ...  \n",
       "29649  200726979.0  \n",
       "29650  200974851.0  \n",
       "29651  100031704.0  \n",
       "29652  200794332.0  \n",
       "29653  200806580.0  \n",
       "\n",
       "[29654 rows x 6 columns]"
      ]
     },
     "execution_count": 106,
     "metadata": {},
     "output_type": "execute_result"
    }
   ],
   "source": [
    "x_train = train_data.drop([\"delay\"], axis=1).copy()\n",
    "x_train"
   ]
  },
  {
   "cell_type": "markdown",
   "metadata": {},
   "source": [
    "Now we need to repeat the same process on val1, val2 and x_test."
   ]
  },
  {
   "cell_type": "code",
   "execution_count": 107,
   "metadata": {},
   "outputs": [
    {
     "name": "stdout",
     "output_type": "stream",
     "text": [
      "<class 'pandas.core.frame.DataFrame'>\n",
      "Int64Index: 4537 entries, 29654 to 34190\n",
      "Data columns (total 13 columns):\n",
      "business_code             4537 non-null object\n",
      "cust_number               4537 non-null object\n",
      "name_customer             4537 non-null object\n",
      "buisness_year             4537 non-null float64\n",
      "posting_date              4537 non-null datetime64[ns]\n",
      "document_create_date.1    4537 non-null datetime64[ns]\n",
      "due_in_date               4537 non-null datetime64[ns]\n",
      "invoice_currency          4537 non-null object\n",
      "total_open_amount         4537 non-null float64\n",
      "baseline_create_date      4537 non-null datetime64[ns]\n",
      "cust_payment_terms        4537 non-null object\n",
      "isOpen                    4537 non-null int64\n",
      "delay                     4537 non-null float64\n",
      "dtypes: datetime64[ns](4), float64(3), int64(1), object(5)\n",
      "memory usage: 496.2+ KB\n"
     ]
    }
   ],
   "source": [
    "val1.info()"
   ]
  },
  {
   "cell_type": "code",
   "execution_count": 108,
   "metadata": {},
   "outputs": [],
   "source": [
    "val1.drop(columns=['document_create_date.1'], inplace=True)\n",
    "val2.drop(columns=['document_create_date.1'], inplace=True)"
   ]
  },
  {
   "cell_type": "code",
   "execution_count": 109,
   "metadata": {},
   "outputs": [
    {
     "data": {
      "text/html": [
       "<div>\n",
       "<style scoped>\n",
       "    .dataframe tbody tr th:only-of-type {\n",
       "        vertical-align: middle;\n",
       "    }\n",
       "\n",
       "    .dataframe tbody tr th {\n",
       "        vertical-align: top;\n",
       "    }\n",
       "\n",
       "    .dataframe thead th {\n",
       "        text-align: right;\n",
       "    }\n",
       "</style>\n",
       "<table border=\"1\" class=\"dataframe\">\n",
       "  <thead>\n",
       "    <tr style=\"text-align: right;\">\n",
       "      <th></th>\n",
       "      <th>total_open_amount</th>\n",
       "      <th>delay</th>\n",
       "      <th>posting_day</th>\n",
       "      <th>posting_month</th>\n",
       "      <th>due_day</th>\n",
       "      <th>due_month</th>\n",
       "      <th>cn</th>\n",
       "    </tr>\n",
       "  </thead>\n",
       "  <tbody>\n",
       "    <tr>\n",
       "      <td>29654</td>\n",
       "      <td>122365.49</td>\n",
       "      <td>0.0</td>\n",
       "      <td>1</td>\n",
       "      <td>11</td>\n",
       "      <td>16</td>\n",
       "      <td>11</td>\n",
       "      <td>0200704858</td>\n",
       "    </tr>\n",
       "    <tr>\n",
       "      <td>29655</td>\n",
       "      <td>60400.38</td>\n",
       "      <td>2.0</td>\n",
       "      <td>1</td>\n",
       "      <td>11</td>\n",
       "      <td>16</td>\n",
       "      <td>11</td>\n",
       "      <td>0200466603</td>\n",
       "    </tr>\n",
       "    <tr>\n",
       "      <td>29656</td>\n",
       "      <td>16724.98</td>\n",
       "      <td>3.0</td>\n",
       "      <td>1</td>\n",
       "      <td>11</td>\n",
       "      <td>16</td>\n",
       "      <td>11</td>\n",
       "      <td>0200762301</td>\n",
       "    </tr>\n",
       "    <tr>\n",
       "      <td>29657</td>\n",
       "      <td>53639.91</td>\n",
       "      <td>0.0</td>\n",
       "      <td>1</td>\n",
       "      <td>11</td>\n",
       "      <td>16</td>\n",
       "      <td>11</td>\n",
       "      <td>0200769623</td>\n",
       "    </tr>\n",
       "    <tr>\n",
       "      <td>29658</td>\n",
       "      <td>5598.36</td>\n",
       "      <td>2.0</td>\n",
       "      <td>1</td>\n",
       "      <td>11</td>\n",
       "      <td>16</td>\n",
       "      <td>11</td>\n",
       "      <td>0200799367</td>\n",
       "    </tr>\n",
       "    <tr>\n",
       "      <td>...</td>\n",
       "      <td>...</td>\n",
       "      <td>...</td>\n",
       "      <td>...</td>\n",
       "      <td>...</td>\n",
       "      <td>...</td>\n",
       "      <td>...</td>\n",
       "      <td>...</td>\n",
       "    </tr>\n",
       "    <tr>\n",
       "      <td>34186</td>\n",
       "      <td>5093.02</td>\n",
       "      <td>0.0</td>\n",
       "      <td>31</td>\n",
       "      <td>12</td>\n",
       "      <td>1</td>\n",
       "      <td>2</td>\n",
       "      <td>0200705742</td>\n",
       "    </tr>\n",
       "    <tr>\n",
       "      <td>34187</td>\n",
       "      <td>652.61</td>\n",
       "      <td>0.0</td>\n",
       "      <td>31</td>\n",
       "      <td>12</td>\n",
       "      <td>15</td>\n",
       "      <td>1</td>\n",
       "      <td>0200726979</td>\n",
       "    </tr>\n",
       "    <tr>\n",
       "      <td>34188</td>\n",
       "      <td>20874.71</td>\n",
       "      <td>0.0</td>\n",
       "      <td>31</td>\n",
       "      <td>12</td>\n",
       "      <td>15</td>\n",
       "      <td>1</td>\n",
       "      <td>0200762301</td>\n",
       "    </tr>\n",
       "    <tr>\n",
       "      <td>34189</td>\n",
       "      <td>53625.61</td>\n",
       "      <td>0.0</td>\n",
       "      <td>31</td>\n",
       "      <td>12</td>\n",
       "      <td>15</td>\n",
       "      <td>1</td>\n",
       "      <td>0100001196</td>\n",
       "    </tr>\n",
       "    <tr>\n",
       "      <td>34190</td>\n",
       "      <td>64272.38</td>\n",
       "      <td>2.0</td>\n",
       "      <td>31</td>\n",
       "      <td>12</td>\n",
       "      <td>15</td>\n",
       "      <td>1</td>\n",
       "      <td>0200706844</td>\n",
       "    </tr>\n",
       "  </tbody>\n",
       "</table>\n",
       "<p>4537 rows × 7 columns</p>\n",
       "</div>"
      ],
      "text/plain": [
       "       total_open_amount  delay  posting_day  posting_month  due_day  \\\n",
       "29654          122365.49    0.0            1             11       16   \n",
       "29655           60400.38    2.0            1             11       16   \n",
       "29656           16724.98    3.0            1             11       16   \n",
       "29657           53639.91    0.0            1             11       16   \n",
       "29658            5598.36    2.0            1             11       16   \n",
       "...                  ...    ...          ...            ...      ...   \n",
       "34186            5093.02    0.0           31             12        1   \n",
       "34187             652.61    0.0           31             12       15   \n",
       "34188           20874.71    0.0           31             12       15   \n",
       "34189           53625.61    0.0           31             12       15   \n",
       "34190           64272.38    2.0           31             12       15   \n",
       "\n",
       "       due_month          cn  \n",
       "29654         11  0200704858  \n",
       "29655         11  0200466603  \n",
       "29656         11  0200762301  \n",
       "29657         11  0200769623  \n",
       "29658         11  0200799367  \n",
       "...          ...         ...  \n",
       "34186          2  0200705742  \n",
       "34187          1  0200726979  \n",
       "34188          1  0200762301  \n",
       "34189          1  0100001196  \n",
       "34190          1  0200706844  \n",
       "\n",
       "[4537 rows x 7 columns]"
      ]
     },
     "execution_count": 109,
     "metadata": {},
     "output_type": "execute_result"
    }
   ],
   "source": [
    "val1['delay']=val1.delay.apply(lambda x: 0 if x<0 else x)\n",
    "val1.drop(['business_code', 'name_customer', 'buisness_year', 'invoice_currency', 'baseline_create_date', 'cust_payment_terms', 'isOpen'], axis=1, inplace=True)\n",
    "\n",
    "val1[\"posting_day\"] = val1[\"posting_date\"].dt.day\n",
    "val1[\"posting_month\"] = val1[\"posting_date\"].dt.month\n",
    "\n",
    "val1[\"due_day\"] = val1[\"due_in_date\"].dt.day\n",
    "val1[\"due_month\"] = val1[\"due_in_date\"].dt.month\n",
    "\n",
    "val1['cn'] = val1['cust_number'].str.extract('(\\d+)')\n",
    "val1.drop('cust_number',axis=1,inplace=True)\n",
    "\n",
    "val1.drop(columns=['posting_date', 'due_in_date'], inplace=True)\n",
    "val1"
   ]
  },
  {
   "cell_type": "code",
   "execution_count": 110,
   "metadata": {},
   "outputs": [
    {
     "name": "stdout",
     "output_type": "stream",
     "text": [
      "<class 'pandas.core.frame.DataFrame'>\n",
      "Int64Index: 4537 entries, 29654 to 34190\n",
      "Data columns (total 7 columns):\n",
      "total_open_amount    4537 non-null float64\n",
      "delay                4537 non-null float64\n",
      "posting_day          4537 non-null int64\n",
      "posting_month        4537 non-null int64\n",
      "due_day              4537 non-null int64\n",
      "due_month            4537 non-null int64\n",
      "cn                   4537 non-null float64\n",
      "dtypes: float64(3), int64(4)\n",
      "memory usage: 283.6 KB\n"
     ]
    }
   ],
   "source": [
    "val1['cn']=val1['cn'].astype(str).astype(float)\n",
    "val1.info()"
   ]
  },
  {
   "cell_type": "markdown",
   "metadata": {},
   "source": [
    "Splitting into x_val and y_val"
   ]
  },
  {
   "cell_type": "code",
   "execution_count": 111,
   "metadata": {},
   "outputs": [
    {
     "data": {
      "text/plain": [
       "29654    0.0\n",
       "29655    2.0\n",
       "29656    3.0\n",
       "29657    0.0\n",
       "29658    2.0\n",
       "        ... \n",
       "34186    0.0\n",
       "34187    0.0\n",
       "34188    0.0\n",
       "34189    0.0\n",
       "34190    2.0\n",
       "Name: delay, Length: 4537, dtype: float64"
      ]
     },
     "execution_count": 111,
     "metadata": {},
     "output_type": "execute_result"
    }
   ],
   "source": [
    "y_val1 = val1['delay']\n",
    "y_val1"
   ]
  },
  {
   "cell_type": "code",
   "execution_count": 112,
   "metadata": {},
   "outputs": [
    {
     "data": {
      "text/html": [
       "<div>\n",
       "<style scoped>\n",
       "    .dataframe tbody tr th:only-of-type {\n",
       "        vertical-align: middle;\n",
       "    }\n",
       "\n",
       "    .dataframe tbody tr th {\n",
       "        vertical-align: top;\n",
       "    }\n",
       "\n",
       "    .dataframe thead th {\n",
       "        text-align: right;\n",
       "    }\n",
       "</style>\n",
       "<table border=\"1\" class=\"dataframe\">\n",
       "  <thead>\n",
       "    <tr style=\"text-align: right;\">\n",
       "      <th></th>\n",
       "      <th>total_open_amount</th>\n",
       "      <th>posting_day</th>\n",
       "      <th>posting_month</th>\n",
       "      <th>due_day</th>\n",
       "      <th>due_month</th>\n",
       "      <th>cn</th>\n",
       "    </tr>\n",
       "  </thead>\n",
       "  <tbody>\n",
       "    <tr>\n",
       "      <td>29654</td>\n",
       "      <td>122365.49</td>\n",
       "      <td>1</td>\n",
       "      <td>11</td>\n",
       "      <td>16</td>\n",
       "      <td>11</td>\n",
       "      <td>200704858.0</td>\n",
       "    </tr>\n",
       "    <tr>\n",
       "      <td>29655</td>\n",
       "      <td>60400.38</td>\n",
       "      <td>1</td>\n",
       "      <td>11</td>\n",
       "      <td>16</td>\n",
       "      <td>11</td>\n",
       "      <td>200466603.0</td>\n",
       "    </tr>\n",
       "    <tr>\n",
       "      <td>29656</td>\n",
       "      <td>16724.98</td>\n",
       "      <td>1</td>\n",
       "      <td>11</td>\n",
       "      <td>16</td>\n",
       "      <td>11</td>\n",
       "      <td>200762301.0</td>\n",
       "    </tr>\n",
       "    <tr>\n",
       "      <td>29657</td>\n",
       "      <td>53639.91</td>\n",
       "      <td>1</td>\n",
       "      <td>11</td>\n",
       "      <td>16</td>\n",
       "      <td>11</td>\n",
       "      <td>200769623.0</td>\n",
       "    </tr>\n",
       "    <tr>\n",
       "      <td>29658</td>\n",
       "      <td>5598.36</td>\n",
       "      <td>1</td>\n",
       "      <td>11</td>\n",
       "      <td>16</td>\n",
       "      <td>11</td>\n",
       "      <td>200799367.0</td>\n",
       "    </tr>\n",
       "    <tr>\n",
       "      <td>...</td>\n",
       "      <td>...</td>\n",
       "      <td>...</td>\n",
       "      <td>...</td>\n",
       "      <td>...</td>\n",
       "      <td>...</td>\n",
       "      <td>...</td>\n",
       "    </tr>\n",
       "    <tr>\n",
       "      <td>34186</td>\n",
       "      <td>5093.02</td>\n",
       "      <td>31</td>\n",
       "      <td>12</td>\n",
       "      <td>1</td>\n",
       "      <td>2</td>\n",
       "      <td>200705742.0</td>\n",
       "    </tr>\n",
       "    <tr>\n",
       "      <td>34187</td>\n",
       "      <td>652.61</td>\n",
       "      <td>31</td>\n",
       "      <td>12</td>\n",
       "      <td>15</td>\n",
       "      <td>1</td>\n",
       "      <td>200726979.0</td>\n",
       "    </tr>\n",
       "    <tr>\n",
       "      <td>34188</td>\n",
       "      <td>20874.71</td>\n",
       "      <td>31</td>\n",
       "      <td>12</td>\n",
       "      <td>15</td>\n",
       "      <td>1</td>\n",
       "      <td>200762301.0</td>\n",
       "    </tr>\n",
       "    <tr>\n",
       "      <td>34189</td>\n",
       "      <td>53625.61</td>\n",
       "      <td>31</td>\n",
       "      <td>12</td>\n",
       "      <td>15</td>\n",
       "      <td>1</td>\n",
       "      <td>100001196.0</td>\n",
       "    </tr>\n",
       "    <tr>\n",
       "      <td>34190</td>\n",
       "      <td>64272.38</td>\n",
       "      <td>31</td>\n",
       "      <td>12</td>\n",
       "      <td>15</td>\n",
       "      <td>1</td>\n",
       "      <td>200706844.0</td>\n",
       "    </tr>\n",
       "  </tbody>\n",
       "</table>\n",
       "<p>4537 rows × 6 columns</p>\n",
       "</div>"
      ],
      "text/plain": [
       "       total_open_amount  posting_day  posting_month  due_day  due_month  \\\n",
       "29654          122365.49            1             11       16         11   \n",
       "29655           60400.38            1             11       16         11   \n",
       "29656           16724.98            1             11       16         11   \n",
       "29657           53639.91            1             11       16         11   \n",
       "29658            5598.36            1             11       16         11   \n",
       "...                  ...          ...            ...      ...        ...   \n",
       "34186            5093.02           31             12        1          2   \n",
       "34187             652.61           31             12       15          1   \n",
       "34188           20874.71           31             12       15          1   \n",
       "34189           53625.61           31             12       15          1   \n",
       "34190           64272.38           31             12       15          1   \n",
       "\n",
       "                cn  \n",
       "29654  200704858.0  \n",
       "29655  200466603.0  \n",
       "29656  200762301.0  \n",
       "29657  200769623.0  \n",
       "29658  200799367.0  \n",
       "...            ...  \n",
       "34186  200705742.0  \n",
       "34187  200726979.0  \n",
       "34188  200762301.0  \n",
       "34189  100001196.0  \n",
       "34190  200706844.0  \n",
       "\n",
       "[4537 rows x 6 columns]"
      ]
     },
     "execution_count": 112,
     "metadata": {},
     "output_type": "execute_result"
    }
   ],
   "source": [
    "x_val1 = val1.drop([\"delay\"], axis=1).copy()\n",
    "x_val1"
   ]
  },
  {
   "cell_type": "code",
   "execution_count": 113,
   "metadata": {},
   "outputs": [
    {
     "data": {
      "text/html": [
       "<div>\n",
       "<style scoped>\n",
       "    .dataframe tbody tr th:only-of-type {\n",
       "        vertical-align: middle;\n",
       "    }\n",
       "\n",
       "    .dataframe tbody tr th {\n",
       "        vertical-align: top;\n",
       "    }\n",
       "\n",
       "    .dataframe thead th {\n",
       "        text-align: right;\n",
       "    }\n",
       "</style>\n",
       "<table border=\"1\" class=\"dataframe\">\n",
       "  <thead>\n",
       "    <tr style=\"text-align: right;\">\n",
       "      <th></th>\n",
       "      <th>total_open_amount</th>\n",
       "      <th>delay</th>\n",
       "      <th>posting_day</th>\n",
       "      <th>posting_month</th>\n",
       "      <th>due_day</th>\n",
       "      <th>due_month</th>\n",
       "      <th>cn</th>\n",
       "    </tr>\n",
       "  </thead>\n",
       "  <tbody>\n",
       "    <tr>\n",
       "      <td>34191</td>\n",
       "      <td>127270.35</td>\n",
       "      <td>0.0</td>\n",
       "      <td>1</td>\n",
       "      <td>1</td>\n",
       "      <td>16</td>\n",
       "      <td>1</td>\n",
       "      <td>0200466603</td>\n",
       "    </tr>\n",
       "    <tr>\n",
       "      <td>34192</td>\n",
       "      <td>112425.87</td>\n",
       "      <td>0.0</td>\n",
       "      <td>1</td>\n",
       "      <td>1</td>\n",
       "      <td>16</td>\n",
       "      <td>1</td>\n",
       "      <td>0200799367</td>\n",
       "    </tr>\n",
       "    <tr>\n",
       "      <td>34193</td>\n",
       "      <td>355.65</td>\n",
       "      <td>5.0</td>\n",
       "      <td>1</td>\n",
       "      <td>1</td>\n",
       "      <td>16</td>\n",
       "      <td>1</td>\n",
       "      <td>0200769623</td>\n",
       "    </tr>\n",
       "    <tr>\n",
       "      <td>34194</td>\n",
       "      <td>9525.79</td>\n",
       "      <td>5.0</td>\n",
       "      <td>1</td>\n",
       "      <td>1</td>\n",
       "      <td>16</td>\n",
       "      <td>1</td>\n",
       "      <td>0200782669</td>\n",
       "    </tr>\n",
       "    <tr>\n",
       "      <td>34195</td>\n",
       "      <td>7877.84</td>\n",
       "      <td>5.0</td>\n",
       "      <td>1</td>\n",
       "      <td>1</td>\n",
       "      <td>16</td>\n",
       "      <td>1</td>\n",
       "      <td>0200769623</td>\n",
       "    </tr>\n",
       "    <tr>\n",
       "      <td>...</td>\n",
       "      <td>...</td>\n",
       "      <td>...</td>\n",
       "      <td>...</td>\n",
       "      <td>...</td>\n",
       "      <td>...</td>\n",
       "      <td>...</td>\n",
       "      <td>...</td>\n",
       "    </tr>\n",
       "    <tr>\n",
       "      <td>39126</td>\n",
       "      <td>26756.71</td>\n",
       "      <td>1.0</td>\n",
       "      <td>26</td>\n",
       "      <td>2</td>\n",
       "      <td>12</td>\n",
       "      <td>3</td>\n",
       "      <td>0200759878</td>\n",
       "    </tr>\n",
       "    <tr>\n",
       "      <td>39127</td>\n",
       "      <td>30220.01</td>\n",
       "      <td>0.0</td>\n",
       "      <td>27</td>\n",
       "      <td>2</td>\n",
       "      <td>13</td>\n",
       "      <td>3</td>\n",
       "      <td>0200794332</td>\n",
       "    </tr>\n",
       "    <tr>\n",
       "      <td>39128</td>\n",
       "      <td>77434.89</td>\n",
       "      <td>4.0</td>\n",
       "      <td>27</td>\n",
       "      <td>2</td>\n",
       "      <td>8</td>\n",
       "      <td>3</td>\n",
       "      <td>0200721330</td>\n",
       "    </tr>\n",
       "    <tr>\n",
       "      <td>39129</td>\n",
       "      <td>39408.22</td>\n",
       "      <td>3.0</td>\n",
       "      <td>27</td>\n",
       "      <td>2</td>\n",
       "      <td>13</td>\n",
       "      <td>3</td>\n",
       "      <td>0200744707</td>\n",
       "    </tr>\n",
       "    <tr>\n",
       "      <td>39130</td>\n",
       "      <td>8793.09</td>\n",
       "      <td>0.0</td>\n",
       "      <td>27</td>\n",
       "      <td>2</td>\n",
       "      <td>13</td>\n",
       "      <td>3</td>\n",
       "      <td>0200794332</td>\n",
       "    </tr>\n",
       "  </tbody>\n",
       "</table>\n",
       "<p>4940 rows × 7 columns</p>\n",
       "</div>"
      ],
      "text/plain": [
       "       total_open_amount  delay  posting_day  posting_month  due_day  \\\n",
       "34191          127270.35    0.0            1              1       16   \n",
       "34192          112425.87    0.0            1              1       16   \n",
       "34193             355.65    5.0            1              1       16   \n",
       "34194            9525.79    5.0            1              1       16   \n",
       "34195            7877.84    5.0            1              1       16   \n",
       "...                  ...    ...          ...            ...      ...   \n",
       "39126           26756.71    1.0           26              2       12   \n",
       "39127           30220.01    0.0           27              2       13   \n",
       "39128           77434.89    4.0           27              2        8   \n",
       "39129           39408.22    3.0           27              2       13   \n",
       "39130            8793.09    0.0           27              2       13   \n",
       "\n",
       "       due_month          cn  \n",
       "34191          1  0200466603  \n",
       "34192          1  0200799367  \n",
       "34193          1  0200769623  \n",
       "34194          1  0200782669  \n",
       "34195          1  0200769623  \n",
       "...          ...         ...  \n",
       "39126          3  0200759878  \n",
       "39127          3  0200794332  \n",
       "39128          3  0200721330  \n",
       "39129          3  0200744707  \n",
       "39130          3  0200794332  \n",
       "\n",
       "[4940 rows x 7 columns]"
      ]
     },
     "execution_count": 113,
     "metadata": {},
     "output_type": "execute_result"
    }
   ],
   "source": [
    "val2['delay']=val2.delay.apply(lambda x: 0 if x<0 else x)\n",
    "val2.drop(['business_code', 'name_customer', 'buisness_year', 'invoice_currency', 'baseline_create_date', 'cust_payment_terms', 'isOpen'], axis=1, inplace=True)\n",
    "\n",
    "val2[\"posting_day\"] = val2[\"posting_date\"].dt.day\n",
    "val2[\"posting_month\"] = val2[\"posting_date\"].dt.month\n",
    "\n",
    "val2[\"due_day\"] = val2[\"due_in_date\"].dt.day\n",
    "val2[\"due_month\"] = val2[\"due_in_date\"].dt.month\n",
    "\n",
    "val2['cn'] = val2['cust_number'].str.extract('(\\d+)')\n",
    "val2.drop('cust_number',axis=1,inplace=True)\n",
    "\n",
    "val2.drop(columns=['posting_date', 'due_in_date'], inplace=True)\n",
    "val2"
   ]
  },
  {
   "cell_type": "code",
   "execution_count": 114,
   "metadata": {},
   "outputs": [
    {
     "name": "stdout",
     "output_type": "stream",
     "text": [
      "<class 'pandas.core.frame.DataFrame'>\n",
      "Int64Index: 4940 entries, 34191 to 39130\n",
      "Data columns (total 7 columns):\n",
      "total_open_amount    4940 non-null float64\n",
      "delay                4940 non-null float64\n",
      "posting_day          4940 non-null int64\n",
      "posting_month        4940 non-null int64\n",
      "due_day              4940 non-null int64\n",
      "due_month            4940 non-null int64\n",
      "cn                   4940 non-null float64\n",
      "dtypes: float64(3), int64(4)\n",
      "memory usage: 308.8 KB\n"
     ]
    }
   ],
   "source": [
    "val2['cn']=val2['cn'].astype(str).astype(float)\n",
    "val2.info()"
   ]
  },
  {
   "cell_type": "code",
   "execution_count": 115,
   "metadata": {},
   "outputs": [
    {
     "data": {
      "text/plain": [
       "34191    0.0\n",
       "34192    0.0\n",
       "34193    5.0\n",
       "34194    5.0\n",
       "34195    5.0\n",
       "        ... \n",
       "39126    1.0\n",
       "39127    0.0\n",
       "39128    4.0\n",
       "39129    3.0\n",
       "39130    0.0\n",
       "Name: delay, Length: 4940, dtype: float64"
      ]
     },
     "execution_count": 115,
     "metadata": {},
     "output_type": "execute_result"
    }
   ],
   "source": [
    "y_val2 = val2['delay']\n",
    "y_val2"
   ]
  },
  {
   "cell_type": "code",
   "execution_count": 116,
   "metadata": {},
   "outputs": [
    {
     "data": {
      "text/html": [
       "<div>\n",
       "<style scoped>\n",
       "    .dataframe tbody tr th:only-of-type {\n",
       "        vertical-align: middle;\n",
       "    }\n",
       "\n",
       "    .dataframe tbody tr th {\n",
       "        vertical-align: top;\n",
       "    }\n",
       "\n",
       "    .dataframe thead th {\n",
       "        text-align: right;\n",
       "    }\n",
       "</style>\n",
       "<table border=\"1\" class=\"dataframe\">\n",
       "  <thead>\n",
       "    <tr style=\"text-align: right;\">\n",
       "      <th></th>\n",
       "      <th>total_open_amount</th>\n",
       "      <th>posting_day</th>\n",
       "      <th>posting_month</th>\n",
       "      <th>due_day</th>\n",
       "      <th>due_month</th>\n",
       "      <th>cn</th>\n",
       "    </tr>\n",
       "  </thead>\n",
       "  <tbody>\n",
       "    <tr>\n",
       "      <td>34191</td>\n",
       "      <td>127270.35</td>\n",
       "      <td>1</td>\n",
       "      <td>1</td>\n",
       "      <td>16</td>\n",
       "      <td>1</td>\n",
       "      <td>200466603.0</td>\n",
       "    </tr>\n",
       "    <tr>\n",
       "      <td>34192</td>\n",
       "      <td>112425.87</td>\n",
       "      <td>1</td>\n",
       "      <td>1</td>\n",
       "      <td>16</td>\n",
       "      <td>1</td>\n",
       "      <td>200799367.0</td>\n",
       "    </tr>\n",
       "    <tr>\n",
       "      <td>34193</td>\n",
       "      <td>355.65</td>\n",
       "      <td>1</td>\n",
       "      <td>1</td>\n",
       "      <td>16</td>\n",
       "      <td>1</td>\n",
       "      <td>200769623.0</td>\n",
       "    </tr>\n",
       "    <tr>\n",
       "      <td>34194</td>\n",
       "      <td>9525.79</td>\n",
       "      <td>1</td>\n",
       "      <td>1</td>\n",
       "      <td>16</td>\n",
       "      <td>1</td>\n",
       "      <td>200782669.0</td>\n",
       "    </tr>\n",
       "    <tr>\n",
       "      <td>34195</td>\n",
       "      <td>7877.84</td>\n",
       "      <td>1</td>\n",
       "      <td>1</td>\n",
       "      <td>16</td>\n",
       "      <td>1</td>\n",
       "      <td>200769623.0</td>\n",
       "    </tr>\n",
       "    <tr>\n",
       "      <td>...</td>\n",
       "      <td>...</td>\n",
       "      <td>...</td>\n",
       "      <td>...</td>\n",
       "      <td>...</td>\n",
       "      <td>...</td>\n",
       "      <td>...</td>\n",
       "    </tr>\n",
       "    <tr>\n",
       "      <td>39126</td>\n",
       "      <td>26756.71</td>\n",
       "      <td>26</td>\n",
       "      <td>2</td>\n",
       "      <td>12</td>\n",
       "      <td>3</td>\n",
       "      <td>200759878.0</td>\n",
       "    </tr>\n",
       "    <tr>\n",
       "      <td>39127</td>\n",
       "      <td>30220.01</td>\n",
       "      <td>27</td>\n",
       "      <td>2</td>\n",
       "      <td>13</td>\n",
       "      <td>3</td>\n",
       "      <td>200794332.0</td>\n",
       "    </tr>\n",
       "    <tr>\n",
       "      <td>39128</td>\n",
       "      <td>77434.89</td>\n",
       "      <td>27</td>\n",
       "      <td>2</td>\n",
       "      <td>8</td>\n",
       "      <td>3</td>\n",
       "      <td>200721330.0</td>\n",
       "    </tr>\n",
       "    <tr>\n",
       "      <td>39129</td>\n",
       "      <td>39408.22</td>\n",
       "      <td>27</td>\n",
       "      <td>2</td>\n",
       "      <td>13</td>\n",
       "      <td>3</td>\n",
       "      <td>200744707.0</td>\n",
       "    </tr>\n",
       "    <tr>\n",
       "      <td>39130</td>\n",
       "      <td>8793.09</td>\n",
       "      <td>27</td>\n",
       "      <td>2</td>\n",
       "      <td>13</td>\n",
       "      <td>3</td>\n",
       "      <td>200794332.0</td>\n",
       "    </tr>\n",
       "  </tbody>\n",
       "</table>\n",
       "<p>4940 rows × 6 columns</p>\n",
       "</div>"
      ],
      "text/plain": [
       "       total_open_amount  posting_day  posting_month  due_day  due_month  \\\n",
       "34191          127270.35            1              1       16          1   \n",
       "34192          112425.87            1              1       16          1   \n",
       "34193             355.65            1              1       16          1   \n",
       "34194            9525.79            1              1       16          1   \n",
       "34195            7877.84            1              1       16          1   \n",
       "...                  ...          ...            ...      ...        ...   \n",
       "39126           26756.71           26              2       12          3   \n",
       "39127           30220.01           27              2       13          3   \n",
       "39128           77434.89           27              2        8          3   \n",
       "39129           39408.22           27              2       13          3   \n",
       "39130            8793.09           27              2       13          3   \n",
       "\n",
       "                cn  \n",
       "34191  200466603.0  \n",
       "34192  200799367.0  \n",
       "34193  200769623.0  \n",
       "34194  200782669.0  \n",
       "34195  200769623.0  \n",
       "...            ...  \n",
       "39126  200759878.0  \n",
       "39127  200794332.0  \n",
       "39128  200721330.0  \n",
       "39129  200744707.0  \n",
       "39130  200794332.0  \n",
       "\n",
       "[4940 rows x 6 columns]"
      ]
     },
     "execution_count": 116,
     "metadata": {},
     "output_type": "execute_result"
    }
   ],
   "source": [
    "x_val2 = val2.drop([\"delay\"], axis=1).copy()\n",
    "x_val2"
   ]
  },
  {
   "cell_type": "markdown",
   "metadata": {},
   "source": [
    "# FEATURE SELECTION"
   ]
  },
  {
   "cell_type": "markdown",
   "metadata": {},
   "source": [
    "### FILTER METHOD"
   ]
  },
  {
   "cell_type": "markdown",
   "metadata": {},
   "source": [
    "#### 1. Dropping constant "
   ]
  },
  {
   "cell_type": "code",
   "execution_count": 117,
   "metadata": {},
   "outputs": [
    {
     "data": {
      "text/plain": [
       "7"
      ]
     },
     "execution_count": 117,
     "metadata": {},
     "output_type": "execute_result"
    }
   ],
   "source": [
    "from sklearn.feature_selection import VarianceThreshold\n",
    "\n",
    "#Passing a value of zero for the parameter will filter all the features with zero variance\n",
    "constant_filter = VarianceThreshold(threshold=0)\n",
    "#we need to simply apply this filter to our training set as shown in the following example\n",
    "constant_filter.fit(train_data)\n",
    "#the number of non-constant features.\n",
    "len(train_data.columns[constant_filter.get_support()])"
   ]
  },
  {
   "cell_type": "code",
   "execution_count": 131,
   "metadata": {},
   "outputs": [
    {
     "name": "stdout",
     "output_type": "stream",
     "text": [
      "0\n"
     ]
    }
   ],
   "source": [
    "constant_columns = [column for column in train_data.columns\n",
    "                    if column not in train_data.columns[constant_filter.get_support()]]\n",
    "\n",
    "print(len(constant_columns))"
   ]
  },
  {
   "cell_type": "code",
   "execution_count": 132,
   "metadata": {},
   "outputs": [
    {
     "data": {
      "text/plain": [
       "[]"
      ]
     },
     "execution_count": 132,
     "metadata": {},
     "output_type": "execute_result"
    }
   ],
   "source": [
    "constant_columns"
   ]
  },
  {
   "cell_type": "markdown",
   "metadata": {},
   "source": [
    "##### 2.Removing duplicated features"
   ]
  },
  {
   "cell_type": "code",
   "execution_count": 133,
   "metadata": {},
   "outputs": [
    {
     "name": "stdout",
     "output_type": "stream",
     "text": [
      "0\n"
     ]
    }
   ],
   "source": [
    "# transpose the feature matrice\n",
    "train_data_T = x_train.T\n",
    "# print the number of duplicated features\n",
    "print(train_data_T.duplicated().sum())\n",
    "# select the duplicated features columns names\n",
    "duplicated_columns = train_data_T[train_data_T.duplicated()].index.values"
   ]
  },
  {
   "cell_type": "code",
   "execution_count": 134,
   "metadata": {},
   "outputs": [
    {
     "data": {
      "text/plain": [
       "array([], dtype=object)"
      ]
     },
     "execution_count": 134,
     "metadata": {},
     "output_type": "execute_result"
    }
   ],
   "source": [
    "duplicated_columns"
   ]
  },
  {
   "cell_type": "markdown",
   "metadata": {},
   "source": [
    "#### 3.Correlation Coefficient"
   ]
  },
  {
   "cell_type": "code",
   "execution_count": 118,
   "metadata": {},
   "outputs": [
    {
     "data": {
      "text/plain": [
       "<matplotlib.axes._subplots.AxesSubplot at 0x1d9c97acf48>"
      ]
     },
     "execution_count": 118,
     "metadata": {},
     "output_type": "execute_result"
    },
    {
     "data": {
      "image/png": "[encoded data removed]",
      "text/plain": [
       "<Figure size 1008x720 with 2 Axes>"
      ]
     },
     "metadata": {
      "needs_background": "light"
     },
     "output_type": "display_data"
    }
   ],
   "source": [
    "#visualisation\n",
    "corr=train_data.corr()\n",
    "plt.figure(figsize=(14,10))\n",
    "sns.heatmap(corr,annot=True)"
   ]
  },
  {
   "cell_type": "markdown",
   "metadata": {},
   "source": [
    "lets remove month_of_clear_date and day_of_clear_date as those are highly correlated"
   ]
  },
  {
   "cell_type": "code",
   "execution_count": 136,
   "metadata": {},
   "outputs": [],
   "source": [
    "train_data,val1,val2= john_wick(['month_of_clear_date'])"
   ]
  },
  {
   "cell_type": "code",
   "execution_count": 137,
   "metadata": {},
   "outputs": [],
   "source": [
    "train_data,val1,val2= john_wick(['day_of_clear_date'])"
   ]
  },
  {
   "cell_type": "code",
   "execution_count": 135,
   "metadata": {},
   "outputs": [
    {
     "data": {
      "text/plain": [
       "total_open_amount    float64\n",
       "delay                float64\n",
       "due_month              int64\n",
       "posting_day            int64\n",
       "posting_month          int64\n",
       "due_day                int64\n",
       "cn                   float64\n",
       "dtype: object"
      ]
     },
     "execution_count": 135,
     "metadata": {},
     "output_type": "execute_result"
    }
   ],
   "source": [
    "train_data.dtypes"
   ]
  },
  {
   "cell_type": "code",
   "execution_count": null,
   "metadata": {},
   "outputs": [],
   "source": []
  },
  {
   "cell_type": "code",
   "execution_count": 119,
   "metadata": {},
   "outputs": [
    {
     "data": {
      "text/plain": [
       "<matplotlib.axes._subplots.AxesSubplot at 0x1d9c99bee08>"
      ]
     },
     "execution_count": 119,
     "metadata": {},
     "output_type": "execute_result"
    },
    {
     "data": {
      "image/png": "[encoded data removed]",
      "text/plain": [
       "<Figure size 1008x720 with 2 Axes>"
      ]
     },
     "metadata": {
      "needs_background": "light"
     },
     "output_type": "display_data"
    }
   ],
   "source": [
    "#visualisation\n",
    "corr=train_data.corr()\n",
    "plt.figure(figsize=(14,10))\n",
    "sns.heatmap(corr,annot=True)"
   ]
  },
  {
   "cell_type": "markdown",
   "metadata": {},
   "source": [
    "The logic behind using correlation for feature selection is that the good variables are highly correlated(too highly correlated \n",
    "with target variable is not allowed) with the target. \n",
    "Furthermore, variables should be correlated with the target but should be uncorrelated among themselves\n",
    "\n",
    "\n",
    "As we can see from the above graph due_month and doc_create_month are highly correlated and thus they will have a negative impact on our model. So drop remove due_month."
   ]
  },
  {
   "cell_type": "code",
   "execution_count": 120,
   "metadata": {},
   "outputs": [],
   "source": [
    "x_train = x_train.drop([\"posting_month\"], axis=1).copy()\n",
    "x_val1 = x_val1.drop([\"posting_month\"], axis=1).copy()\n",
    "x_val2 = x_val2.drop([\"posting_month\"], axis=1).copy()"
   ]
  },
  {
   "cell_type": "markdown",
   "metadata": {},
   "source": [
    "# MODELING"
   ]
  },
  {
   "cell_type": "markdown",
   "metadata": {},
   "source": [
    "As this is a regression model we will use the following models:-\n",
    "\n",
    "Linear Regressor,\n",
    "SVR,\n",
    "Decision Tree,\n",
    "Random Forest,\n",
    "XgBoost"
   ]
  },
  {
   "cell_type": "code",
   "execution_count": 121,
   "metadata": {},
   "outputs": [
    {
     "name": "stdout",
     "output_type": "stream",
     "text": [
      "Requirement already satisfied: xgboost in c:\\users\\public\\anaconda\\lib\\site-packages (1.4.2)\n",
      "Requirement already satisfied: numpy in c:\\users\\public\\anaconda\\lib\\site-packages (from xgboost) (1.16.5)\n",
      "Requirement already satisfied: scipy in c:\\users\\public\\anaconda\\lib\\site-packages (from xgboost) (1.3.1)\n"
     ]
    }
   ],
   "source": [
    "!pip install xgboost"
   ]
  },
  {
   "cell_type": "code",
   "execution_count": 122,
   "metadata": {},
   "outputs": [],
   "source": [
    "import xgboost as xgb"
   ]
  },
  {
   "cell_type": "code",
   "execution_count": 123,
   "metadata": {},
   "outputs": [],
   "source": [
    "import sklearn.metrics as sm\n",
    "from sklearn.ensemble import RandomForestRegressor\n",
    "from sklearn.tree import DecisionTreeRegressor\n",
    "from sklearn.linear_model import LinearRegression\n",
    "from sklearn.svm import SVR\n",
    "from sklearn.model_selection import RandomizedSearchCV, GridSearchCV"
   ]
  },
  {
   "cell_type": "markdown",
   "metadata": {},
   "source": [
    "### XGBoost"
   ]
  },
  {
   "cell_type": "code",
   "execution_count": 124,
   "metadata": {},
   "outputs": [],
   "source": [
    "#fitting the model \n",
    "\n",
    "clf = xgb.XGBRegressor()\n",
    "clf.fit(x_train, y_train)\n",
    "\n",
    "# Predicting the Validation Set Results\n",
    "predicted = clf.predict(x_val1)"
   ]
  },
  {
   "cell_type": "code",
   "execution_count": 125,
   "metadata": {},
   "outputs": [
    {
     "name": "stdout",
     "output_type": "stream",
     "text": [
      "Mean absolute error = 2.12\n",
      "Mean squared error = 18.86\n",
      "Median absolute error = 1.08\n",
      "Explain variance score = 0.03\n",
      "R2 score = -0.02\n",
      "Accuracy=  -0.015334177447469342\n"
     ]
    }
   ],
   "source": [
    "# predicting all types of error and accuracy\n",
    "\n",
    "print(\"Mean absolute error =\", round(sm.mean_absolute_error(y_val1, predicted), 2)) \n",
    "print(\"Mean squared error =\", round(sm.mean_squared_error(y_val1, predicted), 2)) \n",
    "print(\"Median absolute error =\", round(sm.median_absolute_error(y_val1, predicted), 2)) \n",
    "print(\"Explain variance score =\", round(sm.explained_variance_score(y_val1, predicted), 2)) \n",
    "print(\"R2 score =\", round(sm.r2_score(y_val1, predicted), 2))\n",
    "print(\"Accuracy= \", clf.score(x_val1,y_val1))"
   ]
  },
  {
   "cell_type": "markdown",
   "metadata": {},
   "source": [
    "### LinearRegression"
   ]
  },
  {
   "cell_type": "code",
   "execution_count": 126,
   "metadata": {},
   "outputs": [],
   "source": [
    "# Fitting Simple Linear Regression to the Training Set\n",
    "clf5 = LinearRegression()\n",
    "clf5.fit(x_train, y_train)\n",
    "\n",
    "# Predicting the Test Set Results\n",
    "predicted5 = clf.predict(x_val1)"
   ]
  },
  {
   "cell_type": "code",
   "execution_count": 127,
   "metadata": {},
   "outputs": [
    {
     "name": "stdout",
     "output_type": "stream",
     "text": [
      "Mean absolute error = 2.12\n",
      "Mean squared error = 18.86\n",
      "Median absolute error = 1.08\n",
      "Explain variance score = 0.03\n",
      "R2 score = -0.02\n",
      "Accuracy=  0.10751274055726712\n"
     ]
    }
   ],
   "source": [
    "# predicting all types of error and accuracy\n",
    "\n",
    "print(\"Mean absolute error =\", round(sm.mean_absolute_error(y_val1, predicted5), 2)) \n",
    "print(\"Mean squared error =\", round(sm.mean_squared_error(y_val1, predicted5), 2)) \n",
    "print(\"Median absolute error =\", round(sm.median_absolute_error(y_val1, predicted5), 2)) \n",
    "print(\"Explain variance score =\", round(sm.explained_variance_score(y_val1, predicted5), 2)) \n",
    "print(\"R2 score =\", round(sm.r2_score(y_val1, predicted5), 2))\n",
    "print(\"Accuracy= \", clf5.score(x_val1,y_val1))"
   ]
  },
  {
   "cell_type": "markdown",
   "metadata": {},
   "source": [
    "### Random Forest"
   ]
  },
  {
   "cell_type": "code",
   "execution_count": 128,
   "metadata": {},
   "outputs": [],
   "source": [
    "clf2 = RandomForestRegressor()\n",
    "clf2.fit(x_train, y_train)\n",
    "\n",
    "# Predicting the Validation Set Results\n",
    "predicted2 = clf2.predict(x_val1)"
   ]
  },
  {
   "cell_type": "code",
   "execution_count": 129,
   "metadata": {},
   "outputs": [
    {
     "name": "stdout",
     "output_type": "stream",
     "text": [
      "Mean absolute error = 2.82\n",
      "Mean squared error = 35.04\n",
      "Median absolute error = 1.1\n",
      "Explain variance score = -0.72\n",
      "R2 score = -0.89\n",
      "Accuracy=  -0.8860988987880636\n"
     ]
    }
   ],
   "source": [
    "# predicting all types of error and accuracy\n",
    "\n",
    "print(\"Mean absolute error =\", round(sm.mean_absolute_error(y_val1, predicted2), 2)) \n",
    "print(\"Mean squared error =\", round(sm.mean_squared_error(y_val1, predicted2), 2)) \n",
    "print(\"Median absolute error =\", round(sm.median_absolute_error(y_val1, predicted2), 2)) \n",
    "print(\"Explain variance score =\", round(sm.explained_variance_score(y_val1, predicted2), 2)) \n",
    "print(\"R2 score =\", round(sm.r2_score(y_val1, predicted2), 2))\n",
    "print(\"Accuracy= \", clf2.score(x_val1,y_val1))"
   ]
  },
  {
   "cell_type": "markdown",
   "metadata": {},
   "source": [
    "### DecisionTreeRegressor"
   ]
  },
  {
   "cell_type": "code",
   "execution_count": null,
   "metadata": {},
   "outputs": [],
   "source": [
    "# Fitting Decision Tree Regressor to the Training Set\n",
    "clf3 = DecisionTreeRegressor()\n",
    "clf3.fit(x_train, y_train)\n",
    "\n",
    "# Predicting the Validation Set Results\n",
    "predicted3 = clf3.predict(x_val1)"
   ]
  },
  {
   "cell_type": "code",
   "execution_count": 144,
   "metadata": {},
   "outputs": [
    {
     "name": "stdout",
     "output_type": "stream",
     "text": [
      "Mean absolute error = 3.06\n",
      "Mean squared error = 95.46\n",
      "Median absolute error = 1.0\n",
      "Explain variance score = -3.99\n",
      "R2 score = -4.14\n",
      "Accuracy=  -4.1380390059377525\n"
     ]
    }
   ],
   "source": [
    "# predicting all types of error and accuracy\n",
    "\n",
    "print(\"Mean absolute error =\", round(sm.mean_absolute_error(y_val1, predicted3), 2)) \n",
    "print(\"Mean squared error =\", round(sm.mean_squared_error(y_val1, predicted3), 2)) \n",
    "print(\"Median absolute error =\", round(sm.median_absolute_error(y_val1, predicted3), 2)) \n",
    "print(\"Explain variance score =\", round(sm.explained_variance_score(y_val1, predicted3), 2)) \n",
    "print(\"R2 score =\", round(sm.r2_score(y_val1, predicted3), 2))\n",
    "print(\"Accuracy= \", clf3.score(x_val1,y_val1))"
   ]
  },
  {
   "cell_type": "markdown",
   "metadata": {},
   "source": [
    "### We'll continue with LinearRegression as it gives us the best result from all the other models."
   ]
  },
  {
   "cell_type": "markdown",
   "metadata": {},
   "source": [
    "# Predection set"
   ]
  },
  {
   "cell_type": "code",
   "execution_count": 149,
   "metadata": {},
   "outputs": [],
   "source": [
    "# Fitting Simple Linear Regression to the Training Set\n",
    "clf1 = LinearRegression()\n",
    "clf1.fit(x_train, y_train)\n",
    "\n",
    "# Predicting the Test Set Results\n",
    "predicted1 = clf.predict(x_val2)"
   ]
  },
  {
   "cell_type": "code",
   "execution_count": 151,
   "metadata": {},
   "outputs": [
    {
     "name": "stdout",
     "output_type": "stream",
     "text": [
      "Mean absolute error = 2.6\n",
      "Mean squared error = 65.33\n",
      "Median absolute error = 0.69\n",
      "Explain variance score = 0.0\n",
      "R2 score = -0.05\n",
      "Accuracy=  0.1797335817646344\n"
     ]
    }
   ],
   "source": [
    "# predicting all types of error and accuracy\n",
    "\n",
    "print(\"Mean absolute error =\", round(sm.mean_absolute_error(y_val2, predicted1), 2)) \n",
    "print(\"Mean squared error =\", round(sm.mean_squared_error(y_val2, predicted1), 2)) \n",
    "print(\"Median absolute error =\", round(sm.median_absolute_error(y_val2, predicted1), 2)) \n",
    "print(\"Explain variance score =\", round(sm.explained_variance_score(y_val2, predicted1), 2)) \n",
    "print(\"R2 score =\", round(sm.r2_score(y_val2, predicted1), 2))\n",
    "print(\"Accuracy= \", clf1.score(x_val2,y_val2))"
   ]
  },
  {
   "cell_type": "code",
   "execution_count": 154,
   "metadata": {},
   "outputs": [
    {
     "data": {
      "text/html": [
       "<div>\n",
       "<style scoped>\n",
       "    .dataframe tbody tr th:only-of-type {\n",
       "        vertical-align: middle;\n",
       "    }\n",
       "\n",
       "    .dataframe tbody tr th {\n",
       "        vertical-align: top;\n",
       "    }\n",
       "\n",
       "    .dataframe thead th {\n",
       "        text-align: right;\n",
       "    }\n",
       "</style>\n",
       "<table border=\"1\" class=\"dataframe\">\n",
       "  <thead>\n",
       "    <tr style=\"text-align: right;\">\n",
       "      <th></th>\n",
       "      <th>document_create_date.1</th>\n",
       "      <th>total_open_amount</th>\n",
       "      <th>posting_day</th>\n",
       "      <th>posting_month</th>\n",
       "      <th>due_day</th>\n",
       "      <th>due_month</th>\n",
       "      <th>cn</th>\n",
       "    </tr>\n",
       "  </thead>\n",
       "  <tbody>\n",
       "    <tr>\n",
       "      <td>0</td>\n",
       "      <td>2020-02-27</td>\n",
       "      <td>69579.37</td>\n",
       "      <td>27</td>\n",
       "      <td>2</td>\n",
       "      <td>13</td>\n",
       "      <td>3</td>\n",
       "      <td>0200769623</td>\n",
       "    </tr>\n",
       "    <tr>\n",
       "      <td>1</td>\n",
       "      <td>2020-02-27</td>\n",
       "      <td>13764.30</td>\n",
       "      <td>27</td>\n",
       "      <td>2</td>\n",
       "      <td>13</td>\n",
       "      <td>3</td>\n",
       "      <td>0200705742</td>\n",
       "    </tr>\n",
       "    <tr>\n",
       "      <td>2</td>\n",
       "      <td>2020-02-27</td>\n",
       "      <td>117550.74</td>\n",
       "      <td>27</td>\n",
       "      <td>2</td>\n",
       "      <td>13</td>\n",
       "      <td>3</td>\n",
       "      <td>0200778870</td>\n",
       "    </tr>\n",
       "    <tr>\n",
       "      <td>3</td>\n",
       "      <td>2020-02-27</td>\n",
       "      <td>57014.81</td>\n",
       "      <td>27</td>\n",
       "      <td>2</td>\n",
       "      <td>13</td>\n",
       "      <td>3</td>\n",
       "      <td>0200771157</td>\n",
       "    </tr>\n",
       "    <tr>\n",
       "      <td>4</td>\n",
       "      <td>2020-02-27</td>\n",
       "      <td>84906.91</td>\n",
       "      <td>27</td>\n",
       "      <td>2</td>\n",
       "      <td>13</td>\n",
       "      <td>3</td>\n",
       "      <td>0200762301</td>\n",
       "    </tr>\n",
       "    <tr>\n",
       "      <td>...</td>\n",
       "      <td>...</td>\n",
       "      <td>...</td>\n",
       "      <td>...</td>\n",
       "      <td>...</td>\n",
       "      <td>...</td>\n",
       "      <td>...</td>\n",
       "      <td>...</td>\n",
       "    </tr>\n",
       "    <tr>\n",
       "      <td>9708</td>\n",
       "      <td>2020-05-15</td>\n",
       "      <td>19798.67</td>\n",
       "      <td>15</td>\n",
       "      <td>5</td>\n",
       "      <td>30</td>\n",
       "      <td>5</td>\n",
       "      <td>0200457993</td>\n",
       "    </tr>\n",
       "    <tr>\n",
       "      <td>9709</td>\n",
       "      <td>2020-05-15</td>\n",
       "      <td>17140.86</td>\n",
       "      <td>15</td>\n",
       "      <td>5</td>\n",
       "      <td>30</td>\n",
       "      <td>5</td>\n",
       "      <td>0200763229</td>\n",
       "    </tr>\n",
       "    <tr>\n",
       "      <td>9710</td>\n",
       "      <td>2020-05-16</td>\n",
       "      <td>20550.40</td>\n",
       "      <td>16</td>\n",
       "      <td>5</td>\n",
       "      <td>16</td>\n",
       "      <td>5</td>\n",
       "      <td>0100027744</td>\n",
       "    </tr>\n",
       "    <tr>\n",
       "      <td>9711</td>\n",
       "      <td>2020-05-19</td>\n",
       "      <td>1373.60</td>\n",
       "      <td>19</td>\n",
       "      <td>5</td>\n",
       "      <td>29</td>\n",
       "      <td>5</td>\n",
       "      <td>0140105785</td>\n",
       "    </tr>\n",
       "    <tr>\n",
       "      <td>9712</td>\n",
       "      <td>2020-05-21</td>\n",
       "      <td>8.00</td>\n",
       "      <td>21</td>\n",
       "      <td>5</td>\n",
       "      <td>20</td>\n",
       "      <td>6</td>\n",
       "      <td>0200756072</td>\n",
       "    </tr>\n",
       "  </tbody>\n",
       "</table>\n",
       "<p>9713 rows × 7 columns</p>\n",
       "</div>"
      ],
      "text/plain": [
       "     document_create_date.1  total_open_amount  posting_day  posting_month  \\\n",
       "0                2020-02-27           69579.37           27              2   \n",
       "1                2020-02-27           13764.30           27              2   \n",
       "2                2020-02-27          117550.74           27              2   \n",
       "3                2020-02-27           57014.81           27              2   \n",
       "4                2020-02-27           84906.91           27              2   \n",
       "...                     ...                ...          ...            ...   \n",
       "9708             2020-05-15           19798.67           15              5   \n",
       "9709             2020-05-15           17140.86           15              5   \n",
       "9710             2020-05-16           20550.40           16              5   \n",
       "9711             2020-05-19            1373.60           19              5   \n",
       "9712             2020-05-21               8.00           21              5   \n",
       "\n",
       "      due_day  due_month          cn  \n",
       "0          13          3  0200769623  \n",
       "1          13          3  0200705742  \n",
       "2          13          3  0200778870  \n",
       "3          13          3  0200771157  \n",
       "4          13          3  0200762301  \n",
       "...       ...        ...         ...  \n",
       "9708       30          5  0200457993  \n",
       "9709       30          5  0200763229  \n",
       "9710       16          5  0100027744  \n",
       "9711       29          5  0140105785  \n",
       "9712       20          6  0200756072  \n",
       "\n",
       "[9713 rows x 7 columns]"
      ]
     },
     "execution_count": 154,
     "metadata": {},
     "output_type": "execute_result"
    }
   ],
   "source": [
    "x_test.drop(['business_code', 'name_customer', 'clear_date', 'buisness_year', 'invoice_currency', 'baseline_create_date', 'cust_payment_terms', 'isOpen'], axis=1, inplace=True)\n",
    "\n",
    "x_test[\"posting_day\"] = x_test[\"posting_date\"].dt.day\n",
    "x_test[\"posting_month\"] = x_test[\"posting_date\"].dt.month\n",
    "\n",
    "x_test[\"due_day\"] = x_test[\"due_in_date\"].dt.day\n",
    "x_test[\"due_month\"] = x_test[\"due_in_date\"].dt.month\n",
    "\n",
    "x_test['cn'] = x_test['cust_number'].str.extract('(\\d+)')\n",
    "x_test.drop('cust_number',axis=1,inplace=True)\n",
    "\n",
    "x_test.drop(columns=['posting_date', 'due_in_date'], inplace=True)\n",
    "x_test"
   ]
  },
  {
   "cell_type": "code",
   "execution_count": 155,
   "metadata": {},
   "outputs": [
    {
     "name": "stdout",
     "output_type": "stream",
     "text": [
      "<class 'pandas.core.frame.DataFrame'>\n",
      "RangeIndex: 9713 entries, 0 to 9712\n",
      "Data columns (total 7 columns):\n",
      "document_create_date.1    9713 non-null datetime64[ns]\n",
      "total_open_amount         9713 non-null float64\n",
      "posting_day               9713 non-null int64\n",
      "posting_month             9713 non-null int64\n",
      "due_day                   9713 non-null int64\n",
      "due_month                 9713 non-null int64\n",
      "cn                        9713 non-null float64\n",
      "dtypes: datetime64[ns](1), float64(2), int64(4)\n",
      "memory usage: 531.3 KB\n"
     ]
    }
   ],
   "source": [
    "x_test['cn']=x_test['cn'].astype(str).astype(float)\n",
    "x_test.info()"
   ]
  },
  {
   "cell_type": "code",
   "execution_count": 156,
   "metadata": {},
   "outputs": [],
   "source": [
    "x_test = x_test.drop([\"posting_month\"], axis=1).copy()"
   ]
  },
  {
   "cell_type": "code",
   "execution_count": 158,
   "metadata": {},
   "outputs": [],
   "source": [
    "x_test.drop(['document_create_date.1'], axis=1, inplace=True)"
   ]
  },
  {
   "cell_type": "code",
   "execution_count": 159,
   "metadata": {},
   "outputs": [],
   "source": [
    "predicted1 = clf1.predict(x_test)"
   ]
  },
  {
   "cell_type": "code",
   "execution_count": 160,
   "metadata": {},
   "outputs": [
    {
     "data": {
      "text/plain": [
       "array([-1,  0, -2, ..., 10,  6,  0])"
      ]
     },
     "execution_count": 160,
     "metadata": {},
     "output_type": "execute_result"
    }
   ],
   "source": [
    "predicted1=np.around(predicted1)\n",
    "predicted1.astype(int)"
   ]
  },
  {
   "cell_type": "code",
   "execution_count": 161,
   "metadata": {},
   "outputs": [
    {
     "data": {
      "text/plain": [
       "9713"
      ]
     },
     "execution_count": 161,
     "metadata": {},
     "output_type": "execute_result"
    }
   ],
   "source": [
    "len(predicted1)"
   ]
  },
  {
   "cell_type": "markdown",
   "metadata": {},
   "source": [
    "### We got the delay on test set."
   ]
  },
  {
   "cell_type": "markdown",
   "metadata": {},
   "source": [
    "### Creating a new dataframe\n"
   ]
  },
  {
   "cell_type": "code",
   "execution_count": 162,
   "metadata": {},
   "outputs": [],
   "source": [
    "Colm=pd.DataFrame()"
   ]
  },
  {
   "cell_type": "code",
   "execution_count": 163,
   "metadata": {},
   "outputs": [
    {
     "data": {
      "text/html": [
       "<div>\n",
       "<style scoped>\n",
       "    .dataframe tbody tr th:only-of-type {\n",
       "        vertical-align: middle;\n",
       "    }\n",
       "\n",
       "    .dataframe tbody tr th {\n",
       "        vertical-align: top;\n",
       "    }\n",
       "\n",
       "    .dataframe thead th {\n",
       "        text-align: right;\n",
       "    }\n",
       "</style>\n",
       "<table border=\"1\" class=\"dataframe\">\n",
       "  <thead>\n",
       "    <tr style=\"text-align: right;\">\n",
       "      <th></th>\n",
       "      <th>Delay</th>\n",
       "    </tr>\n",
       "  </thead>\n",
       "  <tbody>\n",
       "    <tr>\n",
       "      <td>0</td>\n",
       "      <td>-1 days</td>\n",
       "    </tr>\n",
       "    <tr>\n",
       "      <td>1</td>\n",
       "      <td>0 days</td>\n",
       "    </tr>\n",
       "    <tr>\n",
       "      <td>2</td>\n",
       "      <td>-2 days</td>\n",
       "    </tr>\n",
       "    <tr>\n",
       "      <td>3</td>\n",
       "      <td>-1 days</td>\n",
       "    </tr>\n",
       "    <tr>\n",
       "      <td>4</td>\n",
       "      <td>-1 days</td>\n",
       "    </tr>\n",
       "    <tr>\n",
       "      <td>...</td>\n",
       "      <td>...</td>\n",
       "    </tr>\n",
       "    <tr>\n",
       "      <td>9708</td>\n",
       "      <td>0 days</td>\n",
       "    </tr>\n",
       "    <tr>\n",
       "      <td>9709</td>\n",
       "      <td>0 days</td>\n",
       "    </tr>\n",
       "    <tr>\n",
       "      <td>9710</td>\n",
       "      <td>10 days</td>\n",
       "    </tr>\n",
       "    <tr>\n",
       "      <td>9711</td>\n",
       "      <td>6 days</td>\n",
       "    </tr>\n",
       "    <tr>\n",
       "      <td>9712</td>\n",
       "      <td>0 days</td>\n",
       "    </tr>\n",
       "  </tbody>\n",
       "</table>\n",
       "<p>9713 rows × 1 columns</p>\n",
       "</div>"
      ],
      "text/plain": [
       "       Delay\n",
       "0    -1 days\n",
       "1     0 days\n",
       "2    -2 days\n",
       "3    -1 days\n",
       "4    -1 days\n",
       "...      ...\n",
       "9708  0 days\n",
       "9709  0 days\n",
       "9710 10 days\n",
       "9711  6 days\n",
       "9712  0 days\n",
       "\n",
       "[9713 rows x 1 columns]"
      ]
     },
     "execution_count": 163,
     "metadata": {},
     "output_type": "execute_result"
    }
   ],
   "source": [
    "Delay=[]\n",
    "for x in predicted1:\n",
    "    Delay.append(pd.Timedelta(days=x))\n",
    "Colm['Delay'] = Delay\n",
    "Colm"
   ]
  },
  {
   "cell_type": "markdown",
   "metadata": {},
   "source": [
    "Predicting the clear date"
   ]
  },
  {
   "cell_type": "code",
   "execution_count": 164,
   "metadata": {},
   "outputs": [
    {
     "data": {
      "text/html": [
       "<div>\n",
       "<style scoped>\n",
       "    .dataframe tbody tr th:only-of-type {\n",
       "        vertical-align: middle;\n",
       "    }\n",
       "\n",
       "    .dataframe tbody tr th {\n",
       "        vertical-align: top;\n",
       "    }\n",
       "\n",
       "    .dataframe thead th {\n",
       "        text-align: right;\n",
       "    }\n",
       "</style>\n",
       "<table border=\"1\" class=\"dataframe\">\n",
       "  <thead>\n",
       "    <tr style=\"text-align: right;\">\n",
       "      <th></th>\n",
       "      <th>Delay</th>\n",
       "      <th>clear_date</th>\n",
       "    </tr>\n",
       "  </thead>\n",
       "  <tbody>\n",
       "    <tr>\n",
       "      <td>0</td>\n",
       "      <td>-1 days</td>\n",
       "      <td>2020-03-12</td>\n",
       "    </tr>\n",
       "    <tr>\n",
       "      <td>1</td>\n",
       "      <td>0 days</td>\n",
       "      <td>2020-03-13</td>\n",
       "    </tr>\n",
       "    <tr>\n",
       "      <td>2</td>\n",
       "      <td>-2 days</td>\n",
       "      <td>2020-03-11</td>\n",
       "    </tr>\n",
       "    <tr>\n",
       "      <td>3</td>\n",
       "      <td>-1 days</td>\n",
       "      <td>2020-03-12</td>\n",
       "    </tr>\n",
       "    <tr>\n",
       "      <td>4</td>\n",
       "      <td>-1 days</td>\n",
       "      <td>2020-03-12</td>\n",
       "    </tr>\n",
       "    <tr>\n",
       "      <td>...</td>\n",
       "      <td>...</td>\n",
       "      <td>...</td>\n",
       "    </tr>\n",
       "    <tr>\n",
       "      <td>9708</td>\n",
       "      <td>0 days</td>\n",
       "      <td>2020-05-30</td>\n",
       "    </tr>\n",
       "    <tr>\n",
       "      <td>9709</td>\n",
       "      <td>0 days</td>\n",
       "      <td>2020-05-30</td>\n",
       "    </tr>\n",
       "    <tr>\n",
       "      <td>9710</td>\n",
       "      <td>10 days</td>\n",
       "      <td>2020-05-26</td>\n",
       "    </tr>\n",
       "    <tr>\n",
       "      <td>9711</td>\n",
       "      <td>6 days</td>\n",
       "      <td>2020-06-04</td>\n",
       "    </tr>\n",
       "    <tr>\n",
       "      <td>9712</td>\n",
       "      <td>0 days</td>\n",
       "      <td>2020-06-20</td>\n",
       "    </tr>\n",
       "  </tbody>\n",
       "</table>\n",
       "<p>9713 rows × 2 columns</p>\n",
       "</div>"
      ],
      "text/plain": [
       "       Delay clear_date\n",
       "0    -1 days 2020-03-12\n",
       "1     0 days 2020-03-13\n",
       "2    -2 days 2020-03-11\n",
       "3    -1 days 2020-03-12\n",
       "4    -1 days 2020-03-12\n",
       "...      ...        ...\n",
       "9708  0 days 2020-05-30\n",
       "9709  0 days 2020-05-30\n",
       "9710 10 days 2020-05-26\n",
       "9711  6 days 2020-06-04\n",
       "9712  0 days 2020-06-20\n",
       "\n",
       "[9713 rows x 2 columns]"
      ]
     },
     "execution_count": 164,
     "metadata": {},
     "output_type": "execute_result"
    }
   ],
   "source": [
    "Colm['clear_date'] = ts['due_in_date']+Colm['Delay']\n",
    "Colm"
   ]
  },
  {
   "cell_type": "code",
   "execution_count": 165,
   "metadata": {},
   "outputs": [
    {
     "data": {
      "text/html": [
       "<div>\n",
       "<style scoped>\n",
       "    .dataframe tbody tr th:only-of-type {\n",
       "        vertical-align: middle;\n",
       "    }\n",
       "\n",
       "    .dataframe tbody tr th {\n",
       "        vertical-align: top;\n",
       "    }\n",
       "\n",
       "    .dataframe thead th {\n",
       "        text-align: right;\n",
       "    }\n",
       "</style>\n",
       "<table border=\"1\" class=\"dataframe\">\n",
       "  <thead>\n",
       "    <tr style=\"text-align: right;\">\n",
       "      <th></th>\n",
       "      <th>clear_date</th>\n",
       "      <th>Aging Bucket</th>\n",
       "    </tr>\n",
       "  </thead>\n",
       "  <tbody>\n",
       "    <tr>\n",
       "      <td>0</td>\n",
       "      <td>2020-03-12</td>\n",
       "      <td>(-infi)-0days</td>\n",
       "    </tr>\n",
       "    <tr>\n",
       "      <td>1</td>\n",
       "      <td>2020-03-13</td>\n",
       "      <td>(-infi)-0days</td>\n",
       "    </tr>\n",
       "    <tr>\n",
       "      <td>2</td>\n",
       "      <td>2020-03-11</td>\n",
       "      <td>(-infi)-0days</td>\n",
       "    </tr>\n",
       "    <tr>\n",
       "      <td>3</td>\n",
       "      <td>2020-03-12</td>\n",
       "      <td>(-infi)-0days</td>\n",
       "    </tr>\n",
       "    <tr>\n",
       "      <td>4</td>\n",
       "      <td>2020-03-12</td>\n",
       "      <td>(-infi)-0days</td>\n",
       "    </tr>\n",
       "    <tr>\n",
       "      <td>...</td>\n",
       "      <td>...</td>\n",
       "      <td>...</td>\n",
       "    </tr>\n",
       "    <tr>\n",
       "      <td>9708</td>\n",
       "      <td>2020-05-30</td>\n",
       "      <td>(-infi)-0days</td>\n",
       "    </tr>\n",
       "    <tr>\n",
       "      <td>9709</td>\n",
       "      <td>2020-05-30</td>\n",
       "      <td>(-infi)-0days</td>\n",
       "    </tr>\n",
       "    <tr>\n",
       "      <td>9710</td>\n",
       "      <td>2020-05-26</td>\n",
       "      <td>0-10 days</td>\n",
       "    </tr>\n",
       "    <tr>\n",
       "      <td>9711</td>\n",
       "      <td>2020-06-04</td>\n",
       "      <td>0-10 days</td>\n",
       "    </tr>\n",
       "    <tr>\n",
       "      <td>9712</td>\n",
       "      <td>2020-06-20</td>\n",
       "      <td>(-infi)-0days</td>\n",
       "    </tr>\n",
       "  </tbody>\n",
       "</table>\n",
       "<p>9713 rows × 2 columns</p>\n",
       "</div>"
      ],
      "text/plain": [
       "     clear_date   Aging Bucket\n",
       "0    2020-03-12  (-infi)-0days\n",
       "1    2020-03-13  (-infi)-0days\n",
       "2    2020-03-11  (-infi)-0days\n",
       "3    2020-03-12  (-infi)-0days\n",
       "4    2020-03-12  (-infi)-0days\n",
       "...         ...            ...\n",
       "9708 2020-05-30  (-infi)-0days\n",
       "9709 2020-05-30  (-infi)-0days\n",
       "9710 2020-05-26      0-10 days\n",
       "9711 2020-06-04      0-10 days\n",
       "9712 2020-06-20  (-infi)-0days\n",
       "\n",
       "[9713 rows x 2 columns]"
      ]
     },
     "execution_count": 165,
     "metadata": {},
     "output_type": "execute_result"
    }
   ],
   "source": [
    "aging_bucket = []\n",
    "for x in predicted1:\n",
    "    if x<=0:\n",
    "        aging_bucket.append(\"(-infi)-0days\")\n",
    "    elif x<=10:\n",
    "        aging_bucket.append(\"0-10 days\")\n",
    "    \n",
    "    else:\n",
    "        aging_bucket.append(\"10-(infi)days\")\n",
    "Colm['Aging Bucket']= aging_bucket\n",
    "Colm.drop(['Delay'],axis=1,inplace=True)\n",
    "Colm"
   ]
  },
  {
   "cell_type": "markdown",
   "metadata": {},
   "source": [
    "### This is the final prediction we got"
   ]
  },
  {
   "cell_type": "markdown",
   "metadata": {},
   "source": [
    "# THE END..."
   ]
  },
  {
   "cell_type": "code",
   "execution_count": null,
   "metadata": {},
   "outputs": [],
   "source": []
  }
 ],
 "metadata": {
  "kernelspec": {
   "display_name": "Python 3",
   "language": "python",
   "name": "python3"
  },
  "language_info": {
   "codemirror_mode": {
    "name": "ipython",
    "version": 3
   },
   "file_extension": ".py",
   "mimetype": "text/x-python",
   "name": "python",
   "nbconvert_exporter": "python",
   "pygments_lexer": "ipython3",
   "version": "3.7.4"
  }
 },
 "nbformat": 4,
 "nbformat_minor": 5
}
